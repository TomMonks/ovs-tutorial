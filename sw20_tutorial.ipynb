{
 "cells": [
  {
   "cell_type": "markdown",
   "metadata": {},
   "source": [
    "# Optimisation via Simulation Tutorial\n",
    "\n",
    "By Christine S.M Currie and Tom Monks"
   ]
  },
  {
   "cell_type": "code",
   "execution_count": null,
   "metadata": {},
   "outputs": [],
   "source": [
    "import numpy as np"
   ]
  },
  {
   "cell_type": "markdown",
   "metadata": {},
   "source": [
    "## Models\n",
    "\n",
    "To do.\n",
    "\n",
    "* Need to rename some of the functions so that it fits\n",
    "* Need to adapt Christine's Law inventory model"
   ]
  },
  {
   "cell_type": "code",
   "execution_count": 1,
   "metadata": {},
   "outputs": [],
   "source": [
    "from ovs.toy_models import (custom_guass_bandit_problem,\n",
    "                            BanditCasino, \n",
    "                            guassian_bandit_sequence)"
   ]
  },
  {
   "cell_type": "markdown",
   "metadata": {},
   "source": [
    "## Procedure **KN**\n",
    "\n",
    "To run Kim and Nelson's R&S procedure KN, create an instance of `ovs.indifference_zone.KN`\n",
    "\n",
    "An object of type KN takes the following parameters:\n",
    "\n",
    "* **model** - a simulation model\n",
    "* **n_designs** - int, the number of competing designs to compare\n",
    "* **delta** - float, the indifference zone\n",
    "* **alpha** - float, $PCS = 1-\\alpha$ (default=0.05)\n",
    "* **n_0** - int, $n_0$ the number of initial replications (default=2)"
   ]
  },
  {
   "cell_type": "code",
   "execution_count": 2,
   "metadata": {},
   "outputs": [],
   "source": [
    "from ovs.indifference_zone import KN"
   ]
  },
  {
   "cell_type": "code",
   "execution_count": 3,
   "metadata": {},
   "outputs": [],
   "source": [
    "designs = guassian_bandit_sequence(1, 11)\n",
    "environment = BanditCasino(designs)\n",
    "\n",
    "kn = KN(model=environment, \n",
    "        n_designs=len(designs), \n",
    "        delta=0.05, \n",
    "        alpha=0.1, \n",
    "        n_0=5)"
   ]
  },
  {
   "cell_type": "code",
   "execution_count": 4,
   "metadata": {},
   "outputs": [
    {
     "name": "stdout",
     "output_type": "stream",
     "text": [
      "best design\t[9]\n",
      "allocations\t[ 6  5  6  7  7 27 32 33 34 35]\n",
      "total reps\t192\n",
      "means\t\t[0.83835058 2.39783421 2.76141715 4.4409697  4.66321696 6.00166801\n",
      " 7.03259649 7.95113475 9.02445989 9.94936711]\n"
     ]
    }
   ],
   "source": [
    "best_design = kn.solve()\n",
    "print('best design\\t{0}'.format(best_design))\n",
    "print('allocations\\t{0}'.format(kn._actions))\n",
    "print('total reps\\t{0}'.format(kn._actions.sum()))\n",
    "print('means\\t\\t{0}'.format(kn._means))"
   ]
  },
  {
   "cell_type": "markdown",
   "metadata": {},
   "source": [
    "## Optimal Computing Budget Allocation (OCBA)\n",
    "\n",
    "An object of type OCBA takes the following parameters:\n",
    "\n",
    "* **model** - a simulation model\n",
    "* **n_designs** - int, the number of competing designs to compare\n",
    "* **budget** - int, the total number of replications to allocate across designs\n",
    "* **delta** - int, the incremental amount of replications to allocate at each round\n",
    "* **n_0** - int, $n_0$ the number of initial replications (default=5)\n",
    "* **min** - bool, True if minimisation; False if maximisation (default=False)"
   ]
  },
  {
   "cell_type": "code",
   "execution_count": 5,
   "metadata": {},
   "outputs": [],
   "source": [
    "from ovs.fixed_budget import OCBA, OCBAM"
   ]
  },
  {
   "cell_type": "code",
   "execution_count": 6,
   "metadata": {},
   "outputs": [],
   "source": [
    "designs = guassian_bandit_sequence(1, 11)\n",
    "environment = BanditCasino(designs)\n",
    "\n",
    "ocba = OCBA(model=environment, \n",
    "            n_designs=len(designs), \n",
    "            budget=500, \n",
    "            delta=5, \n",
    "            n_0=5, \n",
    "            obj='min')"
   ]
  },
  {
   "cell_type": "code",
   "execution_count": 7,
   "metadata": {},
   "outputs": [
    {
     "name": "stdout",
     "output_type": "stream",
     "text": [
      "OCBA(n_designs=10, budget=500, delta=5, n_0=5, obj=min)\n"
     ]
    }
   ],
   "source": [
    "print(ocba)"
   ]
  },
  {
   "cell_type": "markdown",
   "metadata": {},
   "source": [
    "call the `solve()` method to run the optimisation"
   ]
  },
  {
   "cell_type": "code",
   "execution_count": 8,
   "metadata": {},
   "outputs": [
    {
     "name": "stdout",
     "output_type": "stream",
     "text": [
      "best design:\t0\n",
      "allocations:\t[217 187  47  13  11   5   5   5   5   5]\n",
      "total reps:\t500\n"
     ]
    },
    {
     "ename": "NameError",
     "evalue": "name 'np' is not defined",
     "output_type": "error",
     "traceback": [
      "\u001b[0;31m---------------------------------------------------------------------------\u001b[0m",
      "\u001b[0;31mNameError\u001b[0m                                 Traceback (most recent call last)",
      "\u001b[0;32m<ipython-input-8-737a0d910862>\u001b[0m in \u001b[0;36m<module>\u001b[0;34m\u001b[0m\n\u001b[1;32m      4\u001b[0m \u001b[0mprint\u001b[0m\u001b[0;34m(\u001b[0m\u001b[0;34m'total reps:\\t{}'\u001b[0m\u001b[0;34m.\u001b[0m\u001b[0mformat\u001b[0m\u001b[0;34m(\u001b[0m\u001b[0mocba\u001b[0m\u001b[0;34m.\u001b[0m\u001b[0m_allocations\u001b[0m\u001b[0;34m.\u001b[0m\u001b[0msum\u001b[0m\u001b[0;34m(\u001b[0m\u001b[0;34m)\u001b[0m\u001b[0;34m)\u001b[0m\u001b[0;34m)\u001b[0m\u001b[0;34m\u001b[0m\u001b[0;34m\u001b[0m\u001b[0m\n\u001b[1;32m      5\u001b[0m \u001b[0;34m\u001b[0m\u001b[0m\n\u001b[0;32m----> 6\u001b[0;31m \u001b[0mnp\u001b[0m\u001b[0;34m.\u001b[0m\u001b[0mset_printoptions\u001b[0m\u001b[0;34m(\u001b[0m\u001b[0mprecision\u001b[0m\u001b[0;34m=\u001b[0m\u001b[0;36m2\u001b[0m\u001b[0;34m)\u001b[0m\u001b[0;34m\u001b[0m\u001b[0;34m\u001b[0m\u001b[0m\n\u001b[0m\u001b[1;32m      7\u001b[0m \u001b[0mprint\u001b[0m\u001b[0;34m(\u001b[0m\u001b[0;34m'means:\\t\\t{0}'\u001b[0m\u001b[0;34m.\u001b[0m\u001b[0mformat\u001b[0m\u001b[0;34m(\u001b[0m\u001b[0mocba\u001b[0m\u001b[0;34m.\u001b[0m\u001b[0m_means\u001b[0m\u001b[0;34m)\u001b[0m\u001b[0;34m)\u001b[0m\u001b[0;34m\u001b[0m\u001b[0;34m\u001b[0m\u001b[0m\n\u001b[1;32m      8\u001b[0m \u001b[0mprint\u001b[0m\u001b[0;34m(\u001b[0m\u001b[0;34m'vars:\\t\\t{0}'\u001b[0m\u001b[0;34m.\u001b[0m\u001b[0mformat\u001b[0m\u001b[0;34m(\u001b[0m\u001b[0mocba\u001b[0m\u001b[0;34m.\u001b[0m\u001b[0m_vars\u001b[0m\u001b[0;34m)\u001b[0m\u001b[0;34m)\u001b[0m\u001b[0;34m\u001b[0m\u001b[0;34m\u001b[0m\u001b[0m\n",
      "\u001b[0;31mNameError\u001b[0m: name 'np' is not defined"
     ]
    }
   ],
   "source": [
    "results = ocba.solve()\n",
    "print('best design:\\t{}'.format(results))\n",
    "print('allocations:\\t{}'.format(ocba._allocations))\n",
    "print('total reps:\\t{}'.format(ocba._allocations.sum()))\n",
    "\n",
    "np.set_printoptions(precision=2)\n",
    "print('means:\\t\\t{0}'.format(ocba._means))\n",
    "print('vars:\\t\\t{0}'.format(ocba._vars))"
   ]
  },
  {
   "cell_type": "markdown",
   "metadata": {},
   "source": [
    "## Optimal Computing Budget Allocation Top M (OCBA-m)\n",
    "\n",
    "OCBA-m extended OCBA to identify the top m designs.  \n",
    "\n",
    "An object of type `OCBAM` takes the following parameters:\n",
    "\n",
    "* **model** - a simulation model\n",
    "* **n_designs** - int, the number of competing designs to compare\n",
    "* **budget** - int, the total number of replications to allocate across designs\n",
    "* **delta** - int, the incremental amount of replications to allocate at each round\n",
    "* **n_0** - int, $n_0$ the number of initial replications (default=5)\n",
    "* **m** - int, $m$ the number of top designs to return\n",
    "* **min** - bool, True if minimisation; False if maximisation (default=False)"
   ]
  },
  {
   "cell_type": "code",
   "execution_count": 9,
   "metadata": {},
   "outputs": [],
   "source": [
    "designs = guassian_bandit_sequence(1, 101)\n",
    "environment = BanditCasino(designs)\n",
    "\n",
    "ocbam = OCBAM(model=environment, \n",
    "            n_designs=len(designs), \n",
    "            budget=2000, \n",
    "            delta=10, \n",
    "            n_0=5, \n",
    "            m=3,\n",
    "            obj='max')"
   ]
  },
  {
   "cell_type": "code",
   "execution_count": 10,
   "metadata": {},
   "outputs": [
    {
     "name": "stdout",
     "output_type": "stream",
     "text": [
      "OCBA(n_designs=100, m=3, budget=2000, delta=10, n_0=5, obj=max)\n"
     ]
    }
   ],
   "source": [
    "print(ocbam)"
   ]
  },
  {
   "cell_type": "code",
   "execution_count": 11,
   "metadata": {},
   "outputs": [
    {
     "ename": "NameError",
     "evalue": "name 'np' is not defined",
     "output_type": "error",
     "traceback": [
      "\u001b[0;31m---------------------------------------------------------------------------\u001b[0m",
      "\u001b[0;31mNameError\u001b[0m                                 Traceback (most recent call last)",
      "\u001b[0;32m<ipython-input-11-a546afa87391>\u001b[0m in \u001b[0;36m<module>\u001b[0;34m\u001b[0m\n\u001b[1;32m      1\u001b[0m \u001b[0mresults\u001b[0m \u001b[0;34m=\u001b[0m \u001b[0mocba\u001b[0m\u001b[0;34m.\u001b[0m\u001b[0msolve\u001b[0m\u001b[0;34m(\u001b[0m\u001b[0;34m)\u001b[0m\u001b[0;34m\u001b[0m\u001b[0;34m\u001b[0m\u001b[0m\n\u001b[0;32m----> 2\u001b[0;31m \u001b[0mprint\u001b[0m\u001b[0;34m(\u001b[0m\u001b[0;34m'best designs:\\t{}'\u001b[0m\u001b[0;34m.\u001b[0m\u001b[0mformat\u001b[0m\u001b[0;34m(\u001b[0m\u001b[0mnp\u001b[0m\u001b[0;34m.\u001b[0m\u001b[0msort\u001b[0m\u001b[0;34m(\u001b[0m\u001b[0mresults\u001b[0m\u001b[0;34m)\u001b[0m\u001b[0;34m)\u001b[0m\u001b[0;34m)\u001b[0m\u001b[0;34m\u001b[0m\u001b[0;34m\u001b[0m\u001b[0m\n\u001b[0m\u001b[1;32m      3\u001b[0m \u001b[0mprint\u001b[0m\u001b[0;34m(\u001b[0m\u001b[0;34m'allocations:\\t{}'\u001b[0m\u001b[0;34m.\u001b[0m\u001b[0mformat\u001b[0m\u001b[0;34m(\u001b[0m\u001b[0mocba\u001b[0m\u001b[0;34m.\u001b[0m\u001b[0m_allocations\u001b[0m\u001b[0;34m)\u001b[0m\u001b[0;34m)\u001b[0m\u001b[0;34m\u001b[0m\u001b[0;34m\u001b[0m\u001b[0m\n\u001b[1;32m      4\u001b[0m \u001b[0mprint\u001b[0m\u001b[0;34m(\u001b[0m\u001b[0;34m'total reps:\\t{}'\u001b[0m\u001b[0;34m.\u001b[0m\u001b[0mformat\u001b[0m\u001b[0;34m(\u001b[0m\u001b[0mocba\u001b[0m\u001b[0;34m.\u001b[0m\u001b[0m_allocations\u001b[0m\u001b[0;34m.\u001b[0m\u001b[0msum\u001b[0m\u001b[0;34m(\u001b[0m\u001b[0;34m)\u001b[0m\u001b[0;34m)\u001b[0m\u001b[0;34m)\u001b[0m\u001b[0;34m\u001b[0m\u001b[0;34m\u001b[0m\u001b[0m\n\u001b[1;32m      5\u001b[0m \u001b[0;34m\u001b[0m\u001b[0m\n",
      "\u001b[0;31mNameError\u001b[0m: name 'np' is not defined"
     ]
    }
   ],
   "source": [
    "results = ocba.solve()\n",
    "print('best designs:\\t{}'.format(np.sort(results)))\n",
    "print('allocations:\\t{}'.format(ocba._allocations))\n",
    "print('total reps:\\t{}'.format(ocba._allocations.sum()))\n",
    "\n",
    "np.set_printoptions(precision=2)\n",
    "print('means:\\t\\t{0}'.format(ocba._means))\n",
    "print('vars:\\t\\t{0}'.format(ocba._vars))\n",
    "print('SEs:\\t\\t{0}'.format(ocba._ses))"
   ]
  },
  {
   "cell_type": "code",
   "execution_count": null,
   "metadata": {},
   "outputs": [],
   "source": [
    "np.argsort(ocba._means)[-3:]"
   ]
  },
  {
   "cell_type": "markdown",
   "metadata": {},
   "source": [
    "# Evaluation of the methods"
   ]
  },
  {
   "cell_type": "code",
   "execution_count": null,
   "metadata": {},
   "outputs": [],
   "source": [
    "from ovs.evaluation import Experiment"
   ]
  },
  {
   "cell_type": "code",
   "execution_count": null,
   "metadata": {},
   "outputs": [],
   "source": [
    "designs = guassian_bandit_sequence(1, 11)\n",
    "environment = BanditCasino(designs)\n",
    "\n",
    "kn = KN(model=environment, \n",
    "        n_designs=len(designs), \n",
    "        delta=0.1, \n",
    "        alpha=0.2, \n",
    "        n_0=5)\n",
    "\n",
    "exp = Experiment(env=environment, procedure=kn, best_index=9, replications=10)"
   ]
  },
  {
   "cell_type": "code",
   "execution_count": null,
   "metadata": {},
   "outputs": [],
   "source": [
    "results = exp.execute()"
   ]
  },
  {
   "cell_type": "code",
   "execution_count": null,
   "metadata": {},
   "outputs": [],
   "source": [
    "results.p_correct_selections"
   ]
  },
  {
   "cell_type": "code",
   "execution_count": null,
   "metadata": {},
   "outputs": [],
   "source": [
    "results.selections"
   ]
  },
  {
   "cell_type": "code",
   "execution_count": null,
   "metadata": {},
   "outputs": [],
   "source": [
    "results.correct_selections"
   ]
  },
  {
   "cell_type": "code",
   "execution_count": null,
   "metadata": {},
   "outputs": [],
   "source": [
    "designs = guassian_bandit_sequence(1, 101)\n",
    "environment = BanditCasino(designs)\n",
    "\n",
    "ocba = OCBA(model=environment, \n",
    "            n_designs=len(designs), \n",
    "            budget=200, \n",
    "            delta=10, \n",
    "            n_0=5, \n",
    "            min=False)\n",
    "\n",
    "exp = Experiment(env=environment, procedure=ocba, best_index=9, replications=50)"
   ]
  },
  {
   "cell_type": "code",
   "execution_count": null,
   "metadata": {},
   "outputs": [],
   "source": [
    "results = exp.execute()"
   ]
  },
  {
   "cell_type": "code",
   "execution_count": null,
   "metadata": {},
   "outputs": [],
   "source": [
    "results.p_correct_selections"
   ]
  },
  {
   "cell_type": "code",
   "execution_count": null,
   "metadata": {},
   "outputs": [],
   "source": [
    "results.selections"
   ]
  },
  {
   "cell_type": "code",
   "execution_count": null,
   "metadata": {},
   "outputs": [],
   "source": [
    "results.correct_selections"
   ]
  },
  {
   "cell_type": "markdown",
   "metadata": {},
   "source": [
    "## Try different budgets"
   ]
  },
  {
   "cell_type": "code",
   "execution_count": null,
   "metadata": {},
   "outputs": [],
   "source": [
    "from ovs.evaluation import GridExperiment"
   ]
  },
  {
   "cell_type": "code",
   "execution_count": null,
   "metadata": {},
   "outputs": [],
   "source": [
    "designs = guassian_bandit_sequence(1, 11)\n",
    "environment = BanditCasino(designs)\n",
    "\n",
    "param_grid = {'model':[environment],\n",
    "              'budget':[100, 200, 300, 400, 500], \n",
    "              'n_designs':[len(designs)],\n",
    "              'delta':[1, 5,10],\n",
    "              'n_0':[1, 5],\n",
    "              'min':[False]\n",
    "              }\n",
    "\n",
    "\n",
    "exp = GridExperiment(agent=ocba, \n",
    "                     environment=environment, \n",
    "                     param_grid=param_grid,\n",
    "                     best_index=9,\n",
    "                     replications=1000)"
   ]
  },
  {
   "cell_type": "code",
   "execution_count": null,
   "metadata": {},
   "outputs": [],
   "source": [
    "results = exp.fit()"
   ]
  },
  {
   "cell_type": "code",
   "execution_count": null,
   "metadata": {},
   "outputs": [],
   "source": [
    "results"
   ]
  },
  {
   "cell_type": "code",
   "execution_count": null,
   "metadata": {},
   "outputs": [],
   "source": []
  }
 ],
 "metadata": {
  "kernelspec": {
   "display_name": "Python 3",
   "language": "python",
   "name": "python3"
  },
  "language_info": {
   "codemirror_mode": {
    "name": "ipython",
    "version": 3
   },
   "file_extension": ".py",
   "mimetype": "text/x-python",
   "name": "python",
   "nbconvert_exporter": "python",
   "pygments_lexer": "ipython3",
   "version": "3.7.3"
  }
 },
 "nbformat": 4,
 "nbformat_minor": 4
}
