{
 "cells": [
  {
   "cell_type": "markdown",
   "metadata": {},
   "source": [
    "# An Introduction to Optimisation via Simulation\n",
    "## A tutorial for the Simulation Workshop 2020\n",
    "By Christine S.M Currie and Tom Monks"
   ]
  },
  {
   "cell_type": "code",
   "execution_count": 1,
   "metadata": {},
   "outputs": [],
   "source": [
    "import numpy as np"
   ]
  },
  {
   "cell_type": "markdown",
   "metadata": {},
   "source": [
    "## Models\n",
    "\n",
    "To do.\n",
    "\n",
    "* Need to rename some of the functions so that it fits\n",
    "* Need to adapt Christine's Law inventory model"
   ]
  },
  {
   "cell_type": "code",
   "execution_count": 2,
   "metadata": {},
   "outputs": [],
   "source": [
    "from ovs.toy_models import (custom_guassian_model,\n",
    "                            guassian_sequence_model,\n",
    "                            random_guassian_model,\n",
    "                            ManualOptimiser)"
   ]
  },
  {
   "cell_type": "markdown",
   "metadata": {},
   "source": [
    "This tutorial will be making use of the following models.  \n",
    "\n",
    "### Creating a simple sequence of normal distributions\n",
    "\n",
    "A simple model can be created using the `guassian_sequance_model()` function.  This creates a simulation model where the output of each design follows a $N - (\\mu_{i}, 1.0)$ :\n",
    "\n",
    "The function accepts three keyword arguments:\n",
    "\n",
    "* **start** - int, the first mean in the sequence (inclusive)\n",
    "* **end** - int, the last mean int the sequence (inclusive)\n",
    "* **step** - int, the difference between mean i and mean i + 1.\n",
    "\n",
    "For example, the following code creates a simulation model with 10 designs with means 1 to 10 and unit variance.\n",
    "\n",
    "```python\n",
    "model = guassian_sequence_model(1, 10)\n",
    "```\n",
    "\n",
    "To create a simulation model with 5 designs where $\\mu_{i+1} - \\mu_i = 2 $ :\n",
    "\n",
    "```python\n",
    "model = guassian_sequence_model(1, 10, step=2)\n",
    "```\n",
    "\n",
    "### Creating a custom model with known designs\n",
    "Instead of a sequence of normal distributions with unit variance, it is possible to create a custom set of designs with varying variances. Use the `custom_guassian_model` function for this task.  For example to create a custom set of designs: \n",
    "\n",
    "```python\n",
    "means = [5, 8, 1, 2, 1, 7]\n",
    "variances = [0.1, 1.2, 1.4, 0.3, 0.8]\n",
    "\n",
    "custom_model = custom_guassian_model(means, variances)\n",
    "```\n",
    "\n",
    "The following code demonstrates how to create a sequence of 100 designs with variances that are 10% of the mean. \n",
    "\n",
    "```python\n",
    "n_designs = 100\n",
    "means = [i for i in range(n_designs+1)]\n",
    "variances = [j*0.1 for j in range(n_designs+1)]\n",
    "\n",
    "custom_model = custom_guassian_model(means, variances)\n",
    "```\n",
    "\n",
    "\n",
    "### Creating a model with randomly sampled designs\n",
    "\n",
    "To create a model with a set of unknown designs (within a specified mean and variance tolerance) use \n",
    "\n",
    "```python\n",
    "mean_low = 1.0\n",
    "mean_high = 15.0\n",
    "var_low = 0.1\n",
    "var_high = 2.0\n",
    "n_designs = 15\n",
    "\n",
    "model = random_guassian_model(mean_low, mean_high, var_low, var_high, n_designs)\n",
    "```\n",
    "\n",
    "Where:\n",
    "* **mean_low** - float, a lower bound on the means of the output distributions\n",
    "* **mean_high** - float, an upper bound on the means\n",
    "* **var_low** - float, a lower bound on the variance of the output distributions\n",
    "* **var_high** - float, an upper bound on the variances.\n",
    "* **n_designs** - int, the number of designs to create.\n",
    "\n",
    "### A manual optimisation framework\n",
    "\n",
    "Before using the **Optimisation via Simulation** (OvS) procedures, it is recommended that you get a feel for the framework in which the OvS procedures operate.  To do this we will create some models and explore them using a `ManualOptimiser`.  This allows the user to run independent and multiple replications of the model yourself independent of any algorithm.  The `ManualOptimiser` keeps track of the means, variances and number of replications run for each design.\n",
    "\n",
    "A `ManualOptimiser` object requires two parameters when it is created.  \n",
    "\n",
    "* model - object, e.g. a model that is a sequence of normal distributions\n",
    "* n_designs - the number of designs to be considered."
   ]
  },
  {
   "cell_type": "code",
   "execution_count": 3,
   "metadata": {},
   "outputs": [],
   "source": [
    "manual_opt = ManualOptimiser(model=guassian_sequence_model(1, 10),\n",
    "                             n_designs=10)"
   ]
  },
  {
   "cell_type": "markdown",
   "metadata": {},
   "source": [
    "* We can print the optimiser object to help us remember what parameters we set."
   ]
  },
  {
   "cell_type": "code",
   "execution_count": 4,
   "metadata": {},
   "outputs": [
    {
     "name": "stdout",
     "output_type": "stream",
     "text": [
      "ManualOptimiser(model=BanditCasino(), n_designs=10, verbose=False)\n"
     ]
    }
   ],
   "source": [
    "print(manual_opt)"
   ]
  },
  {
   "cell_type": "markdown",
   "metadata": {},
   "source": [
    "* Follow Law and Kelton's advice and run 3 initial replications of each design."
   ]
  },
  {
   "cell_type": "code",
   "execution_count": 5,
   "metadata": {},
   "outputs": [],
   "source": [
    "manual_opt.simulate_designs(replications=3)"
   ]
  },
  {
   "cell_type": "markdown",
   "metadata": {},
   "source": [
    "The optimiser keeps track of the allocation of replications across each design.  For efficiency it doesn't store each individual observation, but it does compute a running mean and variance.\n",
    "\n",
    "* Let's have a look at the replication allocation between and results of each design."
   ]
  },
  {
   "cell_type": "code",
   "execution_count": 6,
   "metadata": {},
   "outputs": [
    {
     "data": {
      "text/plain": [
       "array([3, 3, 3, 3, 3, 3, 3, 3, 3, 3], dtype=int32)"
      ]
     },
     "execution_count": 6,
     "metadata": {},
     "output_type": "execute_result"
    }
   ],
   "source": [
    "manual_opt.allocations"
   ]
  },
  {
   "cell_type": "code",
   "execution_count": 7,
   "metadata": {},
   "outputs": [
    {
     "data": {
      "text/plain": [
       "array([ 0.7,  2.1,  3.2,  3.6,  5.7,  6.8,  6.9,  8.8,  7.8, 11.1])"
      ]
     },
     "execution_count": 7,
     "metadata": {},
     "output_type": "execute_result"
    }
   ],
   "source": [
    "np.set_printoptions(precision=1) # this is a hack to view at 1 decimal place.\n",
    "manual_opt.means"
   ]
  },
  {
   "cell_type": "code",
   "execution_count": 8,
   "metadata": {},
   "outputs": [
    {
     "data": {
      "text/plain": [
       "array([3.5, 0.6, 0.9, 0.1, 0.3, 2.4, 1.2, 0.2, 0.7, 1. ])"
      ]
     },
     "execution_count": 8,
     "metadata": {},
     "output_type": "execute_result"
    }
   ],
   "source": [
    "manual_opt.sigmas"
   ]
  },
  {
   "cell_type": "markdown",
   "metadata": {},
   "source": [
    "Now let's run 1 additional replication of the top 3 designs. \n",
    "Note - in python arrays are **zero indexed**.  This means that design 1 has index 0."
   ]
  },
  {
   "cell_type": "code",
   "execution_count": null,
   "metadata": {},
   "outputs": [],
   "source": [
    "manual_opt.simulate_designs(design_indexes=[7, 8, 9], replications=1)"
   ]
  },
  {
   "cell_type": "code",
   "execution_count": null,
   "metadata": {},
   "outputs": [],
   "source": [
    "manual_opt.allocations"
   ]
  },
  {
   "cell_type": "code",
   "execution_count": null,
   "metadata": {},
   "outputs": [],
   "source": [
    "manual_opt.simulate_designs(design_indexes=[7, 8, 9], replications=2)"
   ]
  },
  {
   "cell_type": "code",
   "execution_count": null,
   "metadata": {},
   "outputs": [],
   "source": [
    "manual_opt.means"
   ]
  },
  {
   "cell_type": "code",
   "execution_count": null,
   "metadata": {},
   "outputs": [],
   "source": [
    "manual_opt.sigmas"
   ]
  },
  {
   "cell_type": "markdown",
   "metadata": {},
   "source": [
    "### Manual Optimisation of a model with unknown means."
   ]
  },
  {
   "cell_type": "markdown",
   "metadata": {},
   "source": [
    "Now have a go yourself.  This time create a model with random designs.  Run as many replications of each design as you think is neccessary to make a decision abouit which design is best.  Here we define best as the design with the largest mean value."
   ]
  },
  {
   "cell_type": "code",
   "execution_count": null,
   "metadata": {},
   "outputs": [],
   "source": [
    "rnd_model = random_guassian_model(mean_low=5, mean_high=25, \n",
    "                                  var_low=0.5, var_high=2.5,\n",
    "                                  n_designs=10)\n",
    "\n",
    "manual_opt = ManualOptimiser(model=rnd_model, n_designs=10)"
   ]
  },
  {
   "cell_type": "code",
   "execution_count": null,
   "metadata": {},
   "outputs": [],
   "source": [
    "#insert your code here...\n"
   ]
  },
  {
   "cell_type": "markdown",
   "metadata": {},
   "source": [
    "## Procedure **KN**\n",
    "\n",
    "The first Ranking and Selection (R&S) algorithm we will explore is **Procedure KN** developed by Kim and Nelson. This is an *Indifference Zone* (IZ) approach to R&S.  IZ procedures exploit the the idea that the performance of one or more of the sub-optimal designs are in fact so close to the best performing system that a user does not care which one is chosen (the decision maker is said to be *indifferent* to this choice).  To do this a user must specify a quantity $\\delta$.  Procedure KN provides a theorectical guarantee to select the best system or a system within $\\delta$ of the best with probability of $1 - \\alpha$.\n",
    "\n",
    "To run Kim and Nelson's R&S procedure KN, create an instance of `ovs.indifference_zone.KN`\n",
    "\n",
    "An object of type KN takes the following parameters:\n",
    "\n",
    "* **model** - a simulation model\n",
    "* **n_designs** - int, the number of competing designs to compare\n",
    "* **delta** - float, the indifference zone\n",
    "* **alpha** - float, $PCS = 1-\\alpha$ (default=0.05)\n",
    "* **n_0** - int, $n_0$ the number of initial replications (default=2)"
   ]
  },
  {
   "cell_type": "code",
   "execution_count": 3,
   "metadata": {},
   "outputs": [],
   "source": [
    "from ovs.indifference_zone import KN, KNPlusPlus"
   ]
  },
  {
   "cell_type": "code",
   "execution_count": 4,
   "metadata": {},
   "outputs": [],
   "source": [
    "n_designs = 10\n",
    "model = guassian_sequence_model(1, n_designs)\n",
    "\n",
    "#model = random_guassian_model(mean_low=1, mean_high=15, \n",
    "#                              var_low=1, var_high=1,\n",
    "#                              n_designs=10)\n",
    "\n",
    "kn = KN(model=model, \n",
    "        n_designs=10, \n",
    "        delta=1.0, \n",
    "        alpha=0.05, \n",
    "        n_0=5)"
   ]
  },
  {
   "cell_type": "code",
   "execution_count": 5,
   "metadata": {},
   "outputs": [
    {
     "data": {
      "text/plain": [
       "10"
      ]
     },
     "execution_count": 5,
     "metadata": {},
     "output_type": "execute_result"
    }
   ],
   "source": [
    "model[model.best_design]._mu"
   ]
  },
  {
   "cell_type": "code",
   "execution_count": 6,
   "metadata": {},
   "outputs": [
    {
     "data": {
      "text/plain": [
       "9"
      ]
     },
     "execution_count": 6,
     "metadata": {},
     "output_type": "execute_result"
    }
   ],
   "source": [
    "#best design index\n",
    "model.best_design"
   ]
  },
  {
   "cell_type": "code",
   "execution_count": 16,
   "metadata": {},
   "outputs": [
    {
     "name": "stdout",
     "output_type": "stream",
     "text": [
      "best design\t[9]\n",
      "allocations\t[ 5  5  5  5  5 10 25 10 16 26]\n",
      "total reps\t112\n",
      "means\t\t[ 1.27230125  2.5574599   3.3768002   4.4950446   4.44604417  5.96893095\n",
      "  6.98494855  7.95448096  8.76947585 10.13364961]\n"
     ]
    },
    {
     "data": {
      "text/plain": [
       "10"
      ]
     },
     "execution_count": 16,
     "metadata": {},
     "output_type": "execute_result"
    }
   ],
   "source": [
    "kn.reset()\n",
    "best_design = kn.solve()\n",
    "print('best design\\t{0}'.format(best_design))\n",
    "print('allocations\\t{0}'.format(kn._allocations))\n",
    "print('total reps\\t{0}'.format(kn._allocations.sum()))\n",
    "print('means\\t\\t{0}'.format(kn._means))\n",
    "model[best_design[0]]._mu"
   ]
  },
  {
   "cell_type": "code",
   "execution_count": 32,
   "metadata": {},
   "outputs": [],
   "source": [
    "knpp = KNPlusPlus(model=model, \n",
    "                  n_designs=10, \n",
    "                  delta=1.0, \n",
    "                  alpha=0.05, \n",
    "                  n_0=5)"
   ]
  },
  {
   "cell_type": "code",
   "execution_count": 33,
   "metadata": {},
   "outputs": [
    {
     "name": "stdout",
     "output_type": "stream",
     "text": [
      "best design\t[9]\n",
      "allocations\t[5 5 5 5 5 5 5 5 5 6]\n",
      "total reps\t51\n",
      "means\t\t[-0.48086413 -2.52236078 -3.45264768 -4.55354971 -5.1544865  -6.48816165\n",
      " -7.43699926 -8.00662423 -8.93729333 -9.5623595 ]\n",
      "vars\t\t[0.32646246 0.28613613 0.49533396 0.32714145 1.00774337 2.68299547\n",
      " 0.41628835 0.69824525 0.46776161 0.96033603]\n"
     ]
    },
    {
     "data": {
      "text/plain": [
       "10"
      ]
     },
     "execution_count": 33,
     "metadata": {},
     "output_type": "execute_result"
    }
   ],
   "source": [
    "best_design = knpp.solve()\n",
    "print('best design\\t{0}'.format(best_design))\n",
    "print('allocations\\t{0}'.format(knpp._allocations))\n",
    "print('total reps\\t{0}'.format(knpp._allocations.sum()))\n",
    "print('means\\t\\t{0}'.format(knpp._means))\n",
    "print('vars\\t\\t{0}'.format(knpp._vars))\n",
    "model[best_design[0]]._mu"
   ]
  },
  {
   "cell_type": "code",
   "execution_count": 44,
   "metadata": {},
   "outputs": [
    {
     "data": {
      "text/plain": [
       "array([2, 5, 8, 9])"
      ]
     },
     "execution_count": 44,
     "metadata": {},
     "output_type": "execute_result"
    }
   ],
   "source": [
    "n_designs = 10\n",
    "#means = [i for i in range(n_designs+1)]\n",
    "#variances = [j*0.1 for j in range(n_designs+1)]\n",
    "\n",
    "means = [4, 4.1, 4.2, 4, 4.1, 4.3, 4, 4.1, 4.2, 4.2]\n",
    "variances = [1, 1, 1, 0.1, 0.1, 10, 10, 10, 10, 0.1]\n",
    "\n",
    "guass_model = custom_guassian_model(means, variances)\n",
    "\n",
    "kn = KN(model=guass_model, \n",
    "        n_designs=n_designs, \n",
    "        delta=0.15, \n",
    "        alpha=0.05, \n",
    "        n_0=50)\n",
    "\n",
    "#print out which design indexes are in the indifference zone\n",
    "np.where(4.3 - np.array(means) <= 0.15)[0]"
   ]
  },
  {
   "cell_type": "code",
   "execution_count": 45,
   "metadata": {},
   "outputs": [
    {
     "name": "stdout",
     "output_type": "stream",
     "text": [
      "best design\t[5]\n",
      "allocations\t[ 228  236 5661   50   50 9321 8661 9320 9320   50]\n",
      "total reps\t42897\n",
      "means\t\t[3.98355209 3.99089484 4.21053632 4.00427739 4.08636254 4.5359127\n",
      " 4.16717206 4.15243085 4.25790498 4.17253833]\n"
     ]
    },
    {
     "data": {
      "text/plain": [
       "6"
      ]
     },
     "execution_count": 45,
     "metadata": {},
     "output_type": "execute_result"
    }
   ],
   "source": [
    "kn.reset()\n",
    "best_design = kn.solve()\n",
    "print('best design\\t{0}'.format(best_design))\n",
    "print('allocations\\t{0}'.format(kn._allocations))\n",
    "print('total reps\\t{0}'.format(kn._allocations.sum()))\n",
    "print('means\\t\\t{0}'.format(kn._means))\n",
    "model[best_design[0]]._mu"
   ]
  },
  {
   "cell_type": "code",
   "execution_count": 39,
   "metadata": {},
   "outputs": [
    {
     "name": "stdout",
     "output_type": "stream",
     "text": [
      "best design\t[5]\n",
      "allocations\t[5 5 5 5 5 6 5 5 5 5]\n",
      "total reps\t51\n",
      "means\t\t[-3.64155142 -4.07738943 -4.43214353 -4.04353978 -4.08437033 -8.78479154\n",
      " -4.95121291 -0.35734985 -1.86576327 -4.14704012]\n"
     ]
    }
   ],
   "source": [
    "knpp = KNPlusPlus(model=guass_model, \n",
    "        n_designs=n_designs, \n",
    "        delta=0.15, \n",
    "        alpha=0.05, \n",
    "        n_0=5)\n",
    "\n",
    "best_design = knpp.solve()\n",
    "print('best design\\t{0}'.format(best_design))\n",
    "print('allocations\\t{0}'.format(knpp._allocations))\n",
    "print('total reps\\t{0}'.format(knpp._allocations.sum()))\n",
    "print('means\\t\\t{0}'.format(knpp._means))"
   ]
  },
  {
   "cell_type": "markdown",
   "metadata": {},
   "source": [
    "## Optimal Computing Budget Allocation (OCBA)\n",
    "\n",
    "An object of type OCBA takes the following parameters:\n",
    "\n",
    "* **model** - a simulation model\n",
    "* **n_designs** - int, the number of competing designs to compare\n",
    "* **budget** - int, the total number of replications to allocate across designs\n",
    "* **delta** - int, the incremental amount of replications to allocate at each round\n",
    "* **n_0** - int, $n_0$ the number of initial replications (default=5)\n",
    "* **min** - bool, True if minimisation; False if maximisation (default=False)"
   ]
  },
  {
   "cell_type": "code",
   "execution_count": null,
   "metadata": {},
   "outputs": [],
   "source": [
    "from ovs.fixed_budget import OCBA, OCBAM"
   ]
  },
  {
   "cell_type": "code",
   "execution_count": null,
   "metadata": {},
   "outputs": [],
   "source": [
    "n_designs = 10\n",
    "guass_model = guassian_sequence_model(1, n_designs)\n",
    "\n",
    "rnd_model = random_guassian_model(mean_low=5, mean_high=25, \n",
    "                                  var_low=0.5, var_high=2.5,\n",
    "                                  n_designs=10)\n",
    "\n",
    "ocba = OCBA(model=rnd_model, \n",
    "            n_designs=n_designs, \n",
    "            budget=500, \n",
    "            delta=5, \n",
    "            n_0=5, \n",
    "            obj='max')"
   ]
  },
  {
   "cell_type": "code",
   "execution_count": null,
   "metadata": {},
   "outputs": [],
   "source": [
    "print(ocba)"
   ]
  },
  {
   "cell_type": "markdown",
   "metadata": {},
   "source": [
    "call the `solve()` method to run the optimisation"
   ]
  },
  {
   "cell_type": "code",
   "execution_count": null,
   "metadata": {},
   "outputs": [],
   "source": [
    "results = ocba.solve()\n",
    "print('best design:\\t{}'.format(results))\n",
    "print('allocations:\\t{}'.format(ocba._allocations))\n",
    "print('total reps:\\t{}'.format(ocba._allocations.sum()))\n",
    "\n",
    "np.set_printoptions(precision=2)\n",
    "print('means:\\t\\t{0}'.format(ocba._means))\n",
    "print('vars:\\t\\t{0}'.format(ocba._vars))"
   ]
  },
  {
   "cell_type": "markdown",
   "metadata": {},
   "source": [
    "#### A harder problem..."
   ]
  },
  {
   "cell_type": "code",
   "execution_count": null,
   "metadata": {},
   "outputs": [],
   "source": [
    "#try varying the budget, delta and n_0.  What is the effect?\n",
    "#e.g try a budge\n",
    "\n",
    "means = [4, 4.1, 4.2, 4, 4.1, 4.2, 4, 4.1, 4.2, 4.3]\n",
    "variances = [1, 1, 1, 0.1, 0.1, 0.1, 10, 10, 10, 10]\n",
    "\n",
    "guass_model = custom_guassian_model(means, variances)\n",
    "\n",
    "ocba = OCBA(model=guass_model, \n",
    "            n_designs=n_designs, \n",
    "            budget=10000, \n",
    "            delta=5, \n",
    "            n_0=20, \n",
    "            obj='max')"
   ]
  },
  {
   "cell_type": "code",
   "execution_count": null,
   "metadata": {},
   "outputs": [],
   "source": [
    "ocba.reset()\n",
    "results = ocba.solve()\n",
    "print('best design:\\t{}'.format(results))\n",
    "print('allocations:\\t{}'.format(ocba._allocations))\n",
    "print('total reps:\\t{}'.format(ocba._allocations.sum()))\n",
    "\n",
    "\n",
    "np.set_printoptions(precision=2)\n",
    "print('means:\\t\\t{0}'.format(ocba._means))"
   ]
  },
  {
   "cell_type": "markdown",
   "metadata": {},
   "source": [
    "## Optimal Computing Budget Allocation Top M (OCBA-m)\n",
    "\n",
    "OCBA-m extended OCBA to identify the top m designs.  \n",
    "\n",
    "An object of type `OCBAM` takes the following parameters:\n",
    "\n",
    "* **model** - a simulation model\n",
    "* **n_designs** - int, the number of competing designs to compare\n",
    "* **budget** - int, the total number of replications to allocate across designs\n",
    "* **delta** - int, the incremental amount of replications to allocate at each round\n",
    "* **n_0** - int, $n_0$ the number of initial replications (default=5)\n",
    "* **m** - int, $m$ the number of top designs to return.  m must be >=2.  For m = 1 see OCBA.\n",
    "* **min** - bool, True if minimisation; False if maximisation (default=False)"
   ]
  },
  {
   "cell_type": "code",
   "execution_count": null,
   "metadata": {},
   "outputs": [],
   "source": [
    "n_designs = 10\n",
    "guass_model = guassian_sequence_model(1, n_designs+1)\n",
    "\n",
    "ocbam = OCBAM(model=guass_model, \n",
    "              n_designs=n_designs, \n",
    "              budget=500, \n",
    "              delta=5, \n",
    "              n_0=5, \n",
    "              m=2,\n",
    "              obj='max')"
   ]
  },
  {
   "cell_type": "code",
   "execution_count": null,
   "metadata": {},
   "outputs": [],
   "source": [
    "print(ocbam)"
   ]
  },
  {
   "cell_type": "code",
   "execution_count": null,
   "metadata": {},
   "outputs": [],
   "source": [
    "results = ocbam.solve()\n",
    "print('best designs:\\t{}'.format(np.sort(results)))\n",
    "print('allocations:\\t{}'.format(ocbam._allocations))\n",
    "print('total reps:\\t{}'.format(ocbam._allocations.sum()))\n",
    "\n",
    "np.set_printoptions(precision=2)\n",
    "print('means:\\t\\t{0}'.format(ocbam._means))\n",
    "print('vars:\\t\\t{0}'.format(ocbam._vars))\n",
    "print('SEs:\\t\\t{0}'.format(ocbam._ses))"
   ]
  },
  {
   "cell_type": "markdown",
   "metadata": {},
   "source": [
    "# Evaluation of the methods"
   ]
  },
  {
   "cell_type": "code",
   "execution_count": null,
   "metadata": {},
   "outputs": [],
   "source": [
    "from ovs.evaluation import Experiment"
   ]
  },
  {
   "cell_type": "code",
   "execution_count": null,
   "metadata": {},
   "outputs": [],
   "source": [
    "designs = guassian_bandit_sequence(1, 11)\n",
    "environment = BanditCasino(designs)\n",
    "\n",
    "kn = KN(model=environment, \n",
    "        n_designs=len(designs), \n",
    "        delta=0.1, \n",
    "        alpha=0.2, \n",
    "        n_0=5)\n",
    "\n",
    "exp = Experiment(env=environment, procedure=kn, best_index=9, replications=10)"
   ]
  },
  {
   "cell_type": "code",
   "execution_count": null,
   "metadata": {},
   "outputs": [],
   "source": [
    "results = exp.execute()"
   ]
  },
  {
   "cell_type": "code",
   "execution_count": null,
   "metadata": {},
   "outputs": [],
   "source": [
    "results.p_correct_selections"
   ]
  },
  {
   "cell_type": "code",
   "execution_count": null,
   "metadata": {},
   "outputs": [],
   "source": [
    "results.selections"
   ]
  },
  {
   "cell_type": "code",
   "execution_count": null,
   "metadata": {},
   "outputs": [],
   "source": [
    "results.correct_selections"
   ]
  },
  {
   "cell_type": "code",
   "execution_count": null,
   "metadata": {},
   "outputs": [],
   "source": [
    "designs = guassian_bandit_sequence(1, 101)\n",
    "environment = BanditCasino(designs)\n",
    "\n",
    "ocba = OCBA(model=environment, \n",
    "            n_designs=len(designs), \n",
    "            budget=200, \n",
    "            delta=10, \n",
    "            n_0=5, \n",
    "            min=False)\n",
    "\n",
    "exp = Experiment(env=environment, procedure=ocba, best_index=9, replications=50)"
   ]
  },
  {
   "cell_type": "code",
   "execution_count": null,
   "metadata": {},
   "outputs": [],
   "source": [
    "results = exp.execute()"
   ]
  },
  {
   "cell_type": "code",
   "execution_count": null,
   "metadata": {},
   "outputs": [],
   "source": [
    "results.p_correct_selections"
   ]
  },
  {
   "cell_type": "code",
   "execution_count": null,
   "metadata": {},
   "outputs": [],
   "source": [
    "results.selections"
   ]
  },
  {
   "cell_type": "code",
   "execution_count": null,
   "metadata": {},
   "outputs": [],
   "source": [
    "results.correct_selections"
   ]
  },
  {
   "cell_type": "markdown",
   "metadata": {},
   "source": [
    "## Try different budgets"
   ]
  },
  {
   "cell_type": "code",
   "execution_count": null,
   "metadata": {},
   "outputs": [],
   "source": [
    "from ovs.evaluation import GridExperiment"
   ]
  },
  {
   "cell_type": "code",
   "execution_count": null,
   "metadata": {},
   "outputs": [],
   "source": [
    "designs = guassian_bandit_sequence(1, 11)\n",
    "environment = BanditCasino(designs)\n",
    "\n",
    "param_grid = {'model':[environment],\n",
    "              'budget':[100, 200, 300, 400, 500], \n",
    "              'n_designs':[len(designs)],\n",
    "              'delta':[1, 5,10],\n",
    "              'n_0':[1, 5],\n",
    "              'min':[False]\n",
    "              }\n",
    "\n",
    "\n",
    "exp = GridExperiment(agent=ocba, \n",
    "                     environment=environment, \n",
    "                     param_grid=param_grid,\n",
    "                     best_index=9,\n",
    "                     replications=1000)"
   ]
  },
  {
   "cell_type": "code",
   "execution_count": null,
   "metadata": {},
   "outputs": [],
   "source": [
    "results = exp.fit()"
   ]
  },
  {
   "cell_type": "code",
   "execution_count": null,
   "metadata": {},
   "outputs": [],
   "source": [
    "results"
   ]
  }
 ],
 "metadata": {
  "kernelspec": {
   "display_name": "Python 3",
   "language": "python",
   "name": "python3"
  },
  "language_info": {
   "codemirror_mode": {
    "name": "ipython",
    "version": 3
   },
   "file_extension": ".py",
   "mimetype": "text/x-python",
   "name": "python",
   "nbconvert_exporter": "python",
   "pygments_lexer": "ipython3",
   "version": "3.7.3"
  }
 },
 "nbformat": 4,
 "nbformat_minor": 4
}
