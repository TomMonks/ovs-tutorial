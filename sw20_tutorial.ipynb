{
 "cells": [
  {
   "cell_type": "markdown",
   "metadata": {},
   "source": [
    "# Optimisation via Simulation Tutorial\n",
    "\n",
    "By Christine S.M Currie and Tom Monks"
   ]
  },
  {
   "cell_type": "code",
   "execution_count": 1,
   "metadata": {},
   "outputs": [],
   "source": [
    "import numpy as np"
   ]
  },
  {
   "cell_type": "markdown",
   "metadata": {},
   "source": [
    "## Models\n",
    "\n",
    "To do.\n",
    "\n",
    "* Need to rename some of the functions so that it fits\n",
    "* Need to adapt Christine's Law inventory model"
   ]
  },
  {
   "cell_type": "code",
   "execution_count": 2,
   "metadata": {},
   "outputs": [],
   "source": [
    "from ovs.toy_models import (custom_guass_bandit_problem,\n",
    "                            BanditCasino, \n",
    "                            guassian_bandit_sequence)"
   ]
  },
  {
   "cell_type": "markdown",
   "metadata": {},
   "source": [
    "## Procedure **KN**\n",
    "\n",
    "To run Kim and Nelson's R&S procedure KN, create an instance of `ovs.indifference_zone.KN`\n",
    "\n",
    "An object of type KN takes the following parameters:\n",
    "\n",
    "* **model** - a simulation model\n",
    "* **n_designs** - int, the number of competing designs to compare\n",
    "* **delta** - float, the indifference zone\n",
    "* **alpha** - float, $PCS = 1-\\alpha$ (default=0.05)\n",
    "* **n_0** - int, $n_0$ the number of initial replications (default=2)"
   ]
  },
  {
   "cell_type": "code",
   "execution_count": 3,
   "metadata": {},
   "outputs": [],
   "source": [
    "from ovs.indifference_zone import KN"
   ]
  },
  {
   "cell_type": "code",
   "execution_count": 4,
   "metadata": {},
   "outputs": [],
   "source": [
    "designs = guassian_bandit_sequence(1, 11)\n",
    "environment = BanditCasino(designs)\n",
    "\n",
    "kn = KN(model=environment, \n",
    "        n_designs=len(designs), \n",
    "        delta=0.05, \n",
    "        alpha=0.1, \n",
    "        n_0=5)"
   ]
  },
  {
   "cell_type": "code",
   "execution_count": 5,
   "metadata": {},
   "outputs": [
    {
     "name": "stdout",
     "output_type": "stream",
     "text": [
      "best design\t[9]\n",
      "allocations\t[259  32  16  33  34  35  71  72 936 937]\n",
      "total reps\t2425\n",
      "means\t\t[ 1.020739    1.71409146  2.77454239  3.71072473  5.15230731  6.00219441\n",
      "  6.86648366  8.12773819  8.95316244 10.02642339]\n"
     ]
    }
   ],
   "source": [
    "best_design = kn.solve()\n",
    "print('best design\\t{0}'.format(best_design))\n",
    "print('allocations\\t{0}'.format(kn._actions))\n",
    "print('total reps\\t{0}'.format(kn._actions.sum()))\n",
    "print('means\\t\\t{0}'.format(kn._means))"
   ]
  },
  {
   "cell_type": "markdown",
   "metadata": {},
   "source": [
    "## Optimal Computing Budget Allocation (OCBA)\n",
    "\n",
    "An object of type OCBA takes the following parameters:\n",
    "\n",
    "* **model** - a simulation model\n",
    "* **n_designs** - int, the number of competing designs to compare\n",
    "* **budget** - int, the total number of replications to allocate across designs\n",
    "* **delta** - int, the incremental amount of replications to allocate at each round\n",
    "* **n_0** - int, $n_0$ the number of initial replications (default=5)\n",
    "* **min** - bool, True if minimisation; False if maximisation (default=False)"
   ]
  },
  {
   "cell_type": "code",
   "execution_count": 6,
   "metadata": {},
   "outputs": [],
   "source": [
    "from ovs.fixed_budget import OCBA, OCBAM"
   ]
  },
  {
   "cell_type": "code",
   "execution_count": 7,
   "metadata": {},
   "outputs": [],
   "source": [
    "designs = guassian_bandit_sequence(1, 11)\n",
    "environment = BanditCasino(designs)\n",
    "\n",
    "ocba = OCBA(model=environment, \n",
    "            n_designs=len(designs), \n",
    "            budget=500, \n",
    "            delta=5, \n",
    "            n_0=5, \n",
    "            min=False)"
   ]
  },
  {
   "cell_type": "markdown",
   "metadata": {},
   "source": [
    "call the `solve()` method to run the optimisation"
   ]
  },
  {
   "cell_type": "code",
   "execution_count": 8,
   "metadata": {},
   "outputs": [
    {
     "name": "stdout",
     "output_type": "stream",
     "text": [
      "best design:\t9\n",
      "allocations:\t[  5   5   5   5   6   9  13  45 190 217]\n",
      "total reps:\t500\n",
      "means:\t\t[-0.73 -1.63 -3.48 -5.08 -4.84 -6.33 -6.65 -8.21 -9.06 -9.96]\n",
      "vars:\t\t[2.19 0.82 0.54 0.32 0.68 0.57 0.73 0.72 0.82 1.  ]\n"
     ]
    }
   ],
   "source": [
    "results = ocba.solve()\n",
    "print('best design:\\t{}'.format(results))\n",
    "print('allocations:\\t{}'.format(ocba._allocations))\n",
    "print('total reps:\\t{}'.format(ocba._allocations.sum()))\n",
    "\n",
    "np.set_printoptions(precision=2)\n",
    "print('means:\\t\\t{0}'.format(ocba._means))\n",
    "print('vars:\\t\\t{0}'.format(ocba._vars))"
   ]
  },
  {
   "cell_type": "markdown",
   "metadata": {},
   "source": [
    "## Optimal Computing Budget Allocation Top M (OCBA-m)\n",
    "\n",
    "OCBA-m extended OCBA to identify the top m designs.  \n",
    "\n",
    "An object of type `OCBAM` takes the following parameters:\n",
    "\n",
    "* **model** - a simulation model\n",
    "* **n_designs** - int, the number of competing designs to compare\n",
    "* **budget** - int, the total number of replications to allocate across designs\n",
    "* **delta** - int, the incremental amount of replications to allocate at each round\n",
    "* **n_0** - int, $n_0$ the number of initial replications (default=5)\n",
    "* **m** - int, $m$ the number of top designs to return\n",
    "* **min** - bool, True if minimisation; False if maximisation (default=False)"
   ]
  },
  {
   "cell_type": "code",
   "execution_count": 18,
   "metadata": {},
   "outputs": [],
   "source": [
    "designs = guassian_bandit_sequence(1, 100)\n",
    "environment = BanditCasino(designs)\n",
    "\n",
    "ocba = OCBAM(model=environment, \n",
    "            n_designs=len(designs), \n",
    "            budget=2000, \n",
    "            delta=10, \n",
    "            n_0=5, \n",
    "            m=3,\n",
    "            min=True)"
   ]
  },
  {
   "cell_type": "code",
   "execution_count": 19,
   "metadata": {},
   "outputs": [
    {
     "name": "stdout",
     "output_type": "stream",
     "text": [
      "here\n",
      "here\n",
      "best designs:\t[0 1 2]\n",
      "allocations:\t[137 390 390 146 103  64  61  39  22  31  27  23  21  12  18  15   7   5\n",
      "  15   9   5  10  11   9  10   7  11   8  12   7   9  11   7   8   8   8\n",
      "   9   5   7   5   5   8   5   5   5   5   6   6   5   5   5   5   7   5\n",
      "   5   5   6   5   5   5   5   5   5   5   5   5   5   5   5   5   5   5\n",
      "   5   5   5   5   5   5   5   5   5   5   5   5   5   5   5   5   5   5\n",
      "   5   5   5   5   5   5   5   5   5]\n",
      "total reps:\t2005\n",
      "means:\t\t[ -0.99  -1.96  -3.11  -4.01  -4.96  -6.12  -6.79  -8.1   -9.49  -9.78\n",
      " -10.75 -12.46 -13.22 -13.86 -14.86 -16.23 -17.26 -18.24 -19.2  -20.07\n",
      " -21.2  -22.46 -22.76 -24.33 -24.69 -26.34 -26.8  -28.1  -28.67 -29.69\n",
      " -30.91 -32.27 -33.13 -33.99 -34.15 -35.97 -37.09 -37.47 -38.01 -40.16\n",
      " -40.77 -42.27 -43.32 -43.91 -45.21 -46.21 -46.55 -47.45 -48.84 -50.2\n",
      " -50.81 -52.42 -53.19 -54.17 -54.76 -55.53 -56.49 -57.66 -59.34 -59.82\n",
      " -59.62 -62.28 -63.09 -63.42 -64.96 -66.58 -67.68 -68.36 -68.59 -69.28\n",
      " -71.42 -71.64 -73.12 -74.71 -75.09 -76.4  -76.86 -77.84 -78.24 -80.15\n",
      " -80.7  -81.65 -82.38 -84.42 -85.24 -85.54 -87.35 -88.7  -89.36 -89.63\n",
      " -92.19 -91.91 -92.21 -93.81 -95.12 -95.29 -97.73 -97.59 -98.44]\n",
      "vars:\t\t[0.89 1.06 0.98 0.92 1.22 1.05 1.37 0.96 0.47 0.95 0.95 0.95 0.99 0.34\n",
      " 0.99 0.84 0.14 0.04 1.21 0.4  0.08 0.73 0.96 0.55 0.99 0.53 1.27 0.84\n",
      " 1.92 0.67 1.28 1.6  0.72 1.23 1.28 1.14 1.76 0.37 1.25 0.23 0.57 1.56\n",
      " 0.61 0.83 0.14 0.21 0.83 1.23 0.38 0.03 0.42 1.02 1.69 0.94 0.82 0.75\n",
      " 2.01 0.65 1.39 0.58 0.58 1.15 1.45 0.99 0.35 0.67 0.24 0.35 0.76 1.74\n",
      " 1.   0.63 1.21 0.5  0.08 1.06 0.75 1.35 0.87 1.39 0.97 0.41 0.81 0.9\n",
      " 1.63 0.75 2.79 0.45 1.39 0.6  2.13 1.93 0.33 1.07 0.85 1.08 3.15 0.67\n",
      " 2.2 ]\n",
      "SEs:\t\t[0.08 0.05 0.05 0.08 0.11 0.13 0.15 0.16 0.15 0.17 0.19 0.2  0.22 0.17\n",
      " 0.23 0.24 0.14 0.09 0.28 0.21 0.13 0.27 0.29 0.25 0.31 0.27 0.34 0.32\n",
      " 0.4  0.31 0.38 0.38 0.32 0.39 0.4  0.38 0.44 0.27 0.42 0.21 0.34 0.44\n",
      " 0.35 0.41 0.16 0.2  0.37 0.45 0.27 0.07 0.29 0.45 0.49 0.43 0.4  0.39\n",
      " 0.58 0.36 0.53 0.34 0.34 0.48 0.54 0.45 0.27 0.37 0.22 0.26 0.39 0.59\n",
      " 0.45 0.36 0.49 0.32 0.12 0.46 0.39 0.52 0.42 0.53 0.44 0.29 0.4  0.43\n",
      " 0.57 0.39 0.75 0.3  0.53 0.35 0.65 0.62 0.26 0.46 0.41 0.46 0.79 0.37\n",
      " 0.66]\n"
     ]
    }
   ],
   "source": [
    "results = ocba.solve()\n",
    "print('best designs:\\t{}'.format(np.sort(results)))\n",
    "print('allocations:\\t{}'.format(ocba._allocations))\n",
    "print('total reps:\\t{}'.format(ocba._allocations.sum()))\n",
    "\n",
    "np.set_printoptions(precision=2)\n",
    "print('means:\\t\\t{0}'.format(ocba._means))\n",
    "print('vars:\\t\\t{0}'.format(ocba._vars))\n",
    "print('SEs:\\t\\t{0}'.format(ocba._ses))"
   ]
  },
  {
   "cell_type": "code",
   "execution_count": 15,
   "metadata": {},
   "outputs": [
    {
     "data": {
      "text/plain": [
       "array([2, 1, 0])"
      ]
     },
     "execution_count": 15,
     "metadata": {},
     "output_type": "execute_result"
    }
   ],
   "source": [
    "np.argsort(ocba._means)[-3:]"
   ]
  },
  {
   "cell_type": "markdown",
   "metadata": {},
   "source": [
    "# Evaluation of the methods"
   ]
  },
  {
   "cell_type": "code",
   "execution_count": null,
   "metadata": {},
   "outputs": [],
   "source": [
    "from ovs.evaluation import Experiment"
   ]
  },
  {
   "cell_type": "code",
   "execution_count": null,
   "metadata": {},
   "outputs": [],
   "source": [
    "designs = guassian_bandit_sequence(1, 11)\n",
    "environment = BanditCasino(designs)\n",
    "\n",
    "kn = KN(model=environment, \n",
    "        n_designs=len(designs), \n",
    "        delta=0.1, \n",
    "        alpha=0.2, \n",
    "        n_0=5)\n",
    "\n",
    "exp = Experiment(env=environment, procedure=kn, best_index=9, replications=10)"
   ]
  },
  {
   "cell_type": "code",
   "execution_count": null,
   "metadata": {},
   "outputs": [],
   "source": [
    "results = exp.execute()"
   ]
  },
  {
   "cell_type": "code",
   "execution_count": null,
   "metadata": {},
   "outputs": [],
   "source": [
    "results.p_correct_selections"
   ]
  },
  {
   "cell_type": "code",
   "execution_count": null,
   "metadata": {},
   "outputs": [],
   "source": [
    "results.selections"
   ]
  },
  {
   "cell_type": "code",
   "execution_count": null,
   "metadata": {},
   "outputs": [],
   "source": [
    "results.correct_selections"
   ]
  },
  {
   "cell_type": "code",
   "execution_count": null,
   "metadata": {},
   "outputs": [],
   "source": [
    "designs = guassian_bandit_sequence(1, 101)\n",
    "environment = BanditCasino(designs)\n",
    "\n",
    "ocba = OCBA(model=environment, \n",
    "            n_designs=len(designs), \n",
    "            budget=200, \n",
    "            delta=10, \n",
    "            n_0=5, \n",
    "            min=False)\n",
    "\n",
    "exp = Experiment(env=environment, procedure=ocba, best_index=9, replications=50)"
   ]
  },
  {
   "cell_type": "code",
   "execution_count": null,
   "metadata": {},
   "outputs": [],
   "source": [
    "results = exp.execute()"
   ]
  },
  {
   "cell_type": "code",
   "execution_count": null,
   "metadata": {},
   "outputs": [],
   "source": [
    "results.p_correct_selections"
   ]
  },
  {
   "cell_type": "code",
   "execution_count": null,
   "metadata": {},
   "outputs": [],
   "source": [
    "results.selections"
   ]
  },
  {
   "cell_type": "code",
   "execution_count": null,
   "metadata": {},
   "outputs": [],
   "source": [
    "results.correct_selections"
   ]
  },
  {
   "cell_type": "markdown",
   "metadata": {},
   "source": [
    "## Try different budgets"
   ]
  },
  {
   "cell_type": "code",
   "execution_count": null,
   "metadata": {},
   "outputs": [],
   "source": [
    "from ovs.evaluation import GridExperiment"
   ]
  },
  {
   "cell_type": "code",
   "execution_count": null,
   "metadata": {},
   "outputs": [],
   "source": [
    "designs = guassian_bandit_sequence(1, 11)\n",
    "environment = BanditCasino(designs)\n",
    "\n",
    "param_grid = {'model':[environment],\n",
    "              'budget':[100, 200, 300, 400, 500], \n",
    "              'n_designs':[len(designs)],\n",
    "              'delta':[1, 5,10],\n",
    "              'n_0':[1, 5],\n",
    "              'min':[False]\n",
    "              }\n",
    "\n",
    "\n",
    "exp = GridExperiment(agent=ocba, \n",
    "                     environment=environment, \n",
    "                     param_grid=param_grid,\n",
    "                     best_index=9,\n",
    "                     replications=1000)"
   ]
  },
  {
   "cell_type": "code",
   "execution_count": null,
   "metadata": {},
   "outputs": [],
   "source": [
    "results = exp.fit()"
   ]
  },
  {
   "cell_type": "code",
   "execution_count": null,
   "metadata": {},
   "outputs": [],
   "source": [
    "results"
   ]
  },
  {
   "cell_type": "code",
   "execution_count": null,
   "metadata": {},
   "outputs": [],
   "source": []
  }
 ],
 "metadata": {
  "kernelspec": {
   "display_name": "Python 3",
   "language": "python",
   "name": "python3"
  },
  "language_info": {
   "codemirror_mode": {
    "name": "ipython",
    "version": 3
   },
   "file_extension": ".py",
   "mimetype": "text/x-python",
   "name": "python",
   "nbconvert_exporter": "python",
   "pygments_lexer": "ipython3",
   "version": "3.7.3"
  }
 },
 "nbformat": 4,
 "nbformat_minor": 4
}
