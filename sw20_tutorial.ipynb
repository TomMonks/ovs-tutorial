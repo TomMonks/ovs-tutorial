{
 "cells": [
  {
   "cell_type": "markdown",
   "metadata": {},
   "source": [
    "# Optimisation via Simulation Tutorial\n",
    "\n",
    "By Christine S.M Currie and Tom Monks"
   ]
  },
  {
   "cell_type": "code",
   "execution_count": 1,
   "metadata": {},
   "outputs": [],
   "source": [
    "import numpy as np"
   ]
  },
  {
   "cell_type": "markdown",
   "metadata": {},
   "source": [
    "## Models\n",
    "\n",
    "To do.\n",
    "\n",
    "* Need to rename some of the functions so that it fits\n",
    "* Need to adapt Christine's Law inventory model"
   ]
  },
  {
   "cell_type": "code",
   "execution_count": 2,
   "metadata": {},
   "outputs": [],
   "source": [
    "from ovs.toy_models import (custom_guass_bandit_problem,\n",
    "                            BanditCasino, \n",
    "                            guassian_bandit_sequence)"
   ]
  },
  {
   "cell_type": "markdown",
   "metadata": {},
   "source": [
    "## Procedure **KN**\n",
    "\n",
    "To run Kim and Nelson's R&S procedure KN, create an instance of `ovs.indifference_zone.KN`\n",
    "\n",
    "An object of type KN takes the following parameters:\n",
    "\n",
    "* **model** - a simulation model\n",
    "* **n_designs** - int, the number of competing designs to compare\n",
    "* **delta** - float, the indifference zone\n",
    "* **alpha** - float, $PCS = 1-\\alpha$ (default=0.05)\n",
    "* **n_0** - int, $n_0$ the number of initial replications (default=2)"
   ]
  },
  {
   "cell_type": "code",
   "execution_count": 3,
   "metadata": {},
   "outputs": [],
   "source": [
    "from ovs.indifference_zone import KN"
   ]
  },
  {
   "cell_type": "code",
   "execution_count": 4,
   "metadata": {},
   "outputs": [],
   "source": [
    "designs = guassian_bandit_sequence(1, 11)\n",
    "environment = BanditCasino(designs)\n",
    "\n",
    "kn = KN(model=environment, \n",
    "        n_designs=len(designs), \n",
    "        delta=0.05, \n",
    "        alpha=0.1, \n",
    "        n_0=5)"
   ]
  },
  {
   "cell_type": "code",
   "execution_count": 5,
   "metadata": {},
   "outputs": [
    {
     "name": "stdout",
     "output_type": "stream",
     "text": [
      "KN(n_designs=10, delta=0.05, alpha=0.1, n_0=5)\n"
     ]
    }
   ],
   "source": [
    "print(kn)"
   ]
  },
  {
   "cell_type": "code",
   "execution_count": 13,
   "metadata": {},
   "outputs": [
    {
     "name": "stdout",
     "output_type": "stream",
     "text": [
      "best design\t[9]\n",
      "allocations\t[ 22  23  24  29  30  31  33 213 457 493]\n",
      "total reps\t1355\n",
      "means\t\t[0.84031508 1.98724464 2.8752081  3.97504827 5.20887992 6.05414676\n",
      " 7.28845089 7.91467777 8.96990734 9.97990626]\n"
     ]
    }
   ],
   "source": [
    "best_design = kn.solve()\n",
    "print('best design\\t{0}'.format(best_design))\n",
    "print('allocations\\t{0}'.format(kn._actions))\n",
    "print('total reps\\t{0}'.format(kn._actions.sum()))\n",
    "print('means\\t\\t{0}'.format(kn._means))"
   ]
  },
  {
   "cell_type": "markdown",
   "metadata": {},
   "source": [
    "## Optimal Computing Budget Allocation (OCBA)\n",
    "\n",
    "An object of type OCBA takes the following parameters:\n",
    "\n",
    "* **model** - a simulation model\n",
    "* **n_designs** - int, the number of competing designs to compare\n",
    "* **budget** - int, the total number of replications to allocate across designs\n",
    "* **delta** - int, the incremental amount of replications to allocate at each round\n",
    "* **n_0** - int, $n_0$ the number of initial replications (default=5)\n",
    "* **min** - bool, True if minimisation; False if maximisation (default=False)"
   ]
  },
  {
   "cell_type": "code",
   "execution_count": 14,
   "metadata": {},
   "outputs": [],
   "source": [
    "from ovs.fixed_budget import OCBA, OCBAM"
   ]
  },
  {
   "cell_type": "code",
   "execution_count": 15,
   "metadata": {},
   "outputs": [],
   "source": [
    "designs = guassian_bandit_sequence(1, 11)\n",
    "environment = BanditCasino(designs)\n",
    "\n",
    "ocba = OCBA(model=environment, \n",
    "            n_designs=len(designs), \n",
    "            budget=500, \n",
    "            delta=5, \n",
    "            n_0=5, \n",
    "            obj='min')"
   ]
  },
  {
   "cell_type": "code",
   "execution_count": 16,
   "metadata": {},
   "outputs": [
    {
     "name": "stdout",
     "output_type": "stream",
     "text": [
      "OCBA(n_designs=10, budget=500, delta=5, n_0=5, obj=min)\n"
     ]
    }
   ],
   "source": [
    "print(ocba)"
   ]
  },
  {
   "cell_type": "markdown",
   "metadata": {},
   "source": [
    "call the `solve()` method to run the optimisation"
   ]
  },
  {
   "cell_type": "code",
   "execution_count": 17,
   "metadata": {},
   "outputs": [
    {
     "name": "stdout",
     "output_type": "stream",
     "text": [
      "best design:\t0\n",
      "allocations:\t[188 190  77  14   5   5   6   5   5   5]\n",
      "total reps:\t500\n",
      "means:\t\t[ 1.    2.09  2.9   4.2   5.24  6.6   6.79  7.59  8.59 10.53]\n",
      "vars:\t\t[1.02 1.16 1.42 0.75 0.34 0.83 1.06 1.12 0.06 0.61]\n"
     ]
    }
   ],
   "source": [
    "results = ocba.solve()\n",
    "print('best design:\\t{}'.format(results))\n",
    "print('allocations:\\t{}'.format(ocba._allocations))\n",
    "print('total reps:\\t{}'.format(ocba._allocations.sum()))\n",
    "\n",
    "np.set_printoptions(precision=2)\n",
    "print('means:\\t\\t{0}'.format(ocba._means))\n",
    "print('vars:\\t\\t{0}'.format(ocba._vars))"
   ]
  },
  {
   "cell_type": "markdown",
   "metadata": {},
   "source": [
    "## Optimal Computing Budget Allocation Top M (OCBA-m)\n",
    "\n",
    "OCBA-m extended OCBA to identify the top m designs.  \n",
    "\n",
    "An object of type `OCBAM` takes the following parameters:\n",
    "\n",
    "* **model** - a simulation model\n",
    "* **n_designs** - int, the number of competing designs to compare\n",
    "* **budget** - int, the total number of replications to allocate across designs\n",
    "* **delta** - int, the incremental amount of replications to allocate at each round\n",
    "* **n_0** - int, $n_0$ the number of initial replications (default=5)\n",
    "* **m** - int, $m$ the number of top designs to return\n",
    "* **min** - bool, True if minimisation; False if maximisation (default=False)"
   ]
  },
  {
   "cell_type": "code",
   "execution_count": 21,
   "metadata": {},
   "outputs": [],
   "source": [
    "designs = guassian_bandit_sequence(1, 11)\n",
    "environment = BanditCasino(designs)\n",
    "\n",
    "ocbam = OCBAM(model=environment, \n",
    "            n_designs=len(designs), \n",
    "            budget=2000, \n",
    "            delta=10, \n",
    "            n_0=5, \n",
    "            m=3,\n",
    "            obj='max')"
   ]
  },
  {
   "cell_type": "code",
   "execution_count": 22,
   "metadata": {},
   "outputs": [
    {
     "name": "stdout",
     "output_type": "stream",
     "text": [
      "OCBA(n_designs=10, m=3, budget=2000, delta=10, n_0=5, obj=max)\n"
     ]
    }
   ],
   "source": [
    "print(ocbam)"
   ]
  },
  {
   "cell_type": "code",
   "execution_count": 20,
   "metadata": {},
   "outputs": [
    {
     "name": "stdout",
     "output_type": "stream",
     "text": [
      "best designs:\t[97 98 99]\n",
      "allocations:\t[  5   5   5   5   5   5   5   5   5   5   5   5   5   5   5   5   5   5\n",
      "   5   5   5   5   5   5   5   5   5   5   5   5   5   5   5   5   5   5\n",
      "   5   5   5   5   5   5   5   5   5   5   5   7   5   5   5   7   6   5\n",
      "   5   6   5   5   6   5   7   5   6   5   6   7   9   7   8   6   5   7\n",
      "   8  10   6   5   8  10  12   6  12  18  10  16  12  17  18  17  19  27\n",
      "  29  30  40  48  60  73 121 428 428 127]\n",
      "total reps:\t2000\n",
      "means:\t\t[  0.79   1.3    2.81   3.34   5.68   6.21   6.7    7.87   8.66   9.85\n",
      "  11.26  10.93  12.6   14.36  15.15  16.55  17.13  17.9   19.07  20.13\n",
      "  20.57  22.77  23.35  24.4   24.78  26.65  26.96  27.61  29.79  29.87\n",
      "  31.22  31.84  32.46  34.31  34.95  35.9   36.42  38.61  38.48  39.58\n",
      "  40.92  41.77  43.46  43.22  44.77  45.98  47.29  47.86  48.96  50.18\n",
      "  51.03  51.54  53.41  54.43  55.39  56.3   56.87  57.33  58.76  59.95\n",
      "  61.21  62.2   63.62  63.96  65.32  66.02  66.72  67.98  68.52  69.51\n",
      "  70.54  72.92  72.81  74.37  74.81  75.48  76.7   77.64  78.65  79.86\n",
      "  80.75  82.1   82.64  84.05  84.3   86.08  86.54  88.    89.35  90.31\n",
      "  91.    92.29  92.95  94.01  95.11  96.01  96.98  98.03  98.95 100.01]\n",
      "vars:\t\t[0.98 1.92 0.54 0.79 0.61 0.89 0.23 0.86 1.53 1.49 0.4  0.76 0.65 2.09\n",
      " 0.64 1.66 0.62 1.21 1.93 1.64 0.43 1.21 0.47 1.4  1.05 0.25 0.16 0.71\n",
      " 2.6  0.89 1.23 1.35 0.66 1.52 0.86 0.75 0.88 1.92 0.83 0.81 0.41 0.9\n",
      " 0.87 1.41 0.65 0.33 1.02 3.25 1.44 0.46 0.32 1.96 1.31 0.45 0.94 1.73\n",
      " 0.85 0.35 0.93 0.7  1.78 0.66 0.89 0.63 0.79 0.93 2.03 0.89 1.87 0.79\n",
      " 0.23 0.72 0.88 2.15 0.38 0.3  0.76 1.06 1.44 0.32 1.22 1.6  0.53 1.31\n",
      " 0.75 1.04 1.14 0.78 0.77 0.93 1.22 0.86 1.31 1.22 1.1  0.87 0.88 1.03\n",
      " 1.1  1.01]\n",
      "SEs:\t\t[0.44 0.62 0.33 0.4  0.35 0.42 0.22 0.42 0.55 0.55 0.28 0.39 0.36 0.65\n",
      " 0.36 0.58 0.35 0.49 0.62 0.57 0.29 0.49 0.31 0.53 0.46 0.22 0.18 0.38\n",
      " 0.72 0.42 0.5  0.52 0.36 0.55 0.41 0.39 0.42 0.62 0.41 0.4  0.29 0.42\n",
      " 0.42 0.53 0.36 0.26 0.45 0.68 0.54 0.3  0.25 0.53 0.47 0.3  0.43 0.54\n",
      " 0.41 0.26 0.39 0.37 0.5  0.36 0.39 0.35 0.36 0.37 0.48 0.36 0.48 0.36\n",
      " 0.22 0.32 0.33 0.46 0.25 0.24 0.31 0.33 0.35 0.23 0.32 0.3  0.23 0.29\n",
      " 0.25 0.25 0.25 0.21 0.2  0.19 0.2  0.17 0.18 0.16 0.14 0.11 0.09 0.05\n",
      " 0.05 0.09]\n"
     ]
    }
   ],
   "source": [
    "results = ocbam.solve()\n",
    "print('best designs:\\t{}'.format(np.sort(results)))\n",
    "print('allocations:\\t{}'.format(ocbam._allocations))\n",
    "print('total reps:\\t{}'.format(ocbam._allocations.sum()))\n",
    "\n",
    "np.set_printoptions(precision=2)\n",
    "print('means:\\t\\t{0}'.format(ocbam._means))\n",
    "print('vars:\\t\\t{0}'.format(ocbam._vars))\n",
    "print('SEs:\\t\\t{0}'.format(ocbam._ses))"
   ]
  },
  {
   "cell_type": "code",
   "execution_count": null,
   "metadata": {},
   "outputs": [],
   "source": [
    "np.argsort(ocba._means)[-3:]"
   ]
  },
  {
   "cell_type": "markdown",
   "metadata": {},
   "source": [
    "# Evaluation of the methods"
   ]
  },
  {
   "cell_type": "code",
   "execution_count": null,
   "metadata": {},
   "outputs": [],
   "source": [
    "from ovs.evaluation import Experiment"
   ]
  },
  {
   "cell_type": "code",
   "execution_count": null,
   "metadata": {},
   "outputs": [],
   "source": [
    "designs = guassian_bandit_sequence(1, 11)\n",
    "environment = BanditCasino(designs)\n",
    "\n",
    "kn = KN(model=environment, \n",
    "        n_designs=len(designs), \n",
    "        delta=0.1, \n",
    "        alpha=0.2, \n",
    "        n_0=5)\n",
    "\n",
    "exp = Experiment(env=environment, procedure=kn, best_index=9, replications=10)"
   ]
  },
  {
   "cell_type": "code",
   "execution_count": null,
   "metadata": {},
   "outputs": [],
   "source": [
    "results = exp.execute()"
   ]
  },
  {
   "cell_type": "code",
   "execution_count": null,
   "metadata": {},
   "outputs": [],
   "source": [
    "results.p_correct_selections"
   ]
  },
  {
   "cell_type": "code",
   "execution_count": null,
   "metadata": {},
   "outputs": [],
   "source": [
    "results.selections"
   ]
  },
  {
   "cell_type": "code",
   "execution_count": null,
   "metadata": {},
   "outputs": [],
   "source": [
    "results.correct_selections"
   ]
  },
  {
   "cell_type": "code",
   "execution_count": null,
   "metadata": {},
   "outputs": [],
   "source": [
    "designs = guassian_bandit_sequence(1, 101)\n",
    "environment = BanditCasino(designs)\n",
    "\n",
    "ocba = OCBA(model=environment, \n",
    "            n_designs=len(designs), \n",
    "            budget=200, \n",
    "            delta=10, \n",
    "            n_0=5, \n",
    "            min=False)\n",
    "\n",
    "exp = Experiment(env=environment, procedure=ocba, best_index=9, replications=50)"
   ]
  },
  {
   "cell_type": "code",
   "execution_count": null,
   "metadata": {},
   "outputs": [],
   "source": [
    "results = exp.execute()"
   ]
  },
  {
   "cell_type": "code",
   "execution_count": null,
   "metadata": {},
   "outputs": [],
   "source": [
    "results.p_correct_selections"
   ]
  },
  {
   "cell_type": "code",
   "execution_count": null,
   "metadata": {},
   "outputs": [],
   "source": [
    "results.selections"
   ]
  },
  {
   "cell_type": "code",
   "execution_count": null,
   "metadata": {},
   "outputs": [],
   "source": [
    "results.correct_selections"
   ]
  },
  {
   "cell_type": "markdown",
   "metadata": {},
   "source": [
    "## Try different budgets"
   ]
  },
  {
   "cell_type": "code",
   "execution_count": null,
   "metadata": {},
   "outputs": [],
   "source": [
    "from ovs.evaluation import GridExperiment"
   ]
  },
  {
   "cell_type": "code",
   "execution_count": null,
   "metadata": {},
   "outputs": [],
   "source": [
    "designs = guassian_bandit_sequence(1, 11)\n",
    "environment = BanditCasino(designs)\n",
    "\n",
    "param_grid = {'model':[environment],\n",
    "              'budget':[100, 200, 300, 400, 500], \n",
    "              'n_designs':[len(designs)],\n",
    "              'delta':[1, 5,10],\n",
    "              'n_0':[1, 5],\n",
    "              'min':[False]\n",
    "              }\n",
    "\n",
    "\n",
    "exp = GridExperiment(agent=ocba, \n",
    "                     environment=environment, \n",
    "                     param_grid=param_grid,\n",
    "                     best_index=9,\n",
    "                     replications=1000)"
   ]
  },
  {
   "cell_type": "code",
   "execution_count": null,
   "metadata": {},
   "outputs": [],
   "source": [
    "results = exp.fit()"
   ]
  },
  {
   "cell_type": "code",
   "execution_count": null,
   "metadata": {},
   "outputs": [],
   "source": [
    "results"
   ]
  },
  {
   "cell_type": "code",
   "execution_count": null,
   "metadata": {},
   "outputs": [],
   "source": []
  }
 ],
 "metadata": {
  "kernelspec": {
   "display_name": "Python 3",
   "language": "python",
   "name": "python3"
  },
  "language_info": {
   "codemirror_mode": {
    "name": "ipython",
    "version": 3
   },
   "file_extension": ".py",
   "mimetype": "text/x-python",
   "name": "python",
   "nbconvert_exporter": "python",
   "pygments_lexer": "ipython3",
   "version": "3.7.3"
  }
 },
 "nbformat": 4,
 "nbformat_minor": 4
}
