{
 "cells": [
  {
   "cell_type": "markdown",
   "metadata": {},
   "source": [
    "# An Introduction to Optimisation via Simulation\n",
    "## A tutorial for the Simulation Workshop 2020\n",
    "By Christine S.M Currie and Tom Monks"
   ]
  },
  {
   "cell_type": "code",
   "execution_count": 1,
   "metadata": {},
   "outputs": [],
   "source": [
    "import numpy as np"
   ]
  },
  {
   "cell_type": "markdown",
   "metadata": {},
   "source": [
    "## Models\n",
    "\n",
    "To do.\n",
    "\n",
    "* Need to rename some of the functions so that it fits\n",
    "* Need to adapt Christine's Law inventory model"
   ]
  },
  {
   "cell_type": "code",
   "execution_count": 2,
   "metadata": {},
   "outputs": [],
   "source": [
    "from ovs.toy_models import (custom_guassian_model,\n",
    "                            guassian_sequence_model,\n",
    "                            random_guassian_model,\n",
    "                            ManualOptimiser)"
   ]
  },
  {
   "cell_type": "markdown",
   "metadata": {},
   "source": [
    "This tutorial will be making use of the following models.  \n",
    "\n",
    "### Creating a simple sequence of normal distributions\n",
    "\n",
    "A simple model can be created using the `guassian_sequance_model()` function.  This creates a simulation model where the output of each design follows a $N -(\\mu_{i}, 1.0)$ :\n",
    "\n",
    "The function accepts three keyword arguments:\n",
    "\n",
    "* **start** - int, the first mean in the sequence (inclusive)\n",
    "* **end** - int, the last mean int the sequence (inclusive)\n",
    "* **step** - int, the difference between mean i and mean i + 1.\n",
    "\n",
    "For example, the following code creates a simulation model with 10 designs with means 1 to 10 and unit variance.\n",
    "\n",
    "```python\n",
    "model = guassian_sequence_model(1, 10)\n",
    "```\n",
    "\n",
    "To create a simulation model with 5 designs where $\\mu_{i+1} - \\mu_i = 2 $ :\n",
    "\n",
    "```python\n",
    "model = guassian_sequence_model(1, 10, step=2)\n",
    "```\n",
    "\n",
    "### Creating a custom model with known designs\n",
    "Instead of a sequence of normal distributions with unit variance, it is possible to create a custom set of designs with varying variances. Use the `custom_guassian_model` function for this task.  For example to create a custom set of designs: \n",
    "\n",
    "```python\n",
    "means = [5, 8, 1, 2, 1, 7]\n",
    "variances = [0.1, 1.2, 1.4, 0.3, 0.8]\n",
    "\n",
    "custom_model = custom_guassian_model(means, variances)\n",
    "```\n",
    "\n",
    "The following code demonstrates how to create a sequence of 100 designs with variances that are 10% of the mean. \n",
    "\n",
    "```python\n",
    "n_designs = 100\n",
    "means = [i for i in range(n_designs+1)]\n",
    "variances = [j*0.1 for j in range(n_designs+1)]\n",
    "\n",
    "custom_model = custom_guassian_model(means, variances)\n",
    "```\n",
    "\n",
    "\n",
    "### Creating a model with randomly sampled designs\n",
    "\n",
    "To create a model with a set of unknown designs (within a specified mean and variance tolerance) use \n",
    "\n",
    "```python\n",
    "mean_low = 1.0\n",
    "mean_high = 15.0\n",
    "var_low = 0.1\n",
    "var_high = 2.0\n",
    "n_designs = 15\n",
    "\n",
    "model = random_guassian_model(mean_low, mean_high, var_low, var_high, n_designs)\n",
    "```\n",
    "\n",
    "Where:\n",
    "* **mean_low** - float, a lower bound on the means of the output distributions\n",
    "* **mean_high** - float, an upper bound on the means\n",
    "* **var_low** - float, a lower bound on the variance of the output distributions\n",
    "* **var_high** - float, an upper bound on the variances.\n",
    "* **n_designs** - int, the number of designs to create.\n",
    "\n",
    "### A manual optimisation framework\n",
    "\n",
    "Before using the **Optimisation via Simulation** (OvS) procedures, it is recommended that you get a feel for the framework in which the OvS procedures operate.  To do this we will create some models and explore them using a `ManualOptimiser`.  This allows the user to run independent and multiple replications of the model yourself independent of any algorithm.  The `ManualOptimiser` keeps track of the means, variances and number of replications run for each design.\n",
    "\n",
    "A `ManualOptimiser` object requires two parameters when it is created.  \n",
    "\n",
    "* model - object, e.g. a model that is a sequence of normal distributions\n",
    "* n_designs - the number of designs to be considered."
   ]
  },
  {
   "cell_type": "code",
   "execution_count": 3,
   "metadata": {},
   "outputs": [],
   "source": [
    "manual_opt = ManualOptimiser(model=guassian_sequence_model(1, 10),\n",
    "                             n_designs=10)"
   ]
  },
  {
   "cell_type": "markdown",
   "metadata": {},
   "source": [
    "* We can print the optimiser object to help us remember what parameters we set."
   ]
  },
  {
   "cell_type": "code",
   "execution_count": 4,
   "metadata": {},
   "outputs": [
    {
     "name": "stdout",
     "output_type": "stream",
     "text": [
      "ManualOptimiser(model=BanditCasino(), n_designs=10, verbose=False)\n"
     ]
    }
   ],
   "source": [
    "print(manual_opt)"
   ]
  },
  {
   "cell_type": "markdown",
   "metadata": {},
   "source": [
    "* Follow Law and Kelton's advice and run 3 initial replications of each design."
   ]
  },
  {
   "cell_type": "code",
   "execution_count": 5,
   "metadata": {},
   "outputs": [],
   "source": [
    "manual_opt.simulate_designs(replications=3)"
   ]
  },
  {
   "cell_type": "markdown",
   "metadata": {},
   "source": [
    "The optimiser keeps track of the allocation of replications across each design.  For efficiency it doesn't store each individual observation, but it does compute a running mean and variance.\n",
    "\n",
    "* Let's have a look at the replication allocation between and results of each design."
   ]
  },
  {
   "cell_type": "code",
   "execution_count": 6,
   "metadata": {},
   "outputs": [
    {
     "data": {
      "text/plain": [
       "array([3, 3, 3, 3, 3, 3, 3, 3, 3, 3], dtype=int32)"
      ]
     },
     "execution_count": 6,
     "metadata": {},
     "output_type": "execute_result"
    }
   ],
   "source": [
    "manual_opt.allocations"
   ]
  },
  {
   "cell_type": "code",
   "execution_count": 7,
   "metadata": {},
   "outputs": [
    {
     "data": {
      "text/plain": [
       "array([ 1.2,  1.9,  3. ,  4.6,  5.9,  6.9,  6.8,  8.8,  9.1, 10.3])"
      ]
     },
     "execution_count": 7,
     "metadata": {},
     "output_type": "execute_result"
    }
   ],
   "source": [
    "np.set_printoptions(precision=1) # this is a hack to view at 1 decimal place.\n",
    "manual_opt.means"
   ]
  },
  {
   "cell_type": "code",
   "execution_count": 8,
   "metadata": {},
   "outputs": [
    {
     "data": {
      "text/plain": [
       "array([0.5, 0.5, 1.6, 0.8, 1.7, 0.1, 0.8, 0.7, 2.5, 1.4])"
      ]
     },
     "execution_count": 8,
     "metadata": {},
     "output_type": "execute_result"
    }
   ],
   "source": [
    "manual_opt.sigmas"
   ]
  },
  {
   "cell_type": "markdown",
   "metadata": {},
   "source": [
    "Now let's run 1 additional replication of the top 3 designs. \n",
    "Note - in python arrays are **zero indexed**.  This means that design 1 has index 0."
   ]
  },
  {
   "cell_type": "code",
   "execution_count": 9,
   "metadata": {},
   "outputs": [],
   "source": [
    "manual_opt.simulate_designs(design_indexes=[7, 8, 9], replications=1)"
   ]
  },
  {
   "cell_type": "code",
   "execution_count": 10,
   "metadata": {},
   "outputs": [
    {
     "data": {
      "text/plain": [
       "array([3, 3, 3, 3, 3, 3, 3, 4, 4, 4], dtype=int32)"
      ]
     },
     "execution_count": 10,
     "metadata": {},
     "output_type": "execute_result"
    }
   ],
   "source": [
    "manual_opt.allocations"
   ]
  },
  {
   "cell_type": "code",
   "execution_count": 11,
   "metadata": {},
   "outputs": [],
   "source": [
    "manual_opt.simulate_designs(design_indexes=[7, 8, 9], replications=2)"
   ]
  },
  {
   "cell_type": "code",
   "execution_count": 12,
   "metadata": {},
   "outputs": [
    {
     "data": {
      "text/plain": [
       "array([ 1.2,  1.9,  3. ,  4.6,  5.9,  6.9,  6.8,  8.2,  8.5, 10.2])"
      ]
     },
     "execution_count": 12,
     "metadata": {},
     "output_type": "execute_result"
    }
   ],
   "source": [
    "manual_opt.means"
   ]
  },
  {
   "cell_type": "code",
   "execution_count": 13,
   "metadata": {},
   "outputs": [
    {
     "data": {
      "text/plain": [
       "array([0.5, 0.5, 1.6, 0.8, 1.7, 0.1, 0.8, 1.2, 1.7, 0.6])"
      ]
     },
     "execution_count": 13,
     "metadata": {},
     "output_type": "execute_result"
    }
   ],
   "source": [
    "manual_opt.sigmas"
   ]
  },
  {
   "cell_type": "markdown",
   "metadata": {},
   "source": [
    "### Manual Optimisation of a model with unknown means."
   ]
  },
  {
   "cell_type": "markdown",
   "metadata": {},
   "source": [
    "Now have a go yourself.  This time create a model with random designs.  Run as many replications of each design as you think is neccessary to make a decision abouit which design is best.  Here we define best as the design with the largest mean value."
   ]
  },
  {
   "cell_type": "code",
   "execution_count": 14,
   "metadata": {},
   "outputs": [],
   "source": [
    "rnd_model = random_guassian_model(mean_low=5, mean_high=25, \n",
    "                                  var_low=0.5, var_high=2.5,\n",
    "                                  n_designs=10)\n",
    "\n",
    "manual_opt = ManualOptimiser(model=rnd_model, n_designs=10)"
   ]
  },
  {
   "cell_type": "code",
   "execution_count": 15,
   "metadata": {},
   "outputs": [],
   "source": [
    "#insert your code here...\n"
   ]
  },
  {
   "cell_type": "markdown",
   "metadata": {},
   "source": [
    "## Procedure **KN**\n",
    "\n",
    "The first Ranking and Selection (R&S) algorithm we will explore is **Procedure KN** developed by Kim and Nelson. This is an *Indifference Zone* (IZ) approach to R&S.  IZ procedures exploit the the idea that the performance of one or more of the sub-optimal designs are in fact so close to the best performing system that a user does not care which one is chosen (the decision maker is said to be *indifferent* to this choice).  To do this a user must specify a quantity $\\delta$.  Procedure KN provides a theorectical guarantee to select the best system or a system within $\\delta$ of the best with probability of $1 - \\alpha$.\n",
    "\n",
    "To run Kim and Nelson's R&S procedure KN, create an instance of `ovs.indifference_zone.KN`\n",
    "\n",
    "An object of type KN takes the following parameters:\n",
    "\n",
    "* **model** - a simulation model\n",
    "* **n_designs** - int, the number of competing designs to compare\n",
    "* **delta** - float, the indifference zone\n",
    "* **alpha** - float, $PCS = 1-\\alpha$ (default=0.05)\n",
    "* **n_0** - int, $n_0$ the number of initial replications (default=2)"
   ]
  },
  {
   "cell_type": "code",
   "execution_count": 16,
   "metadata": {},
   "outputs": [],
   "source": [
    "from ovs.indifference_zone import KN"
   ]
  },
  {
   "cell_type": "code",
   "execution_count": 84,
   "metadata": {},
   "outputs": [],
   "source": [
    "n_designs = 10\n",
    "model = guassian_sequence_model(1, n_designs)\n",
    "\n",
    "#model = random_guassian_model(mean_low=1, mean_high=15, \n",
    "#                              var_low=1, var_high=1,\n",
    "#                              n_designs=10)\n",
    "\n",
    "kn = KN(model=model, \n",
    "        n_designs=10, \n",
    "        delta=1.0, \n",
    "        alpha=0.05, \n",
    "        n_0=5)"
   ]
  },
  {
   "cell_type": "code",
   "execution_count": 85,
   "metadata": {},
   "outputs": [
    {
     "data": {
      "text/plain": [
       "10"
      ]
     },
     "execution_count": 85,
     "metadata": {},
     "output_type": "execute_result"
    }
   ],
   "source": [
    "model[model.best_design]._mu"
   ]
  },
  {
   "cell_type": "code",
   "execution_count": 86,
   "metadata": {},
   "outputs": [
    {
     "data": {
      "text/plain": [
       "9"
      ]
     },
     "execution_count": 86,
     "metadata": {},
     "output_type": "execute_result"
    }
   ],
   "source": [
    "#best design index\n",
    "model.best_design"
   ]
  },
  {
   "cell_type": "code",
   "execution_count": 96,
   "metadata": {},
   "outputs": [
    {
     "name": "stdout",
     "output_type": "stream",
     "text": [
      "best design\t[9]\n",
      "allocations\t[5 5 5 5 5 5 5 5 5 6]\n",
      "total reps\t51\n",
      "means\t\t[ 1.7  2.   3.6  4.6  4.4  5.7  7.4  7.6  9.  10.5]\n"
     ]
    },
    {
     "data": {
      "text/plain": [
       "10"
      ]
     },
     "execution_count": 96,
     "metadata": {},
     "output_type": "execute_result"
    }
   ],
   "source": [
    "kn.reset()\n",
    "best_design = kn.solve()\n",
    "print('best design\\t{0}'.format(best_design))\n",
    "print('allocations\\t{0}'.format(kn._allocations))\n",
    "print('total reps\\t{0}'.format(kn._allocations.sum()))\n",
    "print('means\\t\\t{0}'.format(kn._means))\n",
    "model[best_design[0]]._mu"
   ]
  },
  {
   "cell_type": "code",
   "execution_count": 101,
   "metadata": {},
   "outputs": [
    {
     "data": {
      "text/plain": [
       "array([2, 5, 8, 9])"
      ]
     },
     "execution_count": 101,
     "metadata": {},
     "output_type": "execute_result"
    }
   ],
   "source": [
    "n_designs = 10\n",
    "#means = [i for i in range(n_designs+1)]\n",
    "#variances = [j*0.1 for j in range(n_designs+1)]\n",
    "\n",
    "means = [4, 4.1, 4.2, 4, 4.1, 4.2, 4, 4.1, 4.2, 4.3]\n",
    "variances = [1, 1, 1, 0.1, 0.1, 0.1, 10, 10, 10, 10]\n",
    "\n",
    "guass_model = custom_guassian_model(means, variances)\n",
    "\n",
    "kn = KN(model=guass_model, \n",
    "        n_designs=n_designs, \n",
    "        delta=0.15, \n",
    "        alpha=0.05, \n",
    "        n_0=50)\n",
    "\n",
    "#print out which design indexes are in the indifference zone\n",
    "np.where(4.3 - np.array(means) <= 0.15)[0]"
   ]
  },
  {
   "cell_type": "code",
   "execution_count": 117,
   "metadata": {},
   "outputs": [
    {
     "name": "stdout",
     "output_type": "stream",
     "text": [
      "best design\t[2]\n",
      "allocations\t[50 50 51 50 50 50 50 50 50 50]\n",
      "total reps\t501\n",
      "means\t\t[4.  4.  4.4 4.  4.1 4.2 2.5 3.3 2.9 2.4]\n"
     ]
    }
   ],
   "source": [
    "kn.reset()\n",
    "best_design = kn.solve()\n",
    "print('best design\\t{0}'.format(best_design))\n",
    "print('allocations\\t{0}'.format(kn._allocations))\n",
    "print('total reps\\t{0}'.format(kn._allocations.sum()))\n",
    "print('means\\t\\t{0}'.format(kn._means))"
   ]
  },
  {
   "cell_type": "markdown",
   "metadata": {},
   "source": [
    "## Optimal Computing Budget Allocation (OCBA)\n",
    "\n",
    "An object of type OCBA takes the following parameters:\n",
    "\n",
    "* **model** - a simulation model\n",
    "* **n_designs** - int, the number of competing designs to compare\n",
    "* **budget** - int, the total number of replications to allocate across designs\n",
    "* **delta** - int, the incremental amount of replications to allocate at each round\n",
    "* **n_0** - int, $n_0$ the number of initial replications (default=5)\n",
    "* **min** - bool, True if minimisation; False if maximisation (default=False)"
   ]
  },
  {
   "cell_type": "code",
   "execution_count": 119,
   "metadata": {},
   "outputs": [],
   "source": [
    "from ovs.fixed_budget import OCBA, OCBAM"
   ]
  },
  {
   "cell_type": "code",
   "execution_count": 120,
   "metadata": {},
   "outputs": [],
   "source": [
    "n_designs = 10\n",
    "guass_model = guassian_sequence_model(1, n_designs)\n",
    "\n",
    "rnd_model = random_guassian_model(mean_low=5, mean_high=25, \n",
    "                                  var_low=0.5, var_high=2.5,\n",
    "                                  n_designs=10)\n",
    "\n",
    "ocba = OCBA(model=rnd_model, \n",
    "            n_designs=n_designs, \n",
    "            budget=500, \n",
    "            delta=5, \n",
    "            n_0=5, \n",
    "            obj='max')"
   ]
  },
  {
   "cell_type": "code",
   "execution_count": 121,
   "metadata": {},
   "outputs": [
    {
     "name": "stdout",
     "output_type": "stream",
     "text": [
      "OCBA(n_designs=10, budget=500, delta=5, n_0=5, obj=max)\n"
     ]
    }
   ],
   "source": [
    "print(ocba)"
   ]
  },
  {
   "cell_type": "markdown",
   "metadata": {},
   "source": [
    "call the `solve()` method to run the optimisation"
   ]
  },
  {
   "cell_type": "code",
   "execution_count": 122,
   "metadata": {},
   "outputs": [
    {
     "name": "stdout",
     "output_type": "stream",
     "text": [
      "best design:\t8\n",
      "allocations:\t[ 17   7  27  40 166   5  31   5 191  11]\n",
      "total reps:\t500\n",
      "means:\t\t[-14.1   -9.5  -17.81 -21.2  -23.38 -19.76 -21.24 -13.25 -24.51 -14.01]\n",
      "vars:\t\t[9.15 7.33 6.03 2.15 1.01 0.18 1.64 1.26 0.32 5.29]\n"
     ]
    }
   ],
   "source": [
    "results = ocba.solve()\n",
    "print('best design:\\t{}'.format(results))\n",
    "print('allocations:\\t{}'.format(ocba._allocations))\n",
    "print('total reps:\\t{}'.format(ocba._allocations.sum()))\n",
    "\n",
    "np.set_printoptions(precision=2)\n",
    "print('means:\\t\\t{0}'.format(ocba._means))\n",
    "print('vars:\\t\\t{0}'.format(ocba._vars))"
   ]
  },
  {
   "cell_type": "markdown",
   "metadata": {},
   "source": [
    "#### A harder problem..."
   ]
  },
  {
   "cell_type": "code",
   "execution_count": 123,
   "metadata": {},
   "outputs": [],
   "source": [
    "#try varying the budget, delta and n_0.  What is the effect?\n",
    "#e.g try a budge\n",
    "\n",
    "means = [4, 4.1, 4.2, 4, 4.1, 4.2, 4, 4.1, 4.2, 4.3]\n",
    "variances = [1, 1, 1, 0.1, 0.1, 0.1, 10, 10, 10, 10]\n",
    "\n",
    "guass_model = custom_guassian_model(means, variances)\n",
    "\n",
    "ocba = OCBA(model=guass_model, \n",
    "            n_designs=n_designs, \n",
    "            budget=10000, \n",
    "            delta=5, \n",
    "            n_0=20, \n",
    "            obj='max')"
   ]
  },
  {
   "cell_type": "code",
   "execution_count": 126,
   "metadata": {},
   "outputs": [
    {
     "name": "stdout",
     "output_type": "stream",
     "text": [
      "best design:\t7\n",
      "allocations:\t[  20  128   20   20   20   20   35 4765 4874   98]\n",
      "total reps:\t10000\n",
      "means:\t\t[-3.93 -4.16 -3.88 -3.94 -4.15 -4.21 -1.54 -4.31 -4.17 -2.74]\n"
     ]
    }
   ],
   "source": [
    "ocba.reset()\n",
    "results = ocba.solve()\n",
    "print('best design:\\t{}'.format(results))\n",
    "print('allocations:\\t{}'.format(ocba._allocations))\n",
    "print('total reps:\\t{}'.format(ocba._allocations.sum()))\n",
    "\n",
    "\n",
    "np.set_printoptions(precision=2)\n",
    "print('means:\\t\\t{0}'.format(ocba._means))"
   ]
  },
  {
   "cell_type": "markdown",
   "metadata": {},
   "source": [
    "## Optimal Computing Budget Allocation Top M (OCBA-m)\n",
    "\n",
    "OCBA-m extended OCBA to identify the top m designs.  \n",
    "\n",
    "An object of type `OCBAM` takes the following parameters:\n",
    "\n",
    "* **model** - a simulation model\n",
    "* **n_designs** - int, the number of competing designs to compare\n",
    "* **budget** - int, the total number of replications to allocate across designs\n",
    "* **delta** - int, the incremental amount of replications to allocate at each round\n",
    "* **n_0** - int, $n_0$ the number of initial replications (default=5)\n",
    "* **m** - int, $m$ the number of top designs to return.  m must be >=2.  For m = 1 see OCBA.\n",
    "* **min** - bool, True if minimisation; False if maximisation (default=False)"
   ]
  },
  {
   "cell_type": "code",
   "execution_count": null,
   "metadata": {},
   "outputs": [],
   "source": [
    "n_designs = 10\n",
    "guass_model = guassian_sequence_model(1, n_designs+1)\n",
    "\n",
    "ocbam = OCBAM(model=guass_model, \n",
    "              n_designs=n_designs, \n",
    "              budget=500, \n",
    "              delta=5, \n",
    "              n_0=5, \n",
    "              m=2,\n",
    "              obj='max')"
   ]
  },
  {
   "cell_type": "code",
   "execution_count": null,
   "metadata": {},
   "outputs": [],
   "source": [
    "print(ocbam)"
   ]
  },
  {
   "cell_type": "code",
   "execution_count": null,
   "metadata": {},
   "outputs": [],
   "source": [
    "results = ocbam.solve()\n",
    "print('best designs:\\t{}'.format(np.sort(results)))\n",
    "print('allocations:\\t{}'.format(ocbam._allocations))\n",
    "print('total reps:\\t{}'.format(ocbam._allocations.sum()))\n",
    "\n",
    "np.set_printoptions(precision=2)\n",
    "print('means:\\t\\t{0}'.format(ocbam._means))\n",
    "print('vars:\\t\\t{0}'.format(ocbam._vars))\n",
    "print('SEs:\\t\\t{0}'.format(ocbam._ses))"
   ]
  },
  {
   "cell_type": "markdown",
   "metadata": {},
   "source": [
    "# Evaluation of the methods"
   ]
  },
  {
   "cell_type": "code",
   "execution_count": null,
   "metadata": {},
   "outputs": [],
   "source": [
    "from ovs.evaluation import Experiment"
   ]
  },
  {
   "cell_type": "code",
   "execution_count": null,
   "metadata": {},
   "outputs": [],
   "source": [
    "designs = guassian_bandit_sequence(1, 11)\n",
    "environment = BanditCasino(designs)\n",
    "\n",
    "kn = KN(model=environment, \n",
    "        n_designs=len(designs), \n",
    "        delta=0.1, \n",
    "        alpha=0.2, \n",
    "        n_0=5)\n",
    "\n",
    "exp = Experiment(env=environment, procedure=kn, best_index=9, replications=10)"
   ]
  },
  {
   "cell_type": "code",
   "execution_count": null,
   "metadata": {},
   "outputs": [],
   "source": [
    "results = exp.execute()"
   ]
  },
  {
   "cell_type": "code",
   "execution_count": null,
   "metadata": {},
   "outputs": [],
   "source": [
    "results.p_correct_selections"
   ]
  },
  {
   "cell_type": "code",
   "execution_count": null,
   "metadata": {},
   "outputs": [],
   "source": [
    "results.selections"
   ]
  },
  {
   "cell_type": "code",
   "execution_count": null,
   "metadata": {},
   "outputs": [],
   "source": [
    "results.correct_selections"
   ]
  },
  {
   "cell_type": "code",
   "execution_count": null,
   "metadata": {},
   "outputs": [],
   "source": [
    "designs = guassian_bandit_sequence(1, 101)\n",
    "environment = BanditCasino(designs)\n",
    "\n",
    "ocba = OCBA(model=environment, \n",
    "            n_designs=len(designs), \n",
    "            budget=200, \n",
    "            delta=10, \n",
    "            n_0=5, \n",
    "            min=False)\n",
    "\n",
    "exp = Experiment(env=environment, procedure=ocba, best_index=9, replications=50)"
   ]
  },
  {
   "cell_type": "code",
   "execution_count": null,
   "metadata": {},
   "outputs": [],
   "source": [
    "results = exp.execute()"
   ]
  },
  {
   "cell_type": "code",
   "execution_count": null,
   "metadata": {},
   "outputs": [],
   "source": [
    "results.p_correct_selections"
   ]
  },
  {
   "cell_type": "code",
   "execution_count": null,
   "metadata": {},
   "outputs": [],
   "source": [
    "results.selections"
   ]
  },
  {
   "cell_type": "code",
   "execution_count": null,
   "metadata": {},
   "outputs": [],
   "source": [
    "results.correct_selections"
   ]
  },
  {
   "cell_type": "markdown",
   "metadata": {},
   "source": [
    "## Try different budgets"
   ]
  },
  {
   "cell_type": "code",
   "execution_count": null,
   "metadata": {},
   "outputs": [],
   "source": [
    "from ovs.evaluation import GridExperiment"
   ]
  },
  {
   "cell_type": "code",
   "execution_count": null,
   "metadata": {},
   "outputs": [],
   "source": [
    "designs = guassian_bandit_sequence(1, 11)\n",
    "environment = BanditCasino(designs)\n",
    "\n",
    "param_grid = {'model':[environment],\n",
    "              'budget':[100, 200, 300, 400, 500], \n",
    "              'n_designs':[len(designs)],\n",
    "              'delta':[1, 5,10],\n",
    "              'n_0':[1, 5],\n",
    "              'min':[False]\n",
    "              }\n",
    "\n",
    "\n",
    "exp = GridExperiment(agent=ocba, \n",
    "                     environment=environment, \n",
    "                     param_grid=param_grid,\n",
    "                     best_index=9,\n",
    "                     replications=1000)"
   ]
  },
  {
   "cell_type": "code",
   "execution_count": null,
   "metadata": {},
   "outputs": [],
   "source": [
    "results = exp.fit()"
   ]
  },
  {
   "cell_type": "code",
   "execution_count": null,
   "metadata": {},
   "outputs": [],
   "source": [
    "results"
   ]
  }
 ],
 "metadata": {
  "kernelspec": {
   "display_name": "Python 3",
   "language": "python",
   "name": "python3"
  },
  "language_info": {
   "codemirror_mode": {
    "name": "ipython",
    "version": 3
   },
   "file_extension": ".py",
   "mimetype": "text/x-python",
   "name": "python",
   "nbconvert_exporter": "python",
   "pygments_lexer": "ipython3",
   "version": "3.7.3"
  }
 },
 "nbformat": 4,
 "nbformat_minor": 4
}
