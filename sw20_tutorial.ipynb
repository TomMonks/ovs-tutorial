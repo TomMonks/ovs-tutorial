{
 "cells": [
  {
   "cell_type": "markdown",
   "metadata": {},
   "source": [
    "# Optimisation via Simulation Tutorial\n",
    "\n",
    "By Christine S.M Currie and Tom Monks"
   ]
  },
  {
   "cell_type": "code",
   "execution_count": 1,
   "metadata": {},
   "outputs": [],
   "source": [
    "import numpy as np"
   ]
  },
  {
   "cell_type": "markdown",
   "metadata": {},
   "source": [
    "## Models\n",
    "\n",
    "To do.\n",
    "\n",
    "* Need to rename some of the functions so that it fits\n",
    "* Need to adapt Christine's Law inventory model"
   ]
  },
  {
   "cell_type": "code",
   "execution_count": 2,
   "metadata": {},
   "outputs": [],
   "source": [
    "from ovs.toy_models import (custom_guass_bandit_problem,\n",
    "                            BanditCasino, \n",
    "                            guassian_bandit_sequence)"
   ]
  },
  {
   "cell_type": "markdown",
   "metadata": {},
   "source": [
    "## Procedure **KN**\n",
    "\n",
    "To run Kim and Nelson's R&S procedure KN, create an instance of `ovs.indifference_zone.KN`\n",
    "\n",
    "An object of type KN takes the following parameters:\n",
    "\n",
    "* **model** - a simulation model\n",
    "* **n_designs** - int, the number of competing designs to compare\n",
    "* **delta** - float, the indifference zone\n",
    "* **alpha** - float, $PCS = 1-\\alpha$ (default=0.05)\n",
    "* **n_0** - int, $n_0$ the number of initial replications (default=2)"
   ]
  },
  {
   "cell_type": "code",
   "execution_count": 3,
   "metadata": {},
   "outputs": [],
   "source": [
    "from ovs.indifference_zone import KN"
   ]
  },
  {
   "cell_type": "code",
   "execution_count": 4,
   "metadata": {},
   "outputs": [],
   "source": [
    "designs = guassian_bandit_sequence(1, 11)\n",
    "environment = BanditCasino(designs)\n",
    "\n",
    "kn = KN(model=environment, \n",
    "        n_designs=len(designs), \n",
    "        delta=0.1, \n",
    "        alpha=0.05, \n",
    "        n_0=5)"
   ]
  },
  {
   "cell_type": "code",
   "execution_count": 5,
   "metadata": {},
   "outputs": [
    {
     "name": "stdout",
     "output_type": "stream",
     "text": [
      "best design\t[9]\n",
      "allocations\t[ 15 164  30  10  11 239  42  43  44 240]\n",
      "total reps\t838\n",
      "means\t\t[0.86741622 2.05419091 3.18459728 4.03429256 4.86059118 6.06445448\n",
      " 6.89535764 8.14361863 9.33728733 9.94901551]\n"
     ]
    }
   ],
   "source": [
    "best_design = kn.solve()\n",
    "print('best design\\t{0}'.format(best_design))\n",
    "print('allocations\\t{0}'.format(kn._actions))\n",
    "print('total reps\\t{0}'.format(kn._actions.sum()))\n",
    "print('means\\t\\t{0}'.format(kn._means))"
   ]
  },
  {
   "cell_type": "markdown",
   "metadata": {},
   "source": [
    "## Optimal Computing Budget Allocation (OCBA)\n",
    "\n",
    "An object of type OCBA takes the following parameters:\n",
    "\n",
    "* **model** - a simulation model\n",
    "* **n_designs** - int, the number of competing designs to compare\n",
    "* **budget** - int, the total number of replications to allocate across designs\n",
    "* **delta** - int, the incremental amount of replications to allocate at each round\n",
    "* **n_0** - int, $n_0$ the number of initial replications (default=5)\n",
    "* **min** - bool, True if minimisation; False if maximisation (default=False)"
   ]
  },
  {
   "cell_type": "code",
   "execution_count": 6,
   "metadata": {},
   "outputs": [],
   "source": [
    "from ovs.fixed_budget import OCBA"
   ]
  },
  {
   "cell_type": "code",
   "execution_count": 7,
   "metadata": {},
   "outputs": [],
   "source": [
    "designs = guassian_bandit_sequence(1, 11)\n",
    "environment = BanditCasino(designs)\n",
    "\n",
    "ocba = OCBA(model=environment, \n",
    "            n_designs=len(designs), \n",
    "            budget=300, \n",
    "            delta=10, \n",
    "            n_0=5, \n",
    "            min=True)"
   ]
  },
  {
   "cell_type": "markdown",
   "metadata": {},
   "source": [
    "call the `solve()` method to run the optimisation"
   ]
  },
  {
   "cell_type": "code",
   "execution_count": 8,
   "metadata": {},
   "outputs": [
    {
     "name": "stdout",
     "output_type": "stream",
     "text": [
      "best design:\t0\n",
      "allocations:\t[255   5   5   5   5   5   5   5   5   5]\n",
      "total reps:\t300\n",
      "means:\t\t[ 0.95  2.88  2.94  3.56  5.17  5.83  6.58  8.51  8.86 10.13]\n",
      "vars:\t\t[0.94 0.36 0.51 0.12 1.16 1.73 1.24 0.99 0.2  0.4 ]\n"
     ]
    },
    {
     "name": "stderr",
     "output_type": "stream",
     "text": [
      "/home/tom/Dropbox/Python/ovs-tutorial/ovs/fixed_budget.py:202: RuntimeWarning: divide by zero encountered in true_divide\n",
      "  (budget_to_allocate / ratio_s * self._ratios[more_runs])\n"
     ]
    }
   ],
   "source": [
    "results = ocba.solve()\n",
    "print('best design:\\t{}'.format(results))\n",
    "print('allocations:\\t{}'.format(ocba._allocations))\n",
    "print('total reps:\\t{}'.format(ocba._allocations.sum()))\n",
    "\n",
    "np.set_printoptions(precision=2)\n",
    "print('means:\\t\\t{0}'.format(ocba._means))\n",
    "print('vars:\\t\\t{0}'.format(ocba._vars))"
   ]
  },
  {
   "cell_type": "markdown",
   "metadata": {},
   "source": [
    "# Evaluation of the methods"
   ]
  },
  {
   "cell_type": "code",
   "execution_count": 9,
   "metadata": {},
   "outputs": [],
   "source": [
    "from ovs.evaluation import Experiment"
   ]
  },
  {
   "cell_type": "code",
   "execution_count": 10,
   "metadata": {},
   "outputs": [],
   "source": [
    "designs = guassian_bandit_sequence(1, 11)\n",
    "environment = BanditCasino(designs)\n",
    "\n",
    "kn = KN(model=environment, \n",
    "        n_designs=len(designs), \n",
    "        delta=0.1, \n",
    "        alpha=0.2, \n",
    "        n_0=5)\n",
    "\n",
    "exp = Experiment(env=environment, procedure=kn, best_index=9, replications=10)"
   ]
  },
  {
   "cell_type": "code",
   "execution_count": 11,
   "metadata": {},
   "outputs": [],
   "source": [
    "results = exp.execute()"
   ]
  },
  {
   "cell_type": "code",
   "execution_count": 12,
   "metadata": {},
   "outputs": [
    {
     "data": {
      "text/plain": [
       "0.9"
      ]
     },
     "execution_count": 12,
     "metadata": {},
     "output_type": "execute_result"
    }
   ],
   "source": [
    "results.p_correct_selections"
   ]
  },
  {
   "cell_type": "code",
   "execution_count": 13,
   "metadata": {},
   "outputs": [
    {
     "data": {
      "text/plain": [
       "array([9, 9, 9, 9, 8, 9, 9, 9, 9, 9], dtype=int32)"
      ]
     },
     "execution_count": 13,
     "metadata": {},
     "output_type": "execute_result"
    }
   ],
   "source": [
    "results.selections"
   ]
  },
  {
   "cell_type": "code",
   "execution_count": 14,
   "metadata": {},
   "outputs": [
    {
     "data": {
      "text/plain": [
       "9"
      ]
     },
     "execution_count": 14,
     "metadata": {},
     "output_type": "execute_result"
    }
   ],
   "source": [
    "results.correct_selections"
   ]
  },
  {
   "cell_type": "code",
   "execution_count": 15,
   "metadata": {},
   "outputs": [],
   "source": [
    "designs = guassian_bandit_sequence(1, 11)\n",
    "environment = BanditCasino(designs)\n",
    "\n",
    "ocba = OCBA(model=environment, \n",
    "            n_designs=len(designs), \n",
    "            budget=200, \n",
    "            delta=10, \n",
    "            n_0=5, \n",
    "            min=False)\n",
    "\n",
    "exp = Experiment(env=environment, procedure=ocba, best_index=9, replications=50)"
   ]
  },
  {
   "cell_type": "code",
   "execution_count": 16,
   "metadata": {},
   "outputs": [
    {
     "name": "stderr",
     "output_type": "stream",
     "text": [
      "/home/tom/Dropbox/Python/ovs-tutorial/ovs/fixed_budget.py:202: RuntimeWarning: divide by zero encountered in true_divide\n",
      "  (budget_to_allocate / ratio_s * self._ratios[more_runs])\n"
     ]
    }
   ],
   "source": [
    "results = exp.execute()"
   ]
  },
  {
   "cell_type": "code",
   "execution_count": 17,
   "metadata": {},
   "outputs": [
    {
     "data": {
      "text/plain": [
       "1.0"
      ]
     },
     "execution_count": 17,
     "metadata": {},
     "output_type": "execute_result"
    }
   ],
   "source": [
    "results.p_correct_selections"
   ]
  },
  {
   "cell_type": "code",
   "execution_count": 18,
   "metadata": {},
   "outputs": [
    {
     "data": {
      "text/plain": [
       "array([9, 9, 9, 9, 9, 9, 9, 9, 9, 9, 9, 9, 9, 9, 9, 9, 9, 9, 9, 9, 9, 9,\n",
       "       9, 9, 9, 9, 9, 9, 9, 9, 9, 9, 9, 9, 9, 9, 9, 9, 9, 9, 9, 9, 9, 9,\n",
       "       9, 9, 9, 9, 9, 9], dtype=int32)"
      ]
     },
     "execution_count": 18,
     "metadata": {},
     "output_type": "execute_result"
    }
   ],
   "source": [
    "results.selections"
   ]
  },
  {
   "cell_type": "code",
   "execution_count": 19,
   "metadata": {},
   "outputs": [
    {
     "data": {
      "text/plain": [
       "50"
      ]
     },
     "execution_count": 19,
     "metadata": {},
     "output_type": "execute_result"
    }
   ],
   "source": [
    "results.correct_selections"
   ]
  },
  {
   "cell_type": "markdown",
   "metadata": {},
   "source": [
    "## Try different budgets"
   ]
  },
  {
   "cell_type": "code",
   "execution_count": 20,
   "metadata": {},
   "outputs": [],
   "source": [
    "from ovs.evaluation import GridExperiment"
   ]
  },
  {
   "cell_type": "code",
   "execution_count": 34,
   "metadata": {},
   "outputs": [],
   "source": [
    "designs = guassian_bandit_sequence(1, 11)\n",
    "environment = BanditCasino(designs)\n",
    "\n",
    "param_grid = {'model':[environment],\n",
    "              'budget':[100, 200, 300, 400, 500], \n",
    "              'n_designs':[len(designs)],\n",
    "              'delta':[1, 5,10],\n",
    "              'n_0':[5],\n",
    "              'min':[False]\n",
    "              }\n",
    "\n",
    "\n",
    "exp = GridExperiment(agent=ocba, \n",
    "                     environment=environment, \n",
    "                     param_grid=param_grid,\n",
    "                     best_index=9,\n",
    "                     replications=100)"
   ]
  },
  {
   "cell_type": "code",
   "execution_count": 35,
   "metadata": {},
   "outputs": [],
   "source": [
    "results = exp.fit()"
   ]
  },
  {
   "cell_type": "code",
   "execution_count": 36,
   "metadata": {},
   "outputs": [
    {
     "data": {
      "text/html": [
       "<div>\n",
       "<style scoped>\n",
       "    .dataframe tbody tr th:only-of-type {\n",
       "        vertical-align: middle;\n",
       "    }\n",
       "\n",
       "    .dataframe tbody tr th {\n",
       "        vertical-align: top;\n",
       "    }\n",
       "\n",
       "    .dataframe thead th {\n",
       "        text-align: right;\n",
       "    }\n",
       "</style>\n",
       "<table border=\"1\" class=\"dataframe\">\n",
       "  <thead>\n",
       "    <tr style=\"text-align: right;\">\n",
       "      <th></th>\n",
       "      <th>n_designs</th>\n",
       "      <th>n_0</th>\n",
       "      <th>model</th>\n",
       "      <th>min</th>\n",
       "      <th>delta</th>\n",
       "      <th>budget</th>\n",
       "      <th>correct_selections</th>\n",
       "      <th>p_correct_selections</th>\n",
       "    </tr>\n",
       "  </thead>\n",
       "  <tbody>\n",
       "    <tr>\n",
       "      <th>0</th>\n",
       "      <td>10</td>\n",
       "      <td>5</td>\n",
       "      <td>&lt;ovs.toy_models.BanditCasino object at 0x7f2f1...</td>\n",
       "      <td>False</td>\n",
       "      <td>1</td>\n",
       "      <td>100</td>\n",
       "      <td>500</td>\n",
       "      <td>1</td>\n",
       "    </tr>\n",
       "    <tr>\n",
       "      <th>1</th>\n",
       "      <td>10</td>\n",
       "      <td>5</td>\n",
       "      <td>&lt;ovs.toy_models.BanditCasino object at 0x7f2f1...</td>\n",
       "      <td>False</td>\n",
       "      <td>5</td>\n",
       "      <td>100</td>\n",
       "      <td>500</td>\n",
       "      <td>1</td>\n",
       "    </tr>\n",
       "    <tr>\n",
       "      <th>2</th>\n",
       "      <td>10</td>\n",
       "      <td>5</td>\n",
       "      <td>&lt;ovs.toy_models.BanditCasino object at 0x7f2f1...</td>\n",
       "      <td>False</td>\n",
       "      <td>10</td>\n",
       "      <td>100</td>\n",
       "      <td>500</td>\n",
       "      <td>1</td>\n",
       "    </tr>\n",
       "    <tr>\n",
       "      <th>3</th>\n",
       "      <td>10</td>\n",
       "      <td>5</td>\n",
       "      <td>&lt;ovs.toy_models.BanditCasino object at 0x7f2f1...</td>\n",
       "      <td>False</td>\n",
       "      <td>1</td>\n",
       "      <td>200</td>\n",
       "      <td>500</td>\n",
       "      <td>1</td>\n",
       "    </tr>\n",
       "    <tr>\n",
       "      <th>4</th>\n",
       "      <td>10</td>\n",
       "      <td>5</td>\n",
       "      <td>&lt;ovs.toy_models.BanditCasino object at 0x7f2f1...</td>\n",
       "      <td>False</td>\n",
       "      <td>5</td>\n",
       "      <td>200</td>\n",
       "      <td>500</td>\n",
       "      <td>1</td>\n",
       "    </tr>\n",
       "    <tr>\n",
       "      <th>5</th>\n",
       "      <td>10</td>\n",
       "      <td>5</td>\n",
       "      <td>&lt;ovs.toy_models.BanditCasino object at 0x7f2f1...</td>\n",
       "      <td>False</td>\n",
       "      <td>10</td>\n",
       "      <td>200</td>\n",
       "      <td>500</td>\n",
       "      <td>1</td>\n",
       "    </tr>\n",
       "    <tr>\n",
       "      <th>6</th>\n",
       "      <td>10</td>\n",
       "      <td>5</td>\n",
       "      <td>&lt;ovs.toy_models.BanditCasino object at 0x7f2f1...</td>\n",
       "      <td>False</td>\n",
       "      <td>1</td>\n",
       "      <td>300</td>\n",
       "      <td>500</td>\n",
       "      <td>1</td>\n",
       "    </tr>\n",
       "    <tr>\n",
       "      <th>7</th>\n",
       "      <td>10</td>\n",
       "      <td>5</td>\n",
       "      <td>&lt;ovs.toy_models.BanditCasino object at 0x7f2f1...</td>\n",
       "      <td>False</td>\n",
       "      <td>5</td>\n",
       "      <td>300</td>\n",
       "      <td>500</td>\n",
       "      <td>1</td>\n",
       "    </tr>\n",
       "    <tr>\n",
       "      <th>8</th>\n",
       "      <td>10</td>\n",
       "      <td>5</td>\n",
       "      <td>&lt;ovs.toy_models.BanditCasino object at 0x7f2f1...</td>\n",
       "      <td>False</td>\n",
       "      <td>10</td>\n",
       "      <td>300</td>\n",
       "      <td>500</td>\n",
       "      <td>1</td>\n",
       "    </tr>\n",
       "    <tr>\n",
       "      <th>9</th>\n",
       "      <td>10</td>\n",
       "      <td>5</td>\n",
       "      <td>&lt;ovs.toy_models.BanditCasino object at 0x7f2f1...</td>\n",
       "      <td>False</td>\n",
       "      <td>1</td>\n",
       "      <td>400</td>\n",
       "      <td>500</td>\n",
       "      <td>1</td>\n",
       "    </tr>\n",
       "    <tr>\n",
       "      <th>10</th>\n",
       "      <td>10</td>\n",
       "      <td>5</td>\n",
       "      <td>&lt;ovs.toy_models.BanditCasino object at 0x7f2f1...</td>\n",
       "      <td>False</td>\n",
       "      <td>5</td>\n",
       "      <td>400</td>\n",
       "      <td>499</td>\n",
       "      <td>0.998</td>\n",
       "    </tr>\n",
       "    <tr>\n",
       "      <th>11</th>\n",
       "      <td>10</td>\n",
       "      <td>5</td>\n",
       "      <td>&lt;ovs.toy_models.BanditCasino object at 0x7f2f1...</td>\n",
       "      <td>False</td>\n",
       "      <td>10</td>\n",
       "      <td>400</td>\n",
       "      <td>500</td>\n",
       "      <td>1</td>\n",
       "    </tr>\n",
       "    <tr>\n",
       "      <th>12</th>\n",
       "      <td>10</td>\n",
       "      <td>5</td>\n",
       "      <td>&lt;ovs.toy_models.BanditCasino object at 0x7f2f1...</td>\n",
       "      <td>False</td>\n",
       "      <td>1</td>\n",
       "      <td>500</td>\n",
       "      <td>500</td>\n",
       "      <td>1</td>\n",
       "    </tr>\n",
       "    <tr>\n",
       "      <th>13</th>\n",
       "      <td>10</td>\n",
       "      <td>5</td>\n",
       "      <td>&lt;ovs.toy_models.BanditCasino object at 0x7f2f1...</td>\n",
       "      <td>False</td>\n",
       "      <td>5</td>\n",
       "      <td>500</td>\n",
       "      <td>500</td>\n",
       "      <td>1</td>\n",
       "    </tr>\n",
       "    <tr>\n",
       "      <th>14</th>\n",
       "      <td>10</td>\n",
       "      <td>5</td>\n",
       "      <td>&lt;ovs.toy_models.BanditCasino object at 0x7f2f1...</td>\n",
       "      <td>False</td>\n",
       "      <td>10</td>\n",
       "      <td>500</td>\n",
       "      <td>500</td>\n",
       "      <td>1</td>\n",
       "    </tr>\n",
       "  </tbody>\n",
       "</table>\n",
       "</div>"
      ],
      "text/plain": [
       "   n_designs n_0                                              model    min  \\\n",
       "0         10   5  <ovs.toy_models.BanditCasino object at 0x7f2f1...  False   \n",
       "1         10   5  <ovs.toy_models.BanditCasino object at 0x7f2f1...  False   \n",
       "2         10   5  <ovs.toy_models.BanditCasino object at 0x7f2f1...  False   \n",
       "3         10   5  <ovs.toy_models.BanditCasino object at 0x7f2f1...  False   \n",
       "4         10   5  <ovs.toy_models.BanditCasino object at 0x7f2f1...  False   \n",
       "5         10   5  <ovs.toy_models.BanditCasino object at 0x7f2f1...  False   \n",
       "6         10   5  <ovs.toy_models.BanditCasino object at 0x7f2f1...  False   \n",
       "7         10   5  <ovs.toy_models.BanditCasino object at 0x7f2f1...  False   \n",
       "8         10   5  <ovs.toy_models.BanditCasino object at 0x7f2f1...  False   \n",
       "9         10   5  <ovs.toy_models.BanditCasino object at 0x7f2f1...  False   \n",
       "10        10   5  <ovs.toy_models.BanditCasino object at 0x7f2f1...  False   \n",
       "11        10   5  <ovs.toy_models.BanditCasino object at 0x7f2f1...  False   \n",
       "12        10   5  <ovs.toy_models.BanditCasino object at 0x7f2f1...  False   \n",
       "13        10   5  <ovs.toy_models.BanditCasino object at 0x7f2f1...  False   \n",
       "14        10   5  <ovs.toy_models.BanditCasino object at 0x7f2f1...  False   \n",
       "\n",
       "   delta budget correct_selections p_correct_selections  \n",
       "0      1    100                500                    1  \n",
       "1      5    100                500                    1  \n",
       "2     10    100                500                    1  \n",
       "3      1    200                500                    1  \n",
       "4      5    200                500                    1  \n",
       "5     10    200                500                    1  \n",
       "6      1    300                500                    1  \n",
       "7      5    300                500                    1  \n",
       "8     10    300                500                    1  \n",
       "9      1    400                500                    1  \n",
       "10     5    400                499                0.998  \n",
       "11    10    400                500                    1  \n",
       "12     1    500                500                    1  \n",
       "13     5    500                500                    1  \n",
       "14    10    500                500                    1  "
      ]
     },
     "execution_count": 36,
     "metadata": {},
     "output_type": "execute_result"
    }
   ],
   "source": [
    "results"
   ]
  },
  {
   "cell_type": "code",
   "execution_count": null,
   "metadata": {},
   "outputs": [],
   "source": []
  }
 ],
 "metadata": {
  "kernelspec": {
   "display_name": "Python 3",
   "language": "python",
   "name": "python3"
  },
  "language_info": {
   "codemirror_mode": {
    "name": "ipython",
    "version": 3
   },
   "file_extension": ".py",
   "mimetype": "text/x-python",
   "name": "python",
   "nbconvert_exporter": "python",
   "pygments_lexer": "ipython3",
   "version": "3.7.3"
  }
 },
 "nbformat": 4,
 "nbformat_minor": 4
}
