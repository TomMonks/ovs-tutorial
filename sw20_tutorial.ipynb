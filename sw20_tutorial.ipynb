{
 "cells": [
  {
   "cell_type": "markdown",
   "metadata": {},
   "source": [
    "# Optimisation via Simulation Tutorial\n",
    "\n",
    "By Christine S.M Currie and Tom Monks"
   ]
  },
  {
   "cell_type": "code",
   "execution_count": 13,
   "metadata": {},
   "outputs": [],
   "source": [
    "import numpy as np"
   ]
  },
  {
   "cell_type": "markdown",
   "metadata": {},
   "source": [
    "## Models\n",
    "\n",
    "To do.\n",
    "\n",
    "* Need to rename some of the functions so that it fits\n",
    "* Need to adapt Christine's Law inventory model"
   ]
  },
  {
   "cell_type": "code",
   "execution_count": 14,
   "metadata": {},
   "outputs": [],
   "source": [
    "from ovs.toy_models import (custom_guass_bandit_problem,\n",
    "                            BanditCasino, \n",
    "                            guassian_bandit_sequence)"
   ]
  },
  {
   "cell_type": "markdown",
   "metadata": {},
   "source": [
    "## Procedure **KN**\n",
    "\n",
    "To run Kim and Nelson's R&S procedure KN, create an instance of `ovs.indifference_zone.KN`\n",
    "\n",
    "An object of type KN takes the following parameters:\n",
    "\n",
    "* **model** - a simulation model\n",
    "* **n_designs** - int, the number of competing designs to compare\n",
    "* **delta** - float, the indifference zone\n",
    "* **alpha** - float, $PCS = 1-\\alpha$ (default=0.05)\n",
    "* **n_0** - int, $n_0$ the number of initial replications (default=2)"
   ]
  },
  {
   "cell_type": "code",
   "execution_count": 15,
   "metadata": {},
   "outputs": [],
   "source": [
    "from ovs.indifference_zone import KN"
   ]
  },
  {
   "cell_type": "code",
   "execution_count": 16,
   "metadata": {},
   "outputs": [],
   "source": [
    "designs = guassian_bandit_sequence(1, 11)\n",
    "environment = BanditCasino(designs)\n",
    "\n",
    "kn = KN(model=environment, \n",
    "        n_designs=len(designs), \n",
    "        delta=0.05, \n",
    "        alpha=0.1, \n",
    "        n_0=5)"
   ]
  },
  {
   "cell_type": "code",
   "execution_count": 17,
   "metadata": {},
   "outputs": [
    {
     "name": "stdout",
     "output_type": "stream",
     "text": [
      "best design\t[9]\n",
      "allocations\t[ 53  28  29  30  31  54 116 317 363 364]\n",
      "total reps\t1385\n",
      "means\t\t[1.13 2.35 3.11 3.99 5.02 5.91 6.93 7.99 9.08 9.95]\n"
     ]
    }
   ],
   "source": [
    "best_design = kn.solve()\n",
    "print('best design\\t{0}'.format(best_design))\n",
    "print('allocations\\t{0}'.format(kn._actions))\n",
    "print('total reps\\t{0}'.format(kn._actions.sum()))\n",
    "print('means\\t\\t{0}'.format(kn._means))"
   ]
  },
  {
   "cell_type": "markdown",
   "metadata": {},
   "source": [
    "## Optimal Computing Budget Allocation (OCBA)\n",
    "\n",
    "An object of type OCBA takes the following parameters:\n",
    "\n",
    "* **model** - a simulation model\n",
    "* **n_designs** - int, the number of competing designs to compare\n",
    "* **budget** - int, the total number of replications to allocate across designs\n",
    "* **delta** - int, the incremental amount of replications to allocate at each round\n",
    "* **n_0** - int, $n_0$ the number of initial replications (default=5)\n",
    "* **min** - bool, True if minimisation; False if maximisation (default=False)"
   ]
  },
  {
   "cell_type": "code",
   "execution_count": 18,
   "metadata": {},
   "outputs": [],
   "source": [
    "from ovs.fixed_budget import OCBA, OCBAM"
   ]
  },
  {
   "cell_type": "code",
   "execution_count": 19,
   "metadata": {},
   "outputs": [],
   "source": [
    "designs = guassian_bandit_sequence(1, 11)\n",
    "environment = BanditCasino(designs)\n",
    "\n",
    "ocba = OCBA(model=environment, \n",
    "            n_designs=len(designs), \n",
    "            budget=500, \n",
    "            delta=5, \n",
    "            n_0=5, \n",
    "            obj='min')"
   ]
  },
  {
   "cell_type": "code",
   "execution_count": 20,
   "metadata": {},
   "outputs": [
    {
     "name": "stdout",
     "output_type": "stream",
     "text": [
      "OCBA(n_designs=10, budget=500, delta=5, n_0=5, obj=min)\n"
     ]
    }
   ],
   "source": [
    "print(ocba)"
   ]
  },
  {
   "cell_type": "markdown",
   "metadata": {},
   "source": [
    "call the `solve()` method to run the optimisation"
   ]
  },
  {
   "cell_type": "code",
   "execution_count": 21,
   "metadata": {},
   "outputs": [
    {
     "name": "stdout",
     "output_type": "stream",
     "text": [
      "best design:\t0\n",
      "allocations:\t[218 200  41   9   6   6   5   5   5   5]\n",
      "total reps:\t500\n",
      "means:\t\t[ 1.01  1.91  2.99  4.33  4.85  5.73  7.2   7.24  8.99 10.62]\n",
      "vars:\t\t[1.01 0.91 0.87 0.56 0.4  0.83 0.48 0.64 0.59 1.56]\n"
     ]
    }
   ],
   "source": [
    "results = ocba.solve()\n",
    "print('best design:\\t{}'.format(results))\n",
    "print('allocations:\\t{}'.format(ocba._allocations))\n",
    "print('total reps:\\t{}'.format(ocba._allocations.sum()))\n",
    "\n",
    "np.set_printoptions(precision=2)\n",
    "print('means:\\t\\t{0}'.format(ocba._means))\n",
    "print('vars:\\t\\t{0}'.format(ocba._vars))"
   ]
  },
  {
   "cell_type": "markdown",
   "metadata": {},
   "source": [
    "## Optimal Computing Budget Allocation Top M (OCBA-m)\n",
    "\n",
    "OCBA-m extended OCBA to identify the top m designs.  \n",
    "\n",
    "An object of type `OCBAM` takes the following parameters:\n",
    "\n",
    "* **model** - a simulation model\n",
    "* **n_designs** - int, the number of competing designs to compare\n",
    "* **budget** - int, the total number of replications to allocate across designs\n",
    "* **delta** - int, the incremental amount of replications to allocate at each round\n",
    "* **n_0** - int, $n_0$ the number of initial replications (default=5)\n",
    "* **m** - int, $m$ the number of top designs to return\n",
    "* **min** - bool, True if minimisation; False if maximisation (default=False)"
   ]
  },
  {
   "cell_type": "code",
   "execution_count": 22,
   "metadata": {},
   "outputs": [],
   "source": [
    "designs = guassian_bandit_sequence(1, 101)\n",
    "environment = BanditCasino(designs)\n",
    "\n",
    "ocbam = OCBAM(model=environment, \n",
    "            n_designs=len(designs), \n",
    "            budget=2000, \n",
    "            delta=10, \n",
    "            n_0=5, \n",
    "            m=3,\n",
    "            obj='max')"
   ]
  },
  {
   "cell_type": "code",
   "execution_count": 23,
   "metadata": {},
   "outputs": [
    {
     "name": "stdout",
     "output_type": "stream",
     "text": [
      "OCBA(n_designs=100, m=3, budget=2000, delta=10, n_0=5, obj=max)\n"
     ]
    }
   ],
   "source": [
    "print(ocbam)"
   ]
  },
  {
   "cell_type": "code",
   "execution_count": 24,
   "metadata": {},
   "outputs": [
    {
     "name": "stdout",
     "output_type": "stream",
     "text": [
      "best designs:\t[97 98 99]\n",
      "allocations:\t[  5   5   5   5   5   5   5   5   5   5   5   5   5   5   5   5   5   5\n",
      "   5   5   5   5   5   5   5   5   5   5   5   5   5   5   5   5   5   5\n",
      "   5   5   6   5   5   5   5   5   5   5   5   5   5   5   6   6   5   6\n",
      "   5   5   6   5   5   5   5   6   5   5   9   9   6   6   9   5   5   8\n",
      "   7   7   5  12   8   8   5  12  11  11  15  15  18  17  23  18  20  15\n",
      "  27  31  44  43  64  82 115 426 426 132]\n",
      "total reps:\t2000\n",
      "means:\t\t[ 1.1   1.49  2.75  4.65  5.95  6.36  6.85  8.26  8.89 10.17 10.53 12.07\n",
      " 13.5  13.47 14.8  15.93 17.25 17.59 19.2  19.51 21.53 23.19 23.5  23.87\n",
      " 24.51 25.87 26.97 28.41 29.05 30.47 31.14 32.6  32.41 34.21 34.94 35.36\n",
      " 37.27 37.55 39.17 39.76 41.   42.07 43.23 44.37 43.94 44.69 47.06 48.57\n",
      " 49.38 50.85 50.53 51.81 52.68 53.62 54.87 56.5  56.84 58.53 59.5  59.74\n",
      " 60.76 62.32 63.46 64.26 64.67 66.11 66.6  68.34 69.49 70.06 70.65 71.48\n",
      " 72.82 74.93 74.57 75.88 77.6  77.91 79.49 80.07 81.36 82.04 82.82 84.16\n",
      " 84.88 86.19 87.48 87.59 89.2  89.97 90.47 92.08 93.12 93.99 94.82 95.9\n",
      " 96.8  98.02 99.04 99.97]\n",
      "vars:\t\t[0.61 0.6  0.22 0.07 2.11 0.9  1.08 0.53 0.34 1.65 0.09 0.98 0.73 0.94\n",
      " 1.07 0.17 0.46 0.51 0.82 0.34 0.63 0.16 0.9  1.33 0.34 1.45 0.74 1.01\n",
      " 0.84 0.23 1.5  0.56 0.91 0.74 0.32 1.3  0.67 2.13 2.13 0.58 0.61 0.44\n",
      " 0.7  1.39 0.88 0.69 0.45 0.42 1.01 0.84 1.52 1.57 0.46 1.49 0.46 1.05\n",
      " 1.38 0.07 0.53 0.22 0.75 1.1  0.7  0.22 1.73 1.51 0.84 0.78 1.59 0.29\n",
      " 0.45 0.93 0.66 0.43 0.13 1.54 0.52 0.64 0.1  1.09 0.83 0.69 1.31 1.09\n",
      " 1.34 0.95 1.55 0.93 0.82 0.35 1.11 0.92 1.29 0.91 1.1  0.99 0.9  1.06\n",
      " 1.17 0.91]\n",
      "SEs:\t\t[0.35 0.35 0.21 0.12 0.65 0.42 0.47 0.32 0.26 0.58 0.14 0.44 0.38 0.43\n",
      " 0.46 0.18 0.3  0.32 0.41 0.26 0.36 0.18 0.42 0.51 0.26 0.54 0.39 0.45\n",
      " 0.41 0.22 0.55 0.34 0.43 0.39 0.25 0.51 0.37 0.65 0.6  0.34 0.35 0.3\n",
      " 0.38 0.53 0.42 0.37 0.3  0.29 0.45 0.41 0.5  0.51 0.3  0.5  0.3  0.46\n",
      " 0.48 0.12 0.33 0.21 0.39 0.43 0.38 0.21 0.44 0.41 0.37 0.36 0.42 0.24\n",
      " 0.3  0.34 0.31 0.25 0.16 0.36 0.25 0.28 0.14 0.3  0.27 0.25 0.3  0.27\n",
      " 0.27 0.24 0.26 0.23 0.2  0.15 0.2  0.17 0.17 0.15 0.13 0.11 0.09 0.05\n",
      " 0.05 0.08]\n"
     ]
    }
   ],
   "source": [
    "results = ocbam.solve()\n",
    "print('best designs:\\t{}'.format(np.sort(results)))\n",
    "print('allocations:\\t{}'.format(ocbam._allocations))\n",
    "print('total reps:\\t{}'.format(ocbam._allocations.sum()))\n",
    "\n",
    "np.set_printoptions(precision=2)\n",
    "print('means:\\t\\t{0}'.format(ocbam._means))\n",
    "print('vars:\\t\\t{0}'.format(ocbam._vars))\n",
    "print('SEs:\\t\\t{0}'.format(ocbam._ses))"
   ]
  },
  {
   "cell_type": "code",
   "execution_count": 25,
   "metadata": {},
   "outputs": [
    {
     "data": {
      "text/plain": [
       "array([7, 8, 9])"
      ]
     },
     "execution_count": 25,
     "metadata": {},
     "output_type": "execute_result"
    }
   ],
   "source": [
    "np.argsort(ocba._means)[-3:]"
   ]
  },
  {
   "cell_type": "markdown",
   "metadata": {},
   "source": [
    "# Evaluation of the methods"
   ]
  },
  {
   "cell_type": "code",
   "execution_count": null,
   "metadata": {},
   "outputs": [],
   "source": [
    "from ovs.evaluation import Experiment"
   ]
  },
  {
   "cell_type": "code",
   "execution_count": null,
   "metadata": {},
   "outputs": [],
   "source": [
    "designs = guassian_bandit_sequence(1, 11)\n",
    "environment = BanditCasino(designs)\n",
    "\n",
    "kn = KN(model=environment, \n",
    "        n_designs=len(designs), \n",
    "        delta=0.1, \n",
    "        alpha=0.2, \n",
    "        n_0=5)\n",
    "\n",
    "exp = Experiment(env=environment, procedure=kn, best_index=9, replications=10)"
   ]
  },
  {
   "cell_type": "code",
   "execution_count": null,
   "metadata": {},
   "outputs": [],
   "source": [
    "results = exp.execute()"
   ]
  },
  {
   "cell_type": "code",
   "execution_count": null,
   "metadata": {},
   "outputs": [],
   "source": [
    "results.p_correct_selections"
   ]
  },
  {
   "cell_type": "code",
   "execution_count": null,
   "metadata": {},
   "outputs": [],
   "source": [
    "results.selections"
   ]
  },
  {
   "cell_type": "code",
   "execution_count": null,
   "metadata": {},
   "outputs": [],
   "source": [
    "results.correct_selections"
   ]
  },
  {
   "cell_type": "code",
   "execution_count": null,
   "metadata": {},
   "outputs": [],
   "source": [
    "designs = guassian_bandit_sequence(1, 101)\n",
    "environment = BanditCasino(designs)\n",
    "\n",
    "ocba = OCBA(model=environment, \n",
    "            n_designs=len(designs), \n",
    "            budget=200, \n",
    "            delta=10, \n",
    "            n_0=5, \n",
    "            min=False)\n",
    "\n",
    "exp = Experiment(env=environment, procedure=ocba, best_index=9, replications=50)"
   ]
  },
  {
   "cell_type": "code",
   "execution_count": null,
   "metadata": {},
   "outputs": [],
   "source": [
    "results = exp.execute()"
   ]
  },
  {
   "cell_type": "code",
   "execution_count": null,
   "metadata": {},
   "outputs": [],
   "source": [
    "results.p_correct_selections"
   ]
  },
  {
   "cell_type": "code",
   "execution_count": null,
   "metadata": {},
   "outputs": [],
   "source": [
    "results.selections"
   ]
  },
  {
   "cell_type": "code",
   "execution_count": null,
   "metadata": {},
   "outputs": [],
   "source": [
    "results.correct_selections"
   ]
  },
  {
   "cell_type": "markdown",
   "metadata": {},
   "source": [
    "## Try different budgets"
   ]
  },
  {
   "cell_type": "code",
   "execution_count": null,
   "metadata": {},
   "outputs": [],
   "source": [
    "from ovs.evaluation import GridExperiment"
   ]
  },
  {
   "cell_type": "code",
   "execution_count": null,
   "metadata": {},
   "outputs": [],
   "source": [
    "designs = guassian_bandit_sequence(1, 11)\n",
    "environment = BanditCasino(designs)\n",
    "\n",
    "param_grid = {'model':[environment],\n",
    "              'budget':[100, 200, 300, 400, 500], \n",
    "              'n_designs':[len(designs)],\n",
    "              'delta':[1, 5,10],\n",
    "              'n_0':[1, 5],\n",
    "              'min':[False]\n",
    "              }\n",
    "\n",
    "\n",
    "exp = GridExperiment(agent=ocba, \n",
    "                     environment=environment, \n",
    "                     param_grid=param_grid,\n",
    "                     best_index=9,\n",
    "                     replications=1000)"
   ]
  },
  {
   "cell_type": "code",
   "execution_count": null,
   "metadata": {},
   "outputs": [],
   "source": [
    "results = exp.fit()"
   ]
  },
  {
   "cell_type": "code",
   "execution_count": null,
   "metadata": {},
   "outputs": [],
   "source": [
    "results"
   ]
  },
  {
   "cell_type": "code",
   "execution_count": null,
   "metadata": {},
   "outputs": [],
   "source": []
  }
 ],
 "metadata": {
  "kernelspec": {
   "display_name": "Python 3",
   "language": "python",
   "name": "python3"
  },
  "language_info": {
   "codemirror_mode": {
    "name": "ipython",
    "version": 3
   },
   "file_extension": ".py",
   "mimetype": "text/x-python",
   "name": "python",
   "nbconvert_exporter": "python",
   "pygments_lexer": "ipython3",
   "version": "3.7.3"
  }
 },
 "nbformat": 4,
 "nbformat_minor": 4
}
