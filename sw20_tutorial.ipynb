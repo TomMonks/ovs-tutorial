{
 "cells": [
  {
   "cell_type": "markdown",
   "metadata": {},
   "source": [
    "# Optimisation via Simulation Tutorial\n",
    "\n",
    "By Christine S.M Currie and Tom Monks"
   ]
  },
  {
   "cell_type": "code",
   "execution_count": 1,
   "metadata": {},
   "outputs": [],
   "source": [
    "import numpy as np"
   ]
  },
  {
   "cell_type": "markdown",
   "metadata": {},
   "source": [
    "## Models\n",
    "\n",
    "To do.\n",
    "\n",
    "* Need to rename some of the functions so that it fits\n",
    "* Need to adapt Christine's Law inventory model"
   ]
  },
  {
   "cell_type": "code",
   "execution_count": 2,
   "metadata": {},
   "outputs": [],
   "source": [
    "from ovs.toy_models import (custom_guass_bandit_problem,\n",
    "                            BanditCasino, \n",
    "                            guassian_bandit_sequence)"
   ]
  },
  {
   "cell_type": "markdown",
   "metadata": {},
   "source": [
    "## Procedure **KN**\n",
    "\n",
    "To run Kim and Nelson's R&S procedure KN, create an instance of `ovs.indifference_zone.KN`\n",
    "\n",
    "An object of type KN takes the following parameters:\n",
    "\n",
    "* **model** - a simulation model\n",
    "* **n_designs** - int, the number of competing designs to compare\n",
    "* **delta** - float, the indifference zone\n",
    "* **alpha** - float, $PCS = 1-\\alpha$ (default=0.05)\n",
    "* **n_0** - int, $n_0$ the number of initial replications (default=2)"
   ]
  },
  {
   "cell_type": "code",
   "execution_count": 3,
   "metadata": {},
   "outputs": [],
   "source": [
    "from ovs.indifference_zone import KN"
   ]
  },
  {
   "cell_type": "code",
   "execution_count": 4,
   "metadata": {},
   "outputs": [],
   "source": [
    "designs = guassian_bandit_sequence(1, 11)\n",
    "environment = BanditCasino(designs)\n",
    "\n",
    "kn = KN(model=environment, \n",
    "        n_designs=len(designs), \n",
    "        delta=0.05, \n",
    "        alpha=0.1, \n",
    "        n_0=5)"
   ]
  },
  {
   "cell_type": "code",
   "execution_count": 5,
   "metadata": {},
   "outputs": [
    {
     "name": "stdout",
     "output_type": "stream",
     "text": [
      "best design\t[9]\n",
      "allocations\t[   8    9   10   11   12   13   39 1679  149 1680]\n",
      "total reps\t3610\n",
      "means\t\t[ 1.18770277  1.5962411   3.11797033  4.37426822  4.50532968  6.1088248\n",
      "  6.96237079  7.98951005  8.94370307 10.01799484]\n"
     ]
    }
   ],
   "source": [
    "best_design = kn.solve()\n",
    "print('best design\\t{0}'.format(best_design))\n",
    "print('allocations\\t{0}'.format(kn._actions))\n",
    "print('total reps\\t{0}'.format(kn._actions.sum()))\n",
    "print('means\\t\\t{0}'.format(kn._means))"
   ]
  },
  {
   "cell_type": "markdown",
   "metadata": {},
   "source": [
    "## Optimal Computing Budget Allocation (OCBA)\n",
    "\n",
    "An object of type OCBA takes the following parameters:\n",
    "\n",
    "* **model** - a simulation model\n",
    "* **n_designs** - int, the number of competing designs to compare\n",
    "* **budget** - int, the total number of replications to allocate across designs\n",
    "* **delta** - int, the incremental amount of replications to allocate at each round\n",
    "* **n_0** - int, $n_0$ the number of initial replications (default=5)\n",
    "* **min** - bool, True if minimisation; False if maximisation (default=False)"
   ]
  },
  {
   "cell_type": "code",
   "execution_count": 6,
   "metadata": {},
   "outputs": [],
   "source": [
    "from ovs.fixed_budget import OCBA"
   ]
  },
  {
   "cell_type": "code",
   "execution_count": 42,
   "metadata": {},
   "outputs": [],
   "source": [
    "designs = guassian_bandit_sequence(1, 11)\n",
    "environment = BanditCasino(designs)\n",
    "\n",
    "ocba = OCBA(model=environment, \n",
    "            n_designs=len(designs), \n",
    "            budget=500, \n",
    "            delta=5, \n",
    "            n_0=5, \n",
    "            min=False)"
   ]
  },
  {
   "cell_type": "markdown",
   "metadata": {},
   "source": [
    "call the `solve()` method to run the optimisation"
   ]
  },
  {
   "cell_type": "code",
   "execution_count": 43,
   "metadata": {},
   "outputs": [
    {
     "name": "stdout",
     "output_type": "stream",
     "text": [
      "best design:\t9\n",
      "allocations:\t[  5   5   5  12   5   5   7  69 191 196]\n",
      "total reps:\t500\n",
      "means:\t\t[ -0.97  -1.55  -3.5   -3.98  -4.9   -6.2   -5.96  -8.02  -8.97 -10.  ]\n",
      "vars:\t\t[0.78 0.39 0.3  1.97 0.37 0.36 0.62 1.38 1.03 0.97]\n"
     ]
    }
   ],
   "source": [
    "results = ocba.solve()\n",
    "print('best design:\\t{}'.format(results))\n",
    "print('allocations:\\t{}'.format(ocba._allocations))\n",
    "print('total reps:\\t{}'.format(ocba._allocations.sum()))\n",
    "\n",
    "np.set_printoptions(precision=2)\n",
    "print('means:\\t\\t{0}'.format(ocba._means))\n",
    "print('vars:\\t\\t{0}'.format(ocba._vars))"
   ]
  },
  {
   "cell_type": "markdown",
   "metadata": {},
   "source": [
    "# Evaluation of the methods"
   ]
  },
  {
   "cell_type": "code",
   "execution_count": 9,
   "metadata": {},
   "outputs": [],
   "source": [
    "from ovs.evaluation import Experiment"
   ]
  },
  {
   "cell_type": "code",
   "execution_count": 10,
   "metadata": {},
   "outputs": [],
   "source": [
    "designs = guassian_bandit_sequence(1, 11)\n",
    "environment = BanditCasino(designs)\n",
    "\n",
    "kn = KN(model=environment, \n",
    "        n_designs=len(designs), \n",
    "        delta=0.1, \n",
    "        alpha=0.2, \n",
    "        n_0=5)\n",
    "\n",
    "exp = Experiment(env=environment, procedure=kn, best_index=9, replications=10)"
   ]
  },
  {
   "cell_type": "code",
   "execution_count": 11,
   "metadata": {},
   "outputs": [],
   "source": [
    "results = exp.execute()"
   ]
  },
  {
   "cell_type": "code",
   "execution_count": 12,
   "metadata": {},
   "outputs": [
    {
     "data": {
      "text/plain": [
       "1.0"
      ]
     },
     "execution_count": 12,
     "metadata": {},
     "output_type": "execute_result"
    }
   ],
   "source": [
    "results.p_correct_selections"
   ]
  },
  {
   "cell_type": "code",
   "execution_count": 13,
   "metadata": {},
   "outputs": [
    {
     "data": {
      "text/plain": [
       "array([9, 9, 9, 9, 9, 9, 9, 9, 9, 9], dtype=int32)"
      ]
     },
     "execution_count": 13,
     "metadata": {},
     "output_type": "execute_result"
    }
   ],
   "source": [
    "results.selections"
   ]
  },
  {
   "cell_type": "code",
   "execution_count": 14,
   "metadata": {},
   "outputs": [
    {
     "data": {
      "text/plain": [
       "10"
      ]
     },
     "execution_count": 14,
     "metadata": {},
     "output_type": "execute_result"
    }
   ],
   "source": [
    "results.correct_selections"
   ]
  },
  {
   "cell_type": "code",
   "execution_count": 15,
   "metadata": {},
   "outputs": [],
   "source": [
    "designs = guassian_bandit_sequence(1, 101)\n",
    "environment = BanditCasino(designs)\n",
    "\n",
    "ocba = OCBA(model=environment, \n",
    "            n_designs=len(designs), \n",
    "            budget=200, \n",
    "            delta=10, \n",
    "            n_0=5, \n",
    "            min=False)\n",
    "\n",
    "exp = Experiment(env=environment, procedure=ocba, best_index=9, replications=50)"
   ]
  },
  {
   "cell_type": "code",
   "execution_count": 16,
   "metadata": {},
   "outputs": [],
   "source": [
    "results = exp.execute()"
   ]
  },
  {
   "cell_type": "code",
   "execution_count": 17,
   "metadata": {},
   "outputs": [
    {
     "data": {
      "text/plain": [
       "0.0"
      ]
     },
     "execution_count": 17,
     "metadata": {},
     "output_type": "execute_result"
    }
   ],
   "source": [
    "results.p_correct_selections"
   ]
  },
  {
   "cell_type": "code",
   "execution_count": 18,
   "metadata": {},
   "outputs": [
    {
     "data": {
      "text/plain": [
       "array([99, 99, 99, 99, 99, 99, 99, 99, 99, 99, 99, 99, 99, 98, 99, 99, 99,\n",
       "       99, 99, 99, 99, 99, 99, 99, 99, 99, 99, 99, 99, 99, 99, 99, 99, 99,\n",
       "       99, 99, 99, 99, 99, 99, 98, 99, 99, 99, 99, 99, 99, 99, 99, 99],\n",
       "      dtype=int32)"
      ]
     },
     "execution_count": 18,
     "metadata": {},
     "output_type": "execute_result"
    }
   ],
   "source": [
    "results.selections"
   ]
  },
  {
   "cell_type": "code",
   "execution_count": 19,
   "metadata": {},
   "outputs": [
    {
     "data": {
      "text/plain": [
       "0"
      ]
     },
     "execution_count": 19,
     "metadata": {},
     "output_type": "execute_result"
    }
   ],
   "source": [
    "results.correct_selections"
   ]
  },
  {
   "cell_type": "markdown",
   "metadata": {},
   "source": [
    "## Try different budgets"
   ]
  },
  {
   "cell_type": "code",
   "execution_count": 44,
   "metadata": {},
   "outputs": [],
   "source": [
    "from ovs.evaluation import GridExperiment"
   ]
  },
  {
   "cell_type": "code",
   "execution_count": 48,
   "metadata": {},
   "outputs": [],
   "source": [
    "designs = guassian_bandit_sequence(1, 11)\n",
    "environment = BanditCasino(designs)\n",
    "\n",
    "param_grid = {'model':[environment],\n",
    "              'budget':[100, 200, 300, 400, 500], \n",
    "              'n_designs':[len(designs)],\n",
    "              'delta':[1, 5,10],\n",
    "              'n_0':[1, 5],\n",
    "              'min':[False]\n",
    "              }\n",
    "\n",
    "\n",
    "exp = GridExperiment(agent=ocba, \n",
    "                     environment=environment, \n",
    "                     param_grid=param_grid,\n",
    "                     best_index=9,\n",
    "                     replications=1000)"
   ]
  },
  {
   "cell_type": "code",
   "execution_count": 49,
   "metadata": {},
   "outputs": [],
   "source": [
    "results = exp.fit()"
   ]
  },
  {
   "cell_type": "code",
   "execution_count": 50,
   "metadata": {},
   "outputs": [
    {
     "data": {
      "text/html": [
       "<div>\n",
       "<style scoped>\n",
       "    .dataframe tbody tr th:only-of-type {\n",
       "        vertical-align: middle;\n",
       "    }\n",
       "\n",
       "    .dataframe tbody tr th {\n",
       "        vertical-align: top;\n",
       "    }\n",
       "\n",
       "    .dataframe thead th {\n",
       "        text-align: right;\n",
       "    }\n",
       "</style>\n",
       "<table border=\"1\" class=\"dataframe\">\n",
       "  <thead>\n",
       "    <tr style=\"text-align: right;\">\n",
       "      <th></th>\n",
       "      <th>n_designs</th>\n",
       "      <th>n_0</th>\n",
       "      <th>model</th>\n",
       "      <th>min</th>\n",
       "      <th>delta</th>\n",
       "      <th>budget</th>\n",
       "      <th>correct_selections</th>\n",
       "      <th>p_correct_selections</th>\n",
       "    </tr>\n",
       "  </thead>\n",
       "  <tbody>\n",
       "    <tr>\n",
       "      <th>0</th>\n",
       "      <td>10</td>\n",
       "      <td>1</td>\n",
       "      <td>&lt;ovs.toy_models.BanditCasino object at 0x7fd19...</td>\n",
       "      <td>False</td>\n",
       "      <td>1</td>\n",
       "      <td>100</td>\n",
       "      <td>1000</td>\n",
       "      <td>1</td>\n",
       "    </tr>\n",
       "    <tr>\n",
       "      <th>1</th>\n",
       "      <td>10</td>\n",
       "      <td>5</td>\n",
       "      <td>&lt;ovs.toy_models.BanditCasino object at 0x7fd19...</td>\n",
       "      <td>False</td>\n",
       "      <td>1</td>\n",
       "      <td>100</td>\n",
       "      <td>1000</td>\n",
       "      <td>1</td>\n",
       "    </tr>\n",
       "    <tr>\n",
       "      <th>2</th>\n",
       "      <td>10</td>\n",
       "      <td>1</td>\n",
       "      <td>&lt;ovs.toy_models.BanditCasino object at 0x7fd19...</td>\n",
       "      <td>False</td>\n",
       "      <td>5</td>\n",
       "      <td>100</td>\n",
       "      <td>1000</td>\n",
       "      <td>1</td>\n",
       "    </tr>\n",
       "    <tr>\n",
       "      <th>3</th>\n",
       "      <td>10</td>\n",
       "      <td>5</td>\n",
       "      <td>&lt;ovs.toy_models.BanditCasino object at 0x7fd19...</td>\n",
       "      <td>False</td>\n",
       "      <td>5</td>\n",
       "      <td>100</td>\n",
       "      <td>1000</td>\n",
       "      <td>1</td>\n",
       "    </tr>\n",
       "    <tr>\n",
       "      <th>4</th>\n",
       "      <td>10</td>\n",
       "      <td>1</td>\n",
       "      <td>&lt;ovs.toy_models.BanditCasino object at 0x7fd19...</td>\n",
       "      <td>False</td>\n",
       "      <td>10</td>\n",
       "      <td>100</td>\n",
       "      <td>1000</td>\n",
       "      <td>1</td>\n",
       "    </tr>\n",
       "    <tr>\n",
       "      <th>5</th>\n",
       "      <td>10</td>\n",
       "      <td>5</td>\n",
       "      <td>&lt;ovs.toy_models.BanditCasino object at 0x7fd19...</td>\n",
       "      <td>False</td>\n",
       "      <td>10</td>\n",
       "      <td>100</td>\n",
       "      <td>1000</td>\n",
       "      <td>1</td>\n",
       "    </tr>\n",
       "    <tr>\n",
       "      <th>6</th>\n",
       "      <td>10</td>\n",
       "      <td>1</td>\n",
       "      <td>&lt;ovs.toy_models.BanditCasino object at 0x7fd19...</td>\n",
       "      <td>False</td>\n",
       "      <td>1</td>\n",
       "      <td>200</td>\n",
       "      <td>1000</td>\n",
       "      <td>1</td>\n",
       "    </tr>\n",
       "    <tr>\n",
       "      <th>7</th>\n",
       "      <td>10</td>\n",
       "      <td>5</td>\n",
       "      <td>&lt;ovs.toy_models.BanditCasino object at 0x7fd19...</td>\n",
       "      <td>False</td>\n",
       "      <td>1</td>\n",
       "      <td>200</td>\n",
       "      <td>1000</td>\n",
       "      <td>1</td>\n",
       "    </tr>\n",
       "    <tr>\n",
       "      <th>8</th>\n",
       "      <td>10</td>\n",
       "      <td>1</td>\n",
       "      <td>&lt;ovs.toy_models.BanditCasino object at 0x7fd19...</td>\n",
       "      <td>False</td>\n",
       "      <td>5</td>\n",
       "      <td>200</td>\n",
       "      <td>1000</td>\n",
       "      <td>1</td>\n",
       "    </tr>\n",
       "    <tr>\n",
       "      <th>9</th>\n",
       "      <td>10</td>\n",
       "      <td>5</td>\n",
       "      <td>&lt;ovs.toy_models.BanditCasino object at 0x7fd19...</td>\n",
       "      <td>False</td>\n",
       "      <td>5</td>\n",
       "      <td>200</td>\n",
       "      <td>1000</td>\n",
       "      <td>1</td>\n",
       "    </tr>\n",
       "    <tr>\n",
       "      <th>10</th>\n",
       "      <td>10</td>\n",
       "      <td>1</td>\n",
       "      <td>&lt;ovs.toy_models.BanditCasino object at 0x7fd19...</td>\n",
       "      <td>False</td>\n",
       "      <td>10</td>\n",
       "      <td>200</td>\n",
       "      <td>1000</td>\n",
       "      <td>1</td>\n",
       "    </tr>\n",
       "    <tr>\n",
       "      <th>11</th>\n",
       "      <td>10</td>\n",
       "      <td>5</td>\n",
       "      <td>&lt;ovs.toy_models.BanditCasino object at 0x7fd19...</td>\n",
       "      <td>False</td>\n",
       "      <td>10</td>\n",
       "      <td>200</td>\n",
       "      <td>1000</td>\n",
       "      <td>1</td>\n",
       "    </tr>\n",
       "    <tr>\n",
       "      <th>12</th>\n",
       "      <td>10</td>\n",
       "      <td>1</td>\n",
       "      <td>&lt;ovs.toy_models.BanditCasino object at 0x7fd19...</td>\n",
       "      <td>False</td>\n",
       "      <td>1</td>\n",
       "      <td>300</td>\n",
       "      <td>1000</td>\n",
       "      <td>1</td>\n",
       "    </tr>\n",
       "    <tr>\n",
       "      <th>13</th>\n",
       "      <td>10</td>\n",
       "      <td>5</td>\n",
       "      <td>&lt;ovs.toy_models.BanditCasino object at 0x7fd19...</td>\n",
       "      <td>False</td>\n",
       "      <td>1</td>\n",
       "      <td>300</td>\n",
       "      <td>1000</td>\n",
       "      <td>1</td>\n",
       "    </tr>\n",
       "    <tr>\n",
       "      <th>14</th>\n",
       "      <td>10</td>\n",
       "      <td>1</td>\n",
       "      <td>&lt;ovs.toy_models.BanditCasino object at 0x7fd19...</td>\n",
       "      <td>False</td>\n",
       "      <td>5</td>\n",
       "      <td>300</td>\n",
       "      <td>1000</td>\n",
       "      <td>1</td>\n",
       "    </tr>\n",
       "    <tr>\n",
       "      <th>15</th>\n",
       "      <td>10</td>\n",
       "      <td>5</td>\n",
       "      <td>&lt;ovs.toy_models.BanditCasino object at 0x7fd19...</td>\n",
       "      <td>False</td>\n",
       "      <td>5</td>\n",
       "      <td>300</td>\n",
       "      <td>1000</td>\n",
       "      <td>1</td>\n",
       "    </tr>\n",
       "    <tr>\n",
       "      <th>16</th>\n",
       "      <td>10</td>\n",
       "      <td>1</td>\n",
       "      <td>&lt;ovs.toy_models.BanditCasino object at 0x7fd19...</td>\n",
       "      <td>False</td>\n",
       "      <td>10</td>\n",
       "      <td>300</td>\n",
       "      <td>1000</td>\n",
       "      <td>1</td>\n",
       "    </tr>\n",
       "    <tr>\n",
       "      <th>17</th>\n",
       "      <td>10</td>\n",
       "      <td>5</td>\n",
       "      <td>&lt;ovs.toy_models.BanditCasino object at 0x7fd19...</td>\n",
       "      <td>False</td>\n",
       "      <td>10</td>\n",
       "      <td>300</td>\n",
       "      <td>1000</td>\n",
       "      <td>1</td>\n",
       "    </tr>\n",
       "    <tr>\n",
       "      <th>18</th>\n",
       "      <td>10</td>\n",
       "      <td>1</td>\n",
       "      <td>&lt;ovs.toy_models.BanditCasino object at 0x7fd19...</td>\n",
       "      <td>False</td>\n",
       "      <td>1</td>\n",
       "      <td>400</td>\n",
       "      <td>1000</td>\n",
       "      <td>1</td>\n",
       "    </tr>\n",
       "    <tr>\n",
       "      <th>19</th>\n",
       "      <td>10</td>\n",
       "      <td>5</td>\n",
       "      <td>&lt;ovs.toy_models.BanditCasino object at 0x7fd19...</td>\n",
       "      <td>False</td>\n",
       "      <td>1</td>\n",
       "      <td>400</td>\n",
       "      <td>1000</td>\n",
       "      <td>1</td>\n",
       "    </tr>\n",
       "    <tr>\n",
       "      <th>20</th>\n",
       "      <td>10</td>\n",
       "      <td>1</td>\n",
       "      <td>&lt;ovs.toy_models.BanditCasino object at 0x7fd19...</td>\n",
       "      <td>False</td>\n",
       "      <td>5</td>\n",
       "      <td>400</td>\n",
       "      <td>1000</td>\n",
       "      <td>1</td>\n",
       "    </tr>\n",
       "    <tr>\n",
       "      <th>21</th>\n",
       "      <td>10</td>\n",
       "      <td>5</td>\n",
       "      <td>&lt;ovs.toy_models.BanditCasino object at 0x7fd19...</td>\n",
       "      <td>False</td>\n",
       "      <td>5</td>\n",
       "      <td>400</td>\n",
       "      <td>1000</td>\n",
       "      <td>1</td>\n",
       "    </tr>\n",
       "    <tr>\n",
       "      <th>22</th>\n",
       "      <td>10</td>\n",
       "      <td>1</td>\n",
       "      <td>&lt;ovs.toy_models.BanditCasino object at 0x7fd19...</td>\n",
       "      <td>False</td>\n",
       "      <td>10</td>\n",
       "      <td>400</td>\n",
       "      <td>1000</td>\n",
       "      <td>1</td>\n",
       "    </tr>\n",
       "    <tr>\n",
       "      <th>23</th>\n",
       "      <td>10</td>\n",
       "      <td>5</td>\n",
       "      <td>&lt;ovs.toy_models.BanditCasino object at 0x7fd19...</td>\n",
       "      <td>False</td>\n",
       "      <td>10</td>\n",
       "      <td>400</td>\n",
       "      <td>1000</td>\n",
       "      <td>1</td>\n",
       "    </tr>\n",
       "    <tr>\n",
       "      <th>24</th>\n",
       "      <td>10</td>\n",
       "      <td>1</td>\n",
       "      <td>&lt;ovs.toy_models.BanditCasino object at 0x7fd19...</td>\n",
       "      <td>False</td>\n",
       "      <td>1</td>\n",
       "      <td>500</td>\n",
       "      <td>1000</td>\n",
       "      <td>1</td>\n",
       "    </tr>\n",
       "    <tr>\n",
       "      <th>25</th>\n",
       "      <td>10</td>\n",
       "      <td>5</td>\n",
       "      <td>&lt;ovs.toy_models.BanditCasino object at 0x7fd19...</td>\n",
       "      <td>False</td>\n",
       "      <td>1</td>\n",
       "      <td>500</td>\n",
       "      <td>1000</td>\n",
       "      <td>1</td>\n",
       "    </tr>\n",
       "    <tr>\n",
       "      <th>26</th>\n",
       "      <td>10</td>\n",
       "      <td>1</td>\n",
       "      <td>&lt;ovs.toy_models.BanditCasino object at 0x7fd19...</td>\n",
       "      <td>False</td>\n",
       "      <td>5</td>\n",
       "      <td>500</td>\n",
       "      <td>1000</td>\n",
       "      <td>1</td>\n",
       "    </tr>\n",
       "    <tr>\n",
       "      <th>27</th>\n",
       "      <td>10</td>\n",
       "      <td>5</td>\n",
       "      <td>&lt;ovs.toy_models.BanditCasino object at 0x7fd19...</td>\n",
       "      <td>False</td>\n",
       "      <td>5</td>\n",
       "      <td>500</td>\n",
       "      <td>1000</td>\n",
       "      <td>1</td>\n",
       "    </tr>\n",
       "    <tr>\n",
       "      <th>28</th>\n",
       "      <td>10</td>\n",
       "      <td>1</td>\n",
       "      <td>&lt;ovs.toy_models.BanditCasino object at 0x7fd19...</td>\n",
       "      <td>False</td>\n",
       "      <td>10</td>\n",
       "      <td>500</td>\n",
       "      <td>1000</td>\n",
       "      <td>1</td>\n",
       "    </tr>\n",
       "    <tr>\n",
       "      <th>29</th>\n",
       "      <td>10</td>\n",
       "      <td>5</td>\n",
       "      <td>&lt;ovs.toy_models.BanditCasino object at 0x7fd19...</td>\n",
       "      <td>False</td>\n",
       "      <td>10</td>\n",
       "      <td>500</td>\n",
       "      <td>1000</td>\n",
       "      <td>1</td>\n",
       "    </tr>\n",
       "  </tbody>\n",
       "</table>\n",
       "</div>"
      ],
      "text/plain": [
       "   n_designs n_0                                              model    min  \\\n",
       "0         10   1  <ovs.toy_models.BanditCasino object at 0x7fd19...  False   \n",
       "1         10   5  <ovs.toy_models.BanditCasino object at 0x7fd19...  False   \n",
       "2         10   1  <ovs.toy_models.BanditCasino object at 0x7fd19...  False   \n",
       "3         10   5  <ovs.toy_models.BanditCasino object at 0x7fd19...  False   \n",
       "4         10   1  <ovs.toy_models.BanditCasino object at 0x7fd19...  False   \n",
       "5         10   5  <ovs.toy_models.BanditCasino object at 0x7fd19...  False   \n",
       "6         10   1  <ovs.toy_models.BanditCasino object at 0x7fd19...  False   \n",
       "7         10   5  <ovs.toy_models.BanditCasino object at 0x7fd19...  False   \n",
       "8         10   1  <ovs.toy_models.BanditCasino object at 0x7fd19...  False   \n",
       "9         10   5  <ovs.toy_models.BanditCasino object at 0x7fd19...  False   \n",
       "10        10   1  <ovs.toy_models.BanditCasino object at 0x7fd19...  False   \n",
       "11        10   5  <ovs.toy_models.BanditCasino object at 0x7fd19...  False   \n",
       "12        10   1  <ovs.toy_models.BanditCasino object at 0x7fd19...  False   \n",
       "13        10   5  <ovs.toy_models.BanditCasino object at 0x7fd19...  False   \n",
       "14        10   1  <ovs.toy_models.BanditCasino object at 0x7fd19...  False   \n",
       "15        10   5  <ovs.toy_models.BanditCasino object at 0x7fd19...  False   \n",
       "16        10   1  <ovs.toy_models.BanditCasino object at 0x7fd19...  False   \n",
       "17        10   5  <ovs.toy_models.BanditCasino object at 0x7fd19...  False   \n",
       "18        10   1  <ovs.toy_models.BanditCasino object at 0x7fd19...  False   \n",
       "19        10   5  <ovs.toy_models.BanditCasino object at 0x7fd19...  False   \n",
       "20        10   1  <ovs.toy_models.BanditCasino object at 0x7fd19...  False   \n",
       "21        10   5  <ovs.toy_models.BanditCasino object at 0x7fd19...  False   \n",
       "22        10   1  <ovs.toy_models.BanditCasino object at 0x7fd19...  False   \n",
       "23        10   5  <ovs.toy_models.BanditCasino object at 0x7fd19...  False   \n",
       "24        10   1  <ovs.toy_models.BanditCasino object at 0x7fd19...  False   \n",
       "25        10   5  <ovs.toy_models.BanditCasino object at 0x7fd19...  False   \n",
       "26        10   1  <ovs.toy_models.BanditCasino object at 0x7fd19...  False   \n",
       "27        10   5  <ovs.toy_models.BanditCasino object at 0x7fd19...  False   \n",
       "28        10   1  <ovs.toy_models.BanditCasino object at 0x7fd19...  False   \n",
       "29        10   5  <ovs.toy_models.BanditCasino object at 0x7fd19...  False   \n",
       "\n",
       "   delta budget correct_selections p_correct_selections  \n",
       "0      1    100               1000                    1  \n",
       "1      1    100               1000                    1  \n",
       "2      5    100               1000                    1  \n",
       "3      5    100               1000                    1  \n",
       "4     10    100               1000                    1  \n",
       "5     10    100               1000                    1  \n",
       "6      1    200               1000                    1  \n",
       "7      1    200               1000                    1  \n",
       "8      5    200               1000                    1  \n",
       "9      5    200               1000                    1  \n",
       "10    10    200               1000                    1  \n",
       "11    10    200               1000                    1  \n",
       "12     1    300               1000                    1  \n",
       "13     1    300               1000                    1  \n",
       "14     5    300               1000                    1  \n",
       "15     5    300               1000                    1  \n",
       "16    10    300               1000                    1  \n",
       "17    10    300               1000                    1  \n",
       "18     1    400               1000                    1  \n",
       "19     1    400               1000                    1  \n",
       "20     5    400               1000                    1  \n",
       "21     5    400               1000                    1  \n",
       "22    10    400               1000                    1  \n",
       "23    10    400               1000                    1  \n",
       "24     1    500               1000                    1  \n",
       "25     1    500               1000                    1  \n",
       "26     5    500               1000                    1  \n",
       "27     5    500               1000                    1  \n",
       "28    10    500               1000                    1  \n",
       "29    10    500               1000                    1  "
      ]
     },
     "execution_count": 50,
     "metadata": {},
     "output_type": "execute_result"
    }
   ],
   "source": [
    "results"
   ]
  },
  {
   "cell_type": "code",
   "execution_count": null,
   "metadata": {},
   "outputs": [],
   "source": []
  }
 ],
 "metadata": {
  "kernelspec": {
   "display_name": "Python 3",
   "language": "python",
   "name": "python3"
  },
  "language_info": {
   "codemirror_mode": {
    "name": "ipython",
    "version": 3
   },
   "file_extension": ".py",
   "mimetype": "text/x-python",
   "name": "python",
   "nbconvert_exporter": "python",
   "pygments_lexer": "ipython3",
   "version": "3.7.3"
  }
 },
 "nbformat": 4,
 "nbformat_minor": 4
}
