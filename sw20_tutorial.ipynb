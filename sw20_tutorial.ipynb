{
 "cells": [
  {
   "cell_type": "markdown",
   "metadata": {},
   "source": [
    "# Optimisation via Simulation Tutorial\n",
    "\n",
    "By Christine S.M Currie and Tom Monks"
   ]
  },
  {
   "cell_type": "code",
   "execution_count": 1,
   "metadata": {},
   "outputs": [],
   "source": [
    "import numpy as np"
   ]
  },
  {
   "cell_type": "markdown",
   "metadata": {},
   "source": [
    "## Models\n",
    "\n",
    "To do.\n",
    "\n",
    "* Need to rename some of the functions so that it fits\n",
    "* Need to adapt Christine's Law inventory model"
   ]
  },
  {
   "cell_type": "code",
   "execution_count": 2,
   "metadata": {},
   "outputs": [],
   "source": [
    "from ovs.toy_models import (custom_guass_bandit_problem,\n",
    "                            BanditCasino, \n",
    "                            guassian_bandit_sequence,\n",
    "                            guassian_sequence_model)"
   ]
  },
  {
   "cell_type": "markdown",
   "metadata": {},
   "source": [
    "## Procedure **KN**\n",
    "\n",
    "To run Kim and Nelson's R&S procedure KN, create an instance of `ovs.indifference_zone.KN`\n",
    "\n",
    "An object of type KN takes the following parameters:\n",
    "\n",
    "* **model** - a simulation model\n",
    "* **n_designs** - int, the number of competing designs to compare\n",
    "* **delta** - float, the indifference zone\n",
    "* **alpha** - float, $PCS = 1-\\alpha$ (default=0.05)\n",
    "* **n_0** - int, $n_0$ the number of initial replications (default=2)"
   ]
  },
  {
   "cell_type": "code",
   "execution_count": 3,
   "metadata": {},
   "outputs": [],
   "source": [
    "from ovs.indifference_zone import KN"
   ]
  },
  {
   "cell_type": "code",
   "execution_count": 4,
   "metadata": {},
   "outputs": [],
   "source": [
    "designs = guassian_bandit_sequence(1, 11)\n",
    "environment = BanditCasino(designs)\n",
    "\n",
    "kn = KN(model=environment, \n",
    "        n_designs=len(designs), \n",
    "        delta=0.05, \n",
    "        alpha=0.1, \n",
    "        n_0=5)"
   ]
  },
  {
   "cell_type": "code",
   "execution_count": 5,
   "metadata": {},
   "outputs": [],
   "source": [
    "model = guassian_sequence_model(1, 10)"
   ]
  },
  {
   "cell_type": "code",
   "execution_count": 6,
   "metadata": {},
   "outputs": [],
   "source": [
    "model.simulate(0)"
   ]
  },
  {
   "cell_type": "code",
   "execution_count": null,
   "metadata": {},
   "outputs": [],
   "source": [
    "print(kn)"
   ]
  },
  {
   "cell_type": "code",
   "execution_count": null,
   "metadata": {},
   "outputs": [],
   "source": [
    "best_design = kn.solve()\n",
    "print('best design\\t{0}'.format(best_design))\n",
    "print('allocations\\t{0}'.format(kn._actions))\n",
    "print('total reps\\t{0}'.format(kn._actions.sum()))\n",
    "print('means\\t\\t{0}'.format(kn._means))"
   ]
  },
  {
   "cell_type": "markdown",
   "metadata": {},
   "source": [
    "## Optimal Computing Budget Allocation (OCBA)\n",
    "\n",
    "An object of type OCBA takes the following parameters:\n",
    "\n",
    "* **model** - a simulation model\n",
    "* **n_designs** - int, the number of competing designs to compare\n",
    "* **budget** - int, the total number of replications to allocate across designs\n",
    "* **delta** - int, the incremental amount of replications to allocate at each round\n",
    "* **n_0** - int, $n_0$ the number of initial replications (default=5)\n",
    "* **min** - bool, True if minimisation; False if maximisation (default=False)"
   ]
  },
  {
   "cell_type": "code",
   "execution_count": null,
   "metadata": {},
   "outputs": [],
   "source": [
    "from ovs.fixed_budget import OCBA, OCBAM"
   ]
  },
  {
   "cell_type": "code",
   "execution_count": null,
   "metadata": {},
   "outputs": [],
   "source": [
    "designs = guassian_bandit_sequence(1, 11)\n",
    "environment = BanditCasino(designs)\n",
    "\n",
    "ocba = OCBA(model=environment, \n",
    "            n_designs=len(designs), \n",
    "            budget=500, \n",
    "            delta=5, \n",
    "            n_0=5, \n",
    "            obj='min')"
   ]
  },
  {
   "cell_type": "code",
   "execution_count": null,
   "metadata": {},
   "outputs": [],
   "source": [
    "print(ocba)"
   ]
  },
  {
   "cell_type": "markdown",
   "metadata": {},
   "source": [
    "call the `solve()` method to run the optimisation"
   ]
  },
  {
   "cell_type": "code",
   "execution_count": null,
   "metadata": {},
   "outputs": [],
   "source": [
    "results = ocba.solve()\n",
    "print('best design:\\t{}'.format(results))\n",
    "print('allocations:\\t{}'.format(ocba._allocations))\n",
    "print('total reps:\\t{}'.format(ocba._allocations.sum()))\n",
    "\n",
    "np.set_printoptions(precision=2)\n",
    "print('means:\\t\\t{0}'.format(ocba._means))\n",
    "print('vars:\\t\\t{0}'.format(ocba._vars))"
   ]
  },
  {
   "cell_type": "markdown",
   "metadata": {},
   "source": [
    "## Optimal Computing Budget Allocation Top M (OCBA-m)\n",
    "\n",
    "OCBA-m extended OCBA to identify the top m designs.  \n",
    "\n",
    "An object of type `OCBAM` takes the following parameters:\n",
    "\n",
    "* **model** - a simulation model\n",
    "* **n_designs** - int, the number of competing designs to compare\n",
    "* **budget** - int, the total number of replications to allocate across designs\n",
    "* **delta** - int, the incremental amount of replications to allocate at each round\n",
    "* **n_0** - int, $n_0$ the number of initial replications (default=5)\n",
    "* **m** - int, $m$ the number of top designs to return\n",
    "* **min** - bool, True if minimisation; False if maximisation (default=False)"
   ]
  },
  {
   "cell_type": "code",
   "execution_count": null,
   "metadata": {},
   "outputs": [],
   "source": [
    "designs = guassian_bandit_sequence(1, 11)\n",
    "environment = BanditCasino(designs)\n",
    "\n",
    "ocbam = OCBAM(model=environment, \n",
    "            n_designs=len(designs), \n",
    "            budget=500, \n",
    "            delta=5, \n",
    "            n_0=5, \n",
    "            m=3,\n",
    "            obj='max')"
   ]
  },
  {
   "cell_type": "code",
   "execution_count": null,
   "metadata": {},
   "outputs": [],
   "source": [
    "print(ocbam)"
   ]
  },
  {
   "cell_type": "code",
   "execution_count": null,
   "metadata": {},
   "outputs": [],
   "source": [
    "results = ocbam.solve()\n",
    "print('best designs:\\t{}'.format(np.sort(results)))\n",
    "print('allocations:\\t{}'.format(ocbam._allocations))\n",
    "print('total reps:\\t{}'.format(ocbam._allocations.sum()))\n",
    "\n",
    "np.set_printoptions(precision=2)\n",
    "print('means:\\t\\t{0}'.format(ocbam._means))\n",
    "print('vars:\\t\\t{0}'.format(ocbam._vars))\n",
    "print('SEs:\\t\\t{0}'.format(ocbam._ses))"
   ]
  },
  {
   "cell_type": "code",
   "execution_count": null,
   "metadata": {},
   "outputs": [],
   "source": [
    "np.argsort(ocba._means)[-3:]"
   ]
  },
  {
   "cell_type": "markdown",
   "metadata": {},
   "source": [
    "# Evaluation of the methods"
   ]
  },
  {
   "cell_type": "code",
   "execution_count": null,
   "metadata": {},
   "outputs": [],
   "source": [
    "from ovs.evaluation import Experiment"
   ]
  },
  {
   "cell_type": "code",
   "execution_count": null,
   "metadata": {},
   "outputs": [],
   "source": [
    "designs = guassian_bandit_sequence(1, 11)\n",
    "environment = BanditCasino(designs)\n",
    "\n",
    "kn = KN(model=environment, \n",
    "        n_designs=len(designs), \n",
    "        delta=0.1, \n",
    "        alpha=0.2, \n",
    "        n_0=5)\n",
    "\n",
    "exp = Experiment(env=environment, procedure=kn, best_index=9, replications=10)"
   ]
  },
  {
   "cell_type": "code",
   "execution_count": null,
   "metadata": {},
   "outputs": [],
   "source": [
    "results = exp.execute()"
   ]
  },
  {
   "cell_type": "code",
   "execution_count": null,
   "metadata": {},
   "outputs": [],
   "source": [
    "results.p_correct_selections"
   ]
  },
  {
   "cell_type": "code",
   "execution_count": null,
   "metadata": {},
   "outputs": [],
   "source": [
    "results.selections"
   ]
  },
  {
   "cell_type": "code",
   "execution_count": null,
   "metadata": {},
   "outputs": [],
   "source": [
    "results.correct_selections"
   ]
  },
  {
   "cell_type": "code",
   "execution_count": null,
   "metadata": {},
   "outputs": [],
   "source": [
    "designs = guassian_bandit_sequence(1, 101)\n",
    "environment = BanditCasino(designs)\n",
    "\n",
    "ocba = OCBA(model=environment, \n",
    "            n_designs=len(designs), \n",
    "            budget=200, \n",
    "            delta=10, \n",
    "            n_0=5, \n",
    "            min=False)\n",
    "\n",
    "exp = Experiment(env=environment, procedure=ocba, best_index=9, replications=50)"
   ]
  },
  {
   "cell_type": "code",
   "execution_count": null,
   "metadata": {},
   "outputs": [],
   "source": [
    "results = exp.execute()"
   ]
  },
  {
   "cell_type": "code",
   "execution_count": null,
   "metadata": {},
   "outputs": [],
   "source": [
    "results.p_correct_selections"
   ]
  },
  {
   "cell_type": "code",
   "execution_count": null,
   "metadata": {},
   "outputs": [],
   "source": [
    "results.selections"
   ]
  },
  {
   "cell_type": "code",
   "execution_count": null,
   "metadata": {},
   "outputs": [],
   "source": [
    "results.correct_selections"
   ]
  },
  {
   "cell_type": "markdown",
   "metadata": {},
   "source": [
    "## Try different budgets"
   ]
  },
  {
   "cell_type": "code",
   "execution_count": null,
   "metadata": {},
   "outputs": [],
   "source": [
    "from ovs.evaluation import GridExperiment"
   ]
  },
  {
   "cell_type": "code",
   "execution_count": null,
   "metadata": {},
   "outputs": [],
   "source": [
    "designs = guassian_bandit_sequence(1, 11)\n",
    "environment = BanditCasino(designs)\n",
    "\n",
    "param_grid = {'model':[environment],\n",
    "              'budget':[100, 200, 300, 400, 500], \n",
    "              'n_designs':[len(designs)],\n",
    "              'delta':[1, 5,10],\n",
    "              'n_0':[1, 5],\n",
    "              'min':[False]\n",
    "              }\n",
    "\n",
    "\n",
    "exp = GridExperiment(agent=ocba, \n",
    "                     environment=environment, \n",
    "                     param_grid=param_grid,\n",
    "                     best_index=9,\n",
    "                     replications=1000)"
   ]
  },
  {
   "cell_type": "code",
   "execution_count": null,
   "metadata": {},
   "outputs": [],
   "source": [
    "results = exp.fit()"
   ]
  },
  {
   "cell_type": "code",
   "execution_count": null,
   "metadata": {},
   "outputs": [],
   "source": [
    "results"
   ]
  },
  {
   "cell_type": "code",
   "execution_count": null,
   "metadata": {},
   "outputs": [],
   "source": []
  }
 ],
 "metadata": {
  "kernelspec": {
   "display_name": "Python 3",
   "language": "python",
   "name": "python3"
  },
  "language_info": {
   "codemirror_mode": {
    "name": "ipython",
    "version": 3
   },
   "file_extension": ".py",
   "mimetype": "text/x-python",
   "name": "python",
   "nbconvert_exporter": "python",
   "pygments_lexer": "ipython3",
   "version": "3.7.3"
  }
 },
 "nbformat": 4,
 "nbformat_minor": 4
}
