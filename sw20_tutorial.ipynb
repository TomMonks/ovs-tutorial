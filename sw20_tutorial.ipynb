{
 "cells": [
  {
   "cell_type": "markdown",
   "metadata": {},
   "source": [
    "# An Introduction to Optimisation via Simulation.  How to choose the best setup for a system.\n",
    "## A tutorial for the Simulation Workshop 2020\n",
    "\n",
    "**Dr Christine S.M Currie and Tom Monks**\n",
    "\n",
    "This tutorial introduces Ranking and Selection procedures for stochastic computer simulation.  We focus on in difference zone and optimal computer budget allocation procedures. The procedures are:\n",
    "\n",
    "* KN and KN++\n",
    "* OCBA and OCBA-m"
   ]
  },
  {
   "cell_type": "code",
   "execution_count": 1,
   "metadata": {},
   "outputs": [],
   "source": [
    "import numpy as np"
   ]
  },
  {
   "cell_type": "code",
   "execution_count": 2,
   "metadata": {},
   "outputs": [],
   "source": [
    "from ovs.toy_models import (custom_guassian_model,\n",
    "                            guassian_sequence_model,\n",
    "                            random_guassian_model,\n",
    "                            ManualOptimiser)"
   ]
  },
  {
   "cell_type": "markdown",
   "metadata": {},
   "source": [
    "## Simulation Models\n",
    "\n",
    "To keep the focus of this tutorial on Ranking and Selection procedures and what they do, and how they perform in practice, the models we introduce are deliberately simple.   The following sections describe how to create a a set of simulation models where the outputs are independent guassian distributions.  There are three options:\n",
    "\n",
    "* the means of these outputs distributions follow a sequence (e.g. 1, 2, 3, 4, 5) variance is 1.0. \n",
    "* the means and variances are user specified.\n",
    "* the means and variances are randomly generated."
   ]
  },
  {
   "cell_type": "markdown",
   "metadata": {},
   "source": [
    "### Creating a simple sequence of normal distributions\n",
    "\n",
    "A simple model can be created using the `guassian_sequance_model()` function.  This creates a simulation model where the output of each design follows a $N - (\\mu_{i}, 1.0)$ :\n",
    "\n",
    "The function accepts three keyword arguments:\n",
    "\n",
    "* **start** - int, the first mean in the sequence (inclusive)\n",
    "* **end** - int, the last mean int the sequence (inclusive)\n",
    "* **step** - int, the difference between mean i and mean i + 1.\n",
    "\n",
    "For example, the following code creates a simulation model with 10 designs with means 1 to 10 and unit variance.\n",
    "\n",
    "```python\n",
    "model = guassian_sequence_model(1, 10)\n",
    "```\n",
    "\n",
    "To create a simulation model with 5 designs where $\\mu_{i+1} - \\mu_i = 2 $ :\n",
    "\n",
    "```python\n",
    "model = guassian_sequence_model(1, 10, step=2)\n",
    "```\n",
    "\n",
    "### Creating a custom model with known designs\n",
    "Instead of a sequence of normal distributions with unit variance, it is possible to create a custom set of designs with varying variances. Use the `custom_guassian_model` function for this task.  For example to create a custom set of designs: \n",
    "\n",
    "```python\n",
    "means = [5, 8, 1, 2, 1, 7]\n",
    "variances = [0.1, 1.2, 1.4, 0.3, 0.8]\n",
    "\n",
    "custom_model = custom_guassian_model(means, variances)\n",
    "```\n",
    "\n",
    "The following code demonstrates how to create a sequence of 100 designs with variances that are 10% of the mean. \n",
    "\n",
    "```python\n",
    "n_designs = 100\n",
    "means = [i for i in range(n_designs+1)]\n",
    "variances = [j*0.1 for j in range(n_designs+1)]\n",
    "\n",
    "custom_model = custom_guassian_model(means, variances)\n",
    "```\n",
    "\n",
    "\n",
    "### Creating a model with randomly sampled designs\n",
    "\n",
    "To create a model with a set of unknown designs (within a specified mean and variance tolerance) use \n",
    "\n",
    "```python\n",
    "mean_low = 1.0\n",
    "mean_high = 15.0\n",
    "var_low = 0.1\n",
    "var_high = 2.0\n",
    "n_designs = 15\n",
    "\n",
    "model = random_guassian_model(mean_low, mean_high, var_low, var_high, n_designs)\n",
    "```\n",
    "\n",
    "Where:\n",
    "* **mean_low** - float, a lower bound on the means of the output distributions\n",
    "* **mean_high** - float, an upper bound on the means\n",
    "* **var_low** - float, a lower bound on the variance of the output distributions\n",
    "* **var_high** - float, an upper bound on the variances.\n",
    "* **n_designs** - int, the number of designs to create.\n",
    "\n",
    "## A manual optimisation framework\n",
    "\n",
    "Before using the **Optimisation via Simulation** (OvS) procedures, it is recommended that you get a feel for the framework in which the OvS procedures operate.  To do this we will create some models and explore them using a `ManualOptimiser`.  This allows the user to run independent and multiple replications of the model yourself independent of any algorithm.  The `ManualOptimiser` keeps track of the means, variances and number of replications run for each design.\n",
    "\n",
    "A `ManualOptimiser` object requires two parameters when it is created.  \n",
    "\n",
    "* model - object, e.g. a model that is a sequence of normal distributions\n",
    "* n_designs - the number of designs to be considered."
   ]
  },
  {
   "cell_type": "code",
   "execution_count": 3,
   "metadata": {},
   "outputs": [],
   "source": [
    "manual_opt = ManualOptimiser(model=guassian_sequence_model(1, 10),\n",
    "                             n_designs=10)"
   ]
  },
  {
   "cell_type": "markdown",
   "metadata": {},
   "source": [
    "* We can print the optimiser object to help us remember what parameters we set."
   ]
  },
  {
   "cell_type": "code",
   "execution_count": 4,
   "metadata": {},
   "outputs": [
    {
     "name": "stdout",
     "output_type": "stream",
     "text": [
      "ManualOptimiser(model=BanditCasino(), n_designs=10, verbose=False)\n"
     ]
    }
   ],
   "source": [
    "print(manual_opt)"
   ]
  },
  {
   "cell_type": "markdown",
   "metadata": {},
   "source": [
    "* Follow Law and Kelton's advice and run 3 initial replications of each design."
   ]
  },
  {
   "cell_type": "code",
   "execution_count": 5,
   "metadata": {},
   "outputs": [],
   "source": [
    "manual_opt.simulate_designs(replications=3)"
   ]
  },
  {
   "cell_type": "markdown",
   "metadata": {},
   "source": [
    "The optimiser keeps track of the allocation of replications across each design.  For efficiency it doesn't store each individual observation, but it does compute a running mean and variance.\n",
    "\n",
    "* Let's have a look at the replication allocation between and results of each design."
   ]
  },
  {
   "cell_type": "code",
   "execution_count": 6,
   "metadata": {},
   "outputs": [
    {
     "data": {
      "text/plain": [
       "array([3, 3, 3, 3, 3, 3, 3, 3, 3, 3], dtype=int32)"
      ]
     },
     "execution_count": 6,
     "metadata": {},
     "output_type": "execute_result"
    }
   ],
   "source": [
    "manual_opt.allocations"
   ]
  },
  {
   "cell_type": "code",
   "execution_count": 7,
   "metadata": {},
   "outputs": [
    {
     "data": {
      "text/plain": [
       "array([0.9, 1.6, 3.5, 3.5, 4.1, 6.6, 6.3, 8.7, 9.1, 9.4])"
      ]
     },
     "execution_count": 7,
     "metadata": {},
     "output_type": "execute_result"
    }
   ],
   "source": [
    "np.set_printoptions(precision=1) # this is a hack to view at 1 decimal place.\n",
    "manual_opt.means"
   ]
  },
  {
   "cell_type": "code",
   "execution_count": 8,
   "metadata": {},
   "outputs": [
    {
     "data": {
      "text/plain": [
       "array([3.2, 1.5, 1.3, 0.6, 0.2, 1. , 0.1, 0.6, 0.8, 1. ])"
      ]
     },
     "execution_count": 8,
     "metadata": {},
     "output_type": "execute_result"
    }
   ],
   "source": [
    "#TM to do: this should be variances not sigmas\n",
    "manual_opt.sigmas"
   ]
  },
  {
   "cell_type": "markdown",
   "metadata": {},
   "source": [
    "Now let's run 1 additional replication of the top 3 designs. \n",
    "Note - in python arrays are **zero indexed**.  This means that design 1 has index 0."
   ]
  },
  {
   "cell_type": "code",
   "execution_count": 9,
   "metadata": {},
   "outputs": [],
   "source": [
    "manual_opt.simulate_designs(design_indexes=[7, 8, 9], replications=1)"
   ]
  },
  {
   "cell_type": "code",
   "execution_count": 10,
   "metadata": {},
   "outputs": [
    {
     "data": {
      "text/plain": [
       "array([3, 3, 3, 3, 3, 3, 3, 4, 4, 4], dtype=int32)"
      ]
     },
     "execution_count": 10,
     "metadata": {},
     "output_type": "execute_result"
    }
   ],
   "source": [
    "manual_opt.allocations"
   ]
  },
  {
   "cell_type": "code",
   "execution_count": 11,
   "metadata": {},
   "outputs": [],
   "source": [
    "manual_opt.simulate_designs(design_indexes=[7, 8, 9], replications=2)"
   ]
  },
  {
   "cell_type": "code",
   "execution_count": 12,
   "metadata": {},
   "outputs": [
    {
     "data": {
      "text/plain": [
       "array([0.9, 1.6, 3.5, 3.5, 4.1, 6.6, 6.3, 8.2, 8.8, 9.3])"
      ]
     },
     "execution_count": 12,
     "metadata": {},
     "output_type": "execute_result"
    }
   ],
   "source": [
    "manual_opt.means"
   ]
  },
  {
   "cell_type": "code",
   "execution_count": 13,
   "metadata": {},
   "outputs": [
    {
     "data": {
      "text/plain": [
       "array([3.2, 1.5, 1.3, 0.6, 0.2, 1. , 0.1, 0.6, 0.5, 0.4])"
      ]
     },
     "execution_count": 13,
     "metadata": {},
     "output_type": "execute_result"
    }
   ],
   "source": [
    "manual_opt.sigmas"
   ]
  },
  {
   "cell_type": "markdown",
   "metadata": {},
   "source": [
    "### Manual Optimisation of a model with unknown means."
   ]
  },
  {
   "cell_type": "markdown",
   "metadata": {},
   "source": [
    "Now have a go yourself.  This time create a model with random designs.  Run as many replications of each design as you think is neccessary to make a decision abouit which design is best.  Here we define best as the design with the largest mean value."
   ]
  },
  {
   "cell_type": "code",
   "execution_count": 14,
   "metadata": {},
   "outputs": [],
   "source": [
    "rnd_model = random_guassian_model(mean_low=5, mean_high=25, \n",
    "                                  var_low=0.5, var_high=2.5,\n",
    "                                  n_designs=10)\n",
    "\n",
    "manual_opt = ManualOptimiser(model=rnd_model, n_designs=10)"
   ]
  },
  {
   "cell_type": "code",
   "execution_count": 15,
   "metadata": {},
   "outputs": [],
   "source": [
    "#insert your code here...\n"
   ]
  },
  {
   "cell_type": "markdown",
   "metadata": {},
   "source": [
    "# Indifference Zone Ranking and Selection"
   ]
  },
  {
   "cell_type": "markdown",
   "metadata": {},
   "source": [
    "## Procedure **KN**\n",
    "The first Ranking and Selection (R&S) algorithm we will explore is **Procedure KN** developed by Kim and Nelson. This is an *Indifference Zone* (IZ) approach to R&S.  IZ procedures exploit the the idea that the performance of one or more of the sub-optimal designs are in fact so close to the best performing system that a user does not care which one is chosen (the decision maker is said to be *indifferent* to this choice).  To do this a user must specify a quantity $\\delta$.  Procedure KN provides a theorectical guarantee to select the best system or a system within $\\delta$ of the best with probability of $1 - \\alpha$.\n",
    "\n",
    "A key feature of KN is that it only estimates the variance of each design once.  This happens after an initial number of replications (specified by the user) $n_0$.  \n",
    "\n",
    "To run Kim and Nelson's R&S procedure KN, create an instance of `ovs.indifference_zone.KN`\n",
    "\n",
    "An object of type KN takes the following parameters:\n",
    "\n",
    "* **model** - a simulation model\n",
    "* **n_designs** - int, the number of competing designs to compare\n",
    "* **delta** - float, the indifference zone\n",
    "* **alpha** - float, $PCS = 1-\\alpha$ (default=0.05)\n",
    "* **n_0** - int, $n_0$ the number of initial replications (default=2)"
   ]
  },
  {
   "cell_type": "code",
   "execution_count": 17,
   "metadata": {},
   "outputs": [],
   "source": [
    "from ovs.indifference_zone import KN, KNPlusPlus"
   ]
  },
  {
   "cell_type": "markdown",
   "metadata": {},
   "source": [
    "### Example 1.  A simple sequence of normal distributions.\n",
    "\n",
    "The first problem test KN against is selecting the largest mean from a sequence of 10 normal distributions (means raning from 1 to 10) with unit variance.  We want a $PCS = 0.95$ and are indifference to designs that are within an average of 1.0 of the best.  \n",
    "\n",
    "We will follow Law's longstanding advise of setting $n_0 = 5$ i.e 5 initial replications of each design.\n",
    "\n",
    "#### Setting up KN"
   ]
  },
  {
   "cell_type": "code",
   "execution_count": 108,
   "metadata": {},
   "outputs": [],
   "source": [
    "n_designs = 10\n",
    "\n",
    "#first we create the simulation model. \n",
    "model = guassian_sequence_model(1, n_designs)\n",
    "\n",
    "#then we create the KN R&S object and pass in our parameters.\n",
    "#note that this doesn't run the optimisation yet.\n",
    "kn = KN(model=model, \n",
    "        n_designs=n_designs, \n",
    "        delta=1.0, \n",
    "        alpha=0.05, \n",
    "        n_0=5)"
   ]
  },
  {
   "cell_type": "markdown",
   "metadata": {},
   "source": [
    "#### Running KN\n",
    "Now that we have created the KN object we can run the solver at any time we choose.  To do this call the `KN.solve()` method.  This method returns a design within the indifference zone $(1 - alpha$) of the time."
   ]
  },
  {
   "cell_type": "code",
   "execution_count": 109,
   "metadata": {},
   "outputs": [
    {
     "name": "stdout",
     "output_type": "stream",
     "text": [
      "best design\t[9]\n",
      "allocations\t[ 5  5  5  5  5  5  5 10 18 19]\n",
      "total reps\t82\n"
     ]
    }
   ],
   "source": [
    "#this runs KN\n",
    "best_design = kn.solve()\n",
    "\n",
    "#print out the results\n",
    "print(f'best design\\t{best_design}')\n",
    "print(f'allocations\\t{kn._allocations}')\n",
    "print(f'total reps\\t{kn._allocations.sum()}')"
   ]
  },
  {
   "cell_type": "markdown",
   "metadata": {},
   "source": [
    "In general you should see that KN simulates the top 2-3 designs the most with the lower performing designs eliminated early on (possibly after the initial stage of replication)."
   ]
  },
  {
   "cell_type": "markdown",
   "metadata": {},
   "source": [
    "## Procedure **KN++**\n",
    "\n",
    "Kim and Nelson's KN++ procedure is an enhancement on KN.  KN++ introduces an **update** step that recalculates the variance of the differences between designs.  \n",
    "\n",
    "To run procedure KN++, create an instance of `ovs.indifference_zone.KNPlusPlus`\n",
    "\n",
    "### Example 2. Solving the simple problem using KN++\n",
    "\n",
    "We will run KN++ on the same simulation model as KN.  In general you should see that KN++ uses less replication to find a design within the indifference zone."
   ]
  },
  {
   "cell_type": "code",
   "execution_count": 110,
   "metadata": {},
   "outputs": [
    {
     "name": "stdout",
     "output_type": "stream",
     "text": [
      "best design\t[9]\n",
      "allocations\t[ 5  5  5  5  5  5  6  8 10 11]\n",
      "total reps\t65\n"
     ]
    }
   ],
   "source": [
    "knpp = KNPlusPlus(model=model, \n",
    "                  n_designs=n_designs, \n",
    "                  delta=1.0, \n",
    "                  alpha=0.05, \n",
    "                  n_0=5)\n",
    "\n",
    "best_design = knpp.solve()\n",
    "print(f'best design\\t{best_design}')\n",
    "print(f'allocations\\t{knpp._allocations}')\n",
    "print(f'total reps\\t{knpp._allocations.sum()}')"
   ]
  },
  {
   "cell_type": "markdown",
   "metadata": {},
   "source": [
    "## Exercise 1. Comparing KN and KN++ on a larger design.\n",
    "\n",
    "Your task is to compare KN and KN++ optimising a simulation model with 100 competing designs.  These designs are a sequence of 100 normal distributions with unit variance.  The objective is to find the design with the maximum mean.\n",
    "\n",
    "What do you notice about the replications required from each method?"
   ]
  },
  {
   "cell_type": "code",
   "execution_count": null,
   "metadata": {},
   "outputs": [],
   "source": [
    "#the code to set up the simulation model has been provided below.\n",
    "N_DESIGNS = 100\n",
    "DELTA = 1.0\n",
    "ALPHA = 0.05\n",
    "N_0 = 5\n",
    "\n",
    "#first we create the simulation model. \n",
    "model = guassian_sequence_model(1, N_DESIGNS)"
   ]
  },
  {
   "cell_type": "code",
   "execution_count": null,
   "metadata": {},
   "outputs": [],
   "source": [
    "#your code goes here...\n",
    "# hint 1. you need to create KN and KNPlusPlus object, pass in the simulation model and run them.  \n",
    "# hint 2. try running the models a few times.  \n",
    "\n"
   ]
  },
  {
   "cell_type": "markdown",
   "metadata": {},
   "source": [
    "## Exercise 2: A harder optimisation problem\n",
    "\n",
    "We will now explore how the IZ procedures perform on a slightly harder optimisation problem where the mean of the designs are closer together and have differing variances.\n",
    "\n",
    "The problem is: \n",
    "\n",
    "```python\n",
    "means = [4, 4.1, 4.2, 4, 4.1, 4.3, 4, 4.1, 4.2, 4.2]\n",
    "variances = [1, 1, 1, 0.1, 0.1, 10, 10, 10, 10, 0.1]\n",
    "```\n",
    "\n",
    "The 'optimal' mean design is at index 5 (4.3).  \n",
    "\n",
    "Your task is to compare the performance of KN and KN++ given the following parameters:\n",
    "\n",
    "```python\n",
    "N_DESIGNS = 10\n",
    "N_0 = 10\n",
    "DELTA = 0.15\n",
    "ALPHA = 0.05\n",
    "```\n",
    "\n",
    "Questions: \n",
    "* Which designs require the most replicatin effort?\n",
    "* Are there any differences in designs selected and the number of replications needed?\n",
    "* What happens if you try difference values of $n_0$ e.g. 20 and 50?\n",
    "* What happens if you change $\\alpha$ to 0.1? \n",
    "\n",
    "**RUNTIME WARNING!** This problem requires many more replications.  It will take a few seconds for the procedures to return a design."
   ]
  },
  {
   "cell_type": "code",
   "execution_count": 141,
   "metadata": {},
   "outputs": [
    {
     "name": "stdout",
     "output_type": "stream",
     "text": [
      "[2 5 8 9]\n"
     ]
    }
   ],
   "source": [
    "N_DESIGNS = 10\n",
    "N_0 = 20\n",
    "DELTA = 0.15\n",
    "ALPHA = 0.05\n",
    "\n",
    "means = [4, 4.1, 4.2, 4, 4.1, 4.3, 4, 4.1, 4.2, 4.2]\n",
    "variances = [1, 1, 1, 0.1, 0.1, 10, 10, 10, 10, 0.1]\n",
    "\n",
    "guass_model = custom_guassian_model(means, variances)\n",
    "\n",
    "#print out which design indexes are in the indifference zone\n",
    "print(np.where(4.3 - np.array(means) <= DELTA)[0])"
   ]
  },
  {
   "cell_type": "code",
   "execution_count": 142,
   "metadata": {},
   "outputs": [
    {
     "name": "stdout",
     "output_type": "stream",
     "text": [
      "best design\t[8]\n",
      "allocations\t[   83   759 10387    20    20    81 26453 32033 32034    20]\n",
      "total reps\t101890\n"
     ]
    }
   ],
   "source": [
    "kn = KN(model=guass_model, \n",
    "        n_designs=N_DESIGNS, \n",
    "        delta=DELTA, \n",
    "        alpha=ALPHA, \n",
    "        n_0=N_0)\n",
    "\n",
    "best_design = kn.solve()\n",
    "\n",
    "#print out the results\n",
    "print(f'best design\\t{best_design}')\n",
    "print(f'allocations\\t{kn._allocations}')\n",
    "print(f'total reps\\t{kn._allocations.sum()}')"
   ]
  },
  {
   "cell_type": "code",
   "execution_count": 143,
   "metadata": {},
   "outputs": [
    {
     "name": "stdout",
     "output_type": "stream",
     "text": [
      "best design\t[5]\n",
      "allocations\t[  122    77   270    20    20 44553  6909 27347 44552 15933]\n",
      "total reps\t139803\n"
     ]
    }
   ],
   "source": [
    "knpp = KNPlusPlus(model=guass_model, \n",
    "                  n_designs=N_DESIGNS, \n",
    "                  delta=DELTA, \n",
    "                  alpha=ALPHA, \n",
    "                  n_0=N_0)\n",
    "\n",
    "best_design = knpp.solve()\n",
    "\n",
    "#print out the results\n",
    "print(f'best design\\t{best_design}')\n",
    "print(f'allocations\\t{knpp._allocations}')\n",
    "print(f'total reps\\t{knpp._allocations.sum()}')"
   ]
  },
  {
   "cell_type": "markdown",
   "metadata": {},
   "source": [
    "## Optimal Computing Budget Allocation (OCBA)\n",
    "\n",
    "An object of type OCBA takes the following parameters:\n",
    "\n",
    "* **model** - a simulation model\n",
    "* **n_designs** - int, the number of competing designs to compare\n",
    "* **budget** - int, the total number of replications to allocate across designs\n",
    "* **delta** - int, the incremental amount of replications to allocate at each round\n",
    "* **n_0** - int, $n_0$ the number of initial replications (default=5)\n",
    "* **min** - bool, True if minimisation; False if maximisation (default=False)"
   ]
  },
  {
   "cell_type": "code",
   "execution_count": null,
   "metadata": {},
   "outputs": [],
   "source": [
    "from ovs.fixed_budget import OCBA, OCBAM"
   ]
  },
  {
   "cell_type": "code",
   "execution_count": null,
   "metadata": {},
   "outputs": [],
   "source": [
    "n_designs = 10\n",
    "guass_model = guassian_sequence_model(1, n_designs)\n",
    "\n",
    "rnd_model = random_guassian_model(mean_low=5, mean_high=25, \n",
    "                                  var_low=0.5, var_high=2.5,\n",
    "                                  n_designs=10)\n",
    "\n",
    "ocba = OCBA(model=rnd_model, \n",
    "            n_designs=n_designs, \n",
    "            budget=500, \n",
    "            delta=5, \n",
    "            n_0=5, \n",
    "            obj='max')"
   ]
  },
  {
   "cell_type": "code",
   "execution_count": null,
   "metadata": {},
   "outputs": [],
   "source": [
    "print(ocba)"
   ]
  },
  {
   "cell_type": "markdown",
   "metadata": {},
   "source": [
    "call the `solve()` method to run the optimisation"
   ]
  },
  {
   "cell_type": "code",
   "execution_count": null,
   "metadata": {},
   "outputs": [],
   "source": [
    "results = ocba.solve()\n",
    "print('best design:\\t{}'.format(results))\n",
    "print('allocations:\\t{}'.format(ocba._allocations))\n",
    "print('total reps:\\t{}'.format(ocba._allocations.sum()))\n",
    "\n",
    "np.set_printoptions(precision=2)\n",
    "print('means:\\t\\t{0}'.format(ocba._means))\n",
    "print('vars:\\t\\t{0}'.format(ocba._vars))"
   ]
  },
  {
   "cell_type": "markdown",
   "metadata": {},
   "source": [
    "#### A harder problem..."
   ]
  },
  {
   "cell_type": "code",
   "execution_count": null,
   "metadata": {},
   "outputs": [],
   "source": [
    "#try varying the budget, delta and n_0.  What is the effect?\n",
    "#e.g try a budge\n",
    "\n",
    "means = [4, 4.1, 4.2, 4, 4.1, 4.2, 4, 4.1, 4.2, 4.3]\n",
    "variances = [1, 1, 1, 0.1, 0.1, 0.1, 10, 10, 10, 10]\n",
    "\n",
    "guass_model = custom_guassian_model(means, variances)\n",
    "\n",
    "ocba = OCBA(model=guass_model, \n",
    "            n_designs=n_designs, \n",
    "            budget=10000, \n",
    "            delta=5, \n",
    "            n_0=20, \n",
    "            obj='max')"
   ]
  },
  {
   "cell_type": "code",
   "execution_count": null,
   "metadata": {},
   "outputs": [],
   "source": [
    "ocba.reset()\n",
    "results = ocba.solve()\n",
    "print('best design:\\t{}'.format(results))\n",
    "print('allocations:\\t{}'.format(ocba._allocations))\n",
    "print('total reps:\\t{}'.format(ocba._allocations.sum()))\n",
    "\n",
    "\n",
    "np.set_printoptions(precision=2)\n",
    "print('means:\\t\\t{0}'.format(ocba._means))"
   ]
  },
  {
   "cell_type": "markdown",
   "metadata": {},
   "source": [
    "## Optimal Computing Budget Allocation Top M (OCBA-m)\n",
    "\n",
    "OCBA-m extended OCBA to identify the top m designs.  \n",
    "\n",
    "An object of type `OCBAM` takes the following parameters:\n",
    "\n",
    "* **model** - a simulation model\n",
    "* **n_designs** - int, the number of competing designs to compare\n",
    "* **budget** - int, the total number of replications to allocate across designs\n",
    "* **delta** - int, the incremental amount of replications to allocate at each round\n",
    "* **n_0** - int, $n_0$ the number of initial replications (default=5)\n",
    "* **m** - int, $m$ the number of top designs to return.  m must be >=2.  For m = 1 see OCBA.\n",
    "* **min** - bool, True if minimisation; False if maximisation (default=False)"
   ]
  },
  {
   "cell_type": "code",
   "execution_count": null,
   "metadata": {},
   "outputs": [],
   "source": [
    "n_designs = 10\n",
    "guass_model = guassian_sequence_model(1, n_designs+1)\n",
    "\n",
    "ocbam = OCBAM(model=guass_model, \n",
    "              n_designs=n_designs, \n",
    "              budget=500, \n",
    "              delta=5, \n",
    "              n_0=5, \n",
    "              m=2,\n",
    "              obj='max')"
   ]
  },
  {
   "cell_type": "code",
   "execution_count": null,
   "metadata": {},
   "outputs": [],
   "source": [
    "print(ocbam)"
   ]
  },
  {
   "cell_type": "code",
   "execution_count": null,
   "metadata": {},
   "outputs": [],
   "source": [
    "results = ocbam.solve()\n",
    "print('best designs:\\t{}'.format(np.sort(results)))\n",
    "print('allocations:\\t{}'.format(ocbam._allocations))\n",
    "print('total reps:\\t{}'.format(ocbam._allocations.sum()))\n",
    "\n",
    "np.set_printoptions(precision=2)\n",
    "print('means:\\t\\t{0}'.format(ocbam._means))\n",
    "print('vars:\\t\\t{0}'.format(ocbam._vars))\n",
    "print('SEs:\\t\\t{0}'.format(ocbam._ses))"
   ]
  },
  {
   "cell_type": "markdown",
   "metadata": {},
   "source": [
    "# Evaluation of the methods"
   ]
  },
  {
   "cell_type": "code",
   "execution_count": null,
   "metadata": {},
   "outputs": [],
   "source": [
    "from ovs.evaluation import Experiment"
   ]
  },
  {
   "cell_type": "code",
   "execution_count": null,
   "metadata": {},
   "outputs": [],
   "source": [
    "designs = guassian_bandit_sequence(1, 11)\n",
    "environment = BanditCasino(designs)\n",
    "\n",
    "kn = KN(model=environment, \n",
    "        n_designs=len(designs), \n",
    "        delta=0.1, \n",
    "        alpha=0.2, \n",
    "        n_0=5)\n",
    "\n",
    "exp = Experiment(env=environment, procedure=kn, best_index=9, replications=10)"
   ]
  },
  {
   "cell_type": "code",
   "execution_count": null,
   "metadata": {},
   "outputs": [],
   "source": [
    "results = exp.execute()"
   ]
  },
  {
   "cell_type": "code",
   "execution_count": null,
   "metadata": {},
   "outputs": [],
   "source": [
    "results.p_correct_selections"
   ]
  },
  {
   "cell_type": "code",
   "execution_count": null,
   "metadata": {},
   "outputs": [],
   "source": [
    "results.selections"
   ]
  },
  {
   "cell_type": "code",
   "execution_count": null,
   "metadata": {},
   "outputs": [],
   "source": [
    "results.correct_selections"
   ]
  },
  {
   "cell_type": "code",
   "execution_count": null,
   "metadata": {},
   "outputs": [],
   "source": [
    "designs = guassian_bandit_sequence(1, 101)\n",
    "environment = BanditCasino(designs)\n",
    "\n",
    "ocba = OCBA(model=environment, \n",
    "            n_designs=len(designs), \n",
    "            budget=200, \n",
    "            delta=10, \n",
    "            n_0=5, \n",
    "            min=False)\n",
    "\n",
    "exp = Experiment(env=environment, procedure=ocba, best_index=9, replications=50)"
   ]
  },
  {
   "cell_type": "code",
   "execution_count": null,
   "metadata": {},
   "outputs": [],
   "source": [
    "results = exp.execute()"
   ]
  },
  {
   "cell_type": "code",
   "execution_count": null,
   "metadata": {},
   "outputs": [],
   "source": [
    "results.p_correct_selections"
   ]
  },
  {
   "cell_type": "code",
   "execution_count": null,
   "metadata": {},
   "outputs": [],
   "source": [
    "results.selections"
   ]
  },
  {
   "cell_type": "code",
   "execution_count": null,
   "metadata": {},
   "outputs": [],
   "source": [
    "results.correct_selections"
   ]
  },
  {
   "cell_type": "markdown",
   "metadata": {},
   "source": [
    "## Try different budgets"
   ]
  },
  {
   "cell_type": "code",
   "execution_count": null,
   "metadata": {},
   "outputs": [],
   "source": [
    "from ovs.evaluation import GridExperiment"
   ]
  },
  {
   "cell_type": "code",
   "execution_count": null,
   "metadata": {},
   "outputs": [],
   "source": [
    "designs = guassian_bandit_sequence(1, 11)\n",
    "environment = BanditCasino(designs)\n",
    "\n",
    "param_grid = {'model':[environment],\n",
    "              'budget':[100, 200, 300, 400, 500], \n",
    "              'n_designs':[len(designs)],\n",
    "              'delta':[1, 5,10],\n",
    "              'n_0':[1, 5],\n",
    "              'min':[False]\n",
    "              }\n",
    "\n",
    "\n",
    "exp = GridExperiment(agent=ocba, \n",
    "                     environment=environment, \n",
    "                     param_grid=param_grid,\n",
    "                     best_index=9,\n",
    "                     replications=1000)"
   ]
  },
  {
   "cell_type": "code",
   "execution_count": null,
   "metadata": {},
   "outputs": [],
   "source": [
    "results = exp.fit()"
   ]
  },
  {
   "cell_type": "code",
   "execution_count": null,
   "metadata": {},
   "outputs": [],
   "source": [
    "results"
   ]
  }
 ],
 "metadata": {
  "kernelspec": {
   "display_name": "Python 3",
   "language": "python",
   "name": "python3"
  },
  "language_info": {
   "codemirror_mode": {
    "name": "ipython",
    "version": 3
   },
   "file_extension": ".py",
   "mimetype": "text/x-python",
   "name": "python",
   "nbconvert_exporter": "python",
   "pygments_lexer": "ipython3",
   "version": "3.7.4"
  }
 },
 "nbformat": 4,
 "nbformat_minor": 4
}
